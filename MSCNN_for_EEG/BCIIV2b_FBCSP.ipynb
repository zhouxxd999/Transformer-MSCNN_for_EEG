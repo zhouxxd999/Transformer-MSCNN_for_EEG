{
 "cells": [
  {
   "cell_type": "code",
   "execution_count": 1,
   "metadata": {},
   "outputs": [],
   "source": [
    "import mne\n",
    "import matplotlib.pyplot as plt\n",
    "import numpy as np\n",
    "import MY_bcilib as mybci"
   ]
  },
  {
   "cell_type": "markdown",
   "metadata": {},
   "source": [
    "## **<font color = yellow>文件读取载入预处理</font>**"
   ]
  },
  {
   "cell_type": "markdown",
   "metadata": {},
   "source": [
    "### **<font color = carmine>创建EPOCH文件</font>**"
   ]
  },
  {
   "cell_type": "code",
   "execution_count": 2,
   "metadata": {},
   "outputs": [
    {
     "data": {
      "text/plain": [
       "\"\\nread_raw_filename = 'data/B0101T.gdf'\\nsave_epo_filename = 'data/B0101T_epo.fif'\\n\\nraw = mne.io.read_raw_gdf(read_raw_filename, preload=True)\\n\\nraw.drop_channels(['EOG:ch01','EOG:ch02','EOG:ch03'])\\n\\n# 768 --- start a trial\\ncustom_mapping = {'768':2}\\n(events_from_annot,event_dict) = mne.events_from_annotations(raw, event_id=custom_mapping)\\n#  3s开始为时间cue\\nraw_epochs = mne.Epochs(raw, events=events_from_annot, event_id=event_dict,proj=True,baseline=(None, 0), preload=True,tmin=-0.5,tmax=7)\\n\\nevoked = raw_epochs.average()\\nevoked.plot(time_unit='s')\\n\\nraw_epochs.save(save_epo_filename)\\n\""
      ]
     },
     "execution_count": 2,
     "metadata": {},
     "output_type": "execute_result"
    }
   ],
   "source": [
    "'''\n",
    "read_raw_filename = 'data/B0101T.gdf'\n",
    "save_epo_filename = 'data/B0101T_epo.fif'\n",
    "\n",
    "raw = mne.io.read_raw_gdf(read_raw_filename, preload=True)\n",
    "\n",
    "raw.drop_channels(['EOG:ch01','EOG:ch02','EOG:ch03'])\n",
    "\n",
    "# 768 --- start a trial\n",
    "custom_mapping = {'768':2}\n",
    "(events_from_annot,event_dict) = mne.events_from_annotations(raw, event_id=custom_mapping)\n",
    "#  3s开始为时间cue\n",
    "raw_epochs = mne.Epochs(raw, events=events_from_annot, event_id=event_dict,proj=True,baseline=(None, 0), preload=True,tmin=-0.5,tmax=7)\n",
    "\n",
    "evoked = raw_epochs.average()\n",
    "evoked.plot(time_unit='s')\n",
    "\n",
    "raw_epochs.save(save_epo_filename)\n",
    "'''"
   ]
  },
  {
   "cell_type": "markdown",
   "metadata": {},
   "source": [
    "### **<font color = carmine>测试集数据标签读取</font>**"
   ]
  },
  {
   "cell_type": "code",
   "execution_count": 3,
   "metadata": {},
   "outputs": [],
   "source": [
    "from scipy.io import loadmat\n",
    " \n",
    "raw_label_data = loadmat('data/B0104E.mat')\n",
    "B0104E_label = raw_label_data['classlabel']\n",
    "\n",
    "raw_label_data = loadmat('data/B0105E.mat')\n",
    "B0105E_label = raw_label_data['classlabel']"
   ]
  },
  {
   "cell_type": "code",
   "execution_count": 156,
   "metadata": {},
   "outputs": [
    {
     "name": "stdout",
     "output_type": "stream",
     "text": [
      "(320,)\n"
     ]
    }
   ],
   "source": [
    "test_label = np.concatenate((B0104E_label,B0105E_label))\n",
    "\n",
    "test_label = np.array(test_label,dtype=np.float32) - 1\n",
    "test_label = test_label.reshape(-1,)\n",
    "\n",
    "print(test_label.shape)"
   ]
  },
  {
   "cell_type": "markdown",
   "metadata": {},
   "source": [
    "### **<font color = carmine>读取测试数据epochs</font>**\n",
    "采样率250hz   测试数据从-0.5-7s数据，cue开始时间为3s ,考虑的数据长度为 -3.5-7s"
   ]
  },
  {
   "cell_type": "code",
   "execution_count": 5,
   "metadata": {},
   "outputs": [],
   "source": [
    "sample_rate = 250\n",
    "base_time = -0.5\n",
    "cue_time = 3\n",
    "\n",
    "cue_start = int((cue_time - base_time) * sample_rate)"
   ]
  },
  {
   "cell_type": "code",
   "execution_count": 6,
   "metadata": {},
   "outputs": [
    {
     "name": "stdout",
     "output_type": "stream",
     "text": [
      "Reading e:\\19_BCIexperiment\\02_CodeTest\\MNE_TEST\\data\\B0104E_epo.fif ...\n",
      "Isotrak not found\n",
      "    Found the data of interest:\n",
      "        t =    -500.00 ...    7000.00 ms\n",
      "        0 CTF compensation matrices available\n",
      "Not setting metadata\n",
      "Not setting metadata\n",
      "160 matching events found\n",
      "No baseline correction applied\n",
      "0 projection items activated\n"
     ]
    }
   ],
   "source": [
    "B104E_epochs = mne.read_epochs('data/B0104E_epo.fif')\n",
    "B104E_data = B104E_epochs.get_data()\n",
    "B104E_data = B104E_data[:,:,cue_start:]"
   ]
  },
  {
   "cell_type": "code",
   "execution_count": 7,
   "metadata": {},
   "outputs": [
    {
     "name": "stdout",
     "output_type": "stream",
     "text": [
      "Reading e:\\19_BCIexperiment\\02_CodeTest\\MNE_TEST\\data\\B0105E_epo.fif ...\n",
      "Isotrak not found\n",
      "    Found the data of interest:\n",
      "        t =    -500.00 ...    7000.00 ms\n",
      "        0 CTF compensation matrices available\n",
      "Not setting metadata\n",
      "Not setting metadata\n",
      "160 matching events found\n",
      "No baseline correction applied\n",
      "0 projection items activated\n"
     ]
    }
   ],
   "source": [
    "B105E_epochs = mne.read_epochs('data/B0105E_epo.fif')\n",
    "B105E_data = B105E_epochs.get_data()\n",
    "B105E_data = B105E_data[:,:,cue_start:]"
   ]
  },
  {
   "cell_type": "code",
   "execution_count": 8,
   "metadata": {},
   "outputs": [
    {
     "name": "stdout",
     "output_type": "stream",
     "text": [
      "(320, 3, 1001)\n"
     ]
    }
   ],
   "source": [
    "test_data = np.concatenate((B104E_data,B105E_data))\n",
    "print(test_data.shape)"
   ]
  },
  {
   "cell_type": "markdown",
   "metadata": {},
   "source": [
    "### **<font color = carmine>读取训练集数据以及标签</font>**"
   ]
  },
  {
   "cell_type": "markdown",
   "metadata": {},
   "source": [
    "读取训练集标签"
   ]
  },
  {
   "cell_type": "code",
   "execution_count": 9,
   "metadata": {},
   "outputs": [],
   "source": [
    "raw_label_data = loadmat('data/B0101T.mat')\n",
    "B0101T_label = raw_label_data['classlabel']\n",
    "\n",
    "raw_label_data = loadmat('data/B0102T.mat')\n",
    "B0102T_label = raw_label_data['classlabel']\n",
    "\n",
    "raw_label_data = loadmat('data/B0103T.mat')\n",
    "B0103T_label = raw_label_data['classlabel']"
   ]
  },
  {
   "cell_type": "code",
   "execution_count": 155,
   "metadata": {},
   "outputs": [
    {
     "name": "stdout",
     "output_type": "stream",
     "text": [
      "(400,)\n"
     ]
    }
   ],
   "source": [
    "train_label = np.concatenate((B0101T_label,B0102T_label))\n",
    "train_label = np.concatenate((train_label,B0103T_label))\n",
    "\n",
    "train_label = np.array(train_label,dtype=np.float32) - 1\n",
    "train_label = train_label.reshape(-1,)\n",
    "\n",
    "print(train_label.shape)\n"
   ]
  },
  {
   "cell_type": "markdown",
   "metadata": {},
   "source": [
    "读取训练集数据"
   ]
  },
  {
   "cell_type": "code",
   "execution_count": 11,
   "metadata": {},
   "outputs": [
    {
     "name": "stdout",
     "output_type": "stream",
     "text": [
      "Reading e:\\19_BCIexperiment\\02_CodeTest\\MNE_TEST\\data\\B0101T_epo.fif ...\n",
      "Isotrak not found\n",
      "    Found the data of interest:\n",
      "        t =    -500.00 ...    7000.00 ms\n",
      "        0 CTF compensation matrices available\n",
      "Not setting metadata\n",
      "Not setting metadata\n",
      "120 matching events found\n",
      "No baseline correction applied\n",
      "0 projection items activated\n",
      "(120, 3, 1001)\n"
     ]
    }
   ],
   "source": [
    "B101T_epochs = mne.read_epochs('data/B0101T_epo.fif')\n",
    "B101T_data = B101T_epochs.get_data()\n",
    "B101T_data = B101T_data[:,:,cue_start:]\n",
    "print(B101T_data.shape)"
   ]
  },
  {
   "cell_type": "code",
   "execution_count": 12,
   "metadata": {},
   "outputs": [
    {
     "name": "stdout",
     "output_type": "stream",
     "text": [
      "Reading e:\\19_BCIexperiment\\02_CodeTest\\MNE_TEST\\data\\B0102T_epo.fif ...\n",
      "Isotrak not found\n",
      "    Found the data of interest:\n",
      "        t =    -500.00 ...    7000.00 ms\n",
      "        0 CTF compensation matrices available\n",
      "Not setting metadata\n",
      "Not setting metadata\n",
      "120 matching events found\n",
      "No baseline correction applied\n",
      "0 projection items activated\n",
      "(120, 3, 1001)\n"
     ]
    }
   ],
   "source": [
    "B102T_epochs = mne.read_epochs('data/B0102T_epo.fif')\n",
    "B102T_data = B102T_epochs.get_data()\n",
    "B102T_data = B102T_data[:,:,cue_start:]\n",
    "print(B102T_data.shape)"
   ]
  },
  {
   "cell_type": "code",
   "execution_count": 13,
   "metadata": {},
   "outputs": [
    {
     "name": "stdout",
     "output_type": "stream",
     "text": [
      "Reading e:\\19_BCIexperiment\\02_CodeTest\\MNE_TEST\\data\\B0103T_epo.fif ...\n",
      "Isotrak not found\n",
      "    Found the data of interest:\n",
      "        t =    -500.00 ...    7000.00 ms\n",
      "        0 CTF compensation matrices available\n",
      "Not setting metadata\n",
      "Not setting metadata\n",
      "160 matching events found\n",
      "No baseline correction applied\n",
      "0 projection items activated\n"
     ]
    }
   ],
   "source": [
    "B103T_epochs = mne.read_epochs('data/B0103T_epo.fif')\n",
    "B103T_data = B103T_epochs.get_data()\n",
    "B103T_data = B103T_data[:,:,cue_start:]"
   ]
  },
  {
   "cell_type": "code",
   "execution_count": 14,
   "metadata": {},
   "outputs": [
    {
     "name": "stdout",
     "output_type": "stream",
     "text": [
      "(400, 3, 1001)\n"
     ]
    }
   ],
   "source": [
    "train_data = np.concatenate((B101T_data,B102T_data))\n",
    "train_data = np.concatenate((train_data,B103T_data))\n",
    "print(train_data.shape)"
   ]
  },
  {
   "cell_type": "code",
   "execution_count": 15,
   "metadata": {},
   "outputs": [],
   "source": []
  },
  {
   "cell_type": "code",
   "execution_count": 16,
   "metadata": {},
   "outputs": [
    {
     "name": "stdout",
     "output_type": "stream",
     "text": [
      "class 1 train data shape :  (200, 3, 1001)\n",
      "class 2 train data shape :  (200, 3, 1001)\n"
     ]
    }
   ],
   "source": [
    "train_cls1_data = train_data[train_label==0,:,:]\n",
    "train_cls2_data = train_data[train_label==1,:,:]\n",
    "print('class 1 train data shape : ',train_cls1_data.shape)\n",
    "print('class 2 train data shape : ',train_cls2_data.shape)"
   ]
  },
  {
   "cell_type": "markdown",
   "metadata": {},
   "source": [
    "## **<font color = yellow>信号预处理</font>**"
   ]
  },
  {
   "cell_type": "markdown",
   "metadata": {},
   "source": [
    "### **<font color = carmine>band-pass带通滤波</font>**"
   ]
  },
  {
   "cell_type": "markdown",
   "metadata": {},
   "source": [
    "划分为7个频带   频带间隔4hz，起始频率为4hz ， 4-32hz 共7个频带"
   ]
  },
  {
   "cell_type": "code",
   "execution_count": 136,
   "metadata": {},
   "outputs": [
    {
     "name": "stdout",
     "output_type": "stream",
     "text": [
      "trials_filter shape  (400, 3, 1001)\n",
      "trials_filter shape  (320, 3, 1001)\n",
      "trials_filter shape  (400, 3, 1001)\n",
      "trials_filter shape  (320, 3, 1001)\n",
      "trials_filter shape  (400, 3, 1001)\n",
      "trials_filter shape  (320, 3, 1001)\n",
      "trials_filter shape  (400, 3, 1001)\n",
      "trials_filter shape  (320, 3, 1001)\n",
      "trials_filter shape  (400, 3, 1001)\n",
      "trials_filter shape  (320, 3, 1001)\n",
      "trials_filter shape  (400, 3, 1001)\n",
      "trials_filter shape  (320, 3, 1001)\n",
      "trials_filter shape  (400, 3, 1001)\n",
      "trials_filter shape  (320, 3, 1001)\n"
     ]
    }
   ],
   "source": [
    "fre_band_num = 7\n",
    "freband_train_data = np.zeros((fre_band_num,train_data.shape[0],train_data.shape[1],train_data.shape[2]))\n",
    "freband_test_data = np.zeros((fre_band_num,test_data.shape[0],test_data.shape[1],test_data.shape[2]))\n",
    "\n",
    "\n",
    "start_fre = 4\n",
    "fre_stride = 4\n",
    "for i in range(fre_band_num):\n",
    "    s = start_fre + i * fre_stride\n",
    "    e = s + fre_stride\n",
    "    freband_train_data[i,:,:,:] = mybci.band_pass(trials = train_data,lo = s,hi = e,sample_rate = 250)\n",
    "    freband_test_data[i,:,:,:] = mybci.band_pass(trials = test_data,lo = s,hi = e,sample_rate = 250)\n",
    "\n"
   ]
  },
  {
   "cell_type": "markdown",
   "metadata": {},
   "source": [
    "## **<font color = yellow>特征提取</font>**"
   ]
  },
  {
   "cell_type": "code",
   "execution_count": 18,
   "metadata": {},
   "outputs": [
    {
     "name": "stdout",
     "output_type": "stream",
     "text": [
      "两类的特征值lambda:\n",
      " [0.52209723 0.50443012 0.49427262]\n",
      "Sb value is  [[ 0.49714184  0.01266042  0.0015625 ]\n",
      " [ 0.01266042  0.48704438 -0.0026816 ]\n",
      " [ 0.0015625  -0.0026816   0.49501381]]\n",
      "reverse Sb value is  [[ 0.49714184  0.01266042  0.0015625 ]\n",
      " [ 0.01266042  0.48704438 -0.0026816 ]\n",
      " [ 0.0015625  -0.0026816   0.49501381]]\n",
      "------------------------\n",
      "两类的特征值lambda:\n",
      " [0.57727606 0.50039065 0.37518374]\n",
      "Sb value is  [[0.52612111 0.05250871 0.02910025]\n",
      " [0.05250871 0.58988052 0.02051139]\n",
      " [0.02910025 0.02051139 0.43114792]]\n",
      "reverse Sb value is  [[0.52612111 0.05250871 0.02910025]\n",
      " [0.05250871 0.58988052 0.02051139]\n",
      " [0.02910025 0.02051139 0.43114792]]\n",
      "------------------------\n",
      "两类的特征值lambda:\n",
      " [0.5473407  0.48740941 0.47303592]\n",
      "Sb value is  [[ 0.49800284  0.02486919  0.01810597]\n",
      " [ 0.02486919  0.50264038 -0.02400113]\n",
      " [ 0.01810597 -0.02400113  0.49157076]]\n",
      "reverse Sb value is  [[ 0.49800284  0.02486919  0.01810597]\n",
      " [ 0.02486919  0.50264038 -0.02400113]\n",
      " [ 0.01810597 -0.02400113  0.49157076]]\n",
      "------------------------\n",
      "两类的特征值lambda:\n",
      " [0.51223344 0.50005216 0.45274139]\n",
      "Sb value is  [[ 0.5229289   0.02663585 -0.00242229]\n",
      " [ 0.02663585  0.51496899 -0.00984895]\n",
      " [-0.00242229 -0.00984895  0.49707511]]\n",
      "reverse Sb value is  [[ 0.5229289   0.02663585 -0.00242229]\n",
      " [ 0.02663585  0.51496899 -0.00984895]\n",
      " [-0.00242229 -0.00984895  0.49707511]]\n",
      "------------------------\n",
      "两类的特征值lambda:\n",
      " [0.55974279 0.52503072 0.41911394]\n",
      "Sb value is  [[0.54907354 0.05045909 0.01534688]\n",
      " [0.05045909 0.47616839 0.02598386]\n",
      " [0.01534688 0.02598386 0.47087063]]\n",
      "reverse Sb value is  [[0.54907354 0.05045909 0.01534688]\n",
      " [0.05045909 0.47616839 0.02598386]\n",
      " [0.01534688 0.02598386 0.47087063]]\n",
      "------------------------\n",
      "两类的特征值lambda:\n",
      " [0.53792871 0.50606201 0.48971166]\n",
      "Sb value is  [[0.48937746 0.00344491 0.02273817]\n",
      " [0.00344491 0.49586475 0.00415725]\n",
      " [0.02273817 0.00415725 0.48105541]]\n",
      "reverse Sb value is  [[0.48937746 0.00344491 0.02273817]\n",
      " [0.00344491 0.49586475 0.00415725]\n",
      " [0.02273817 0.00415725 0.48105541]]\n",
      "------------------------\n",
      "两类的特征值lambda:\n",
      " [0.52298276 0.49692744 0.48422963]\n",
      "Sb value is  [[ 0.48857421 -0.01356643  0.00483966]\n",
      " [-0.01356643  0.50319137  0.01034196]\n",
      " [ 0.00483966  0.01034196  0.50409459]]\n",
      "reverse Sb value is  [[ 0.48857421 -0.01356643  0.00483966]\n",
      " [-0.01356643  0.50319137  0.01034196]\n",
      " [ 0.00483966  0.01034196  0.50409459]]\n",
      "------------------------\n"
     ]
    }
   ],
   "source": [
    "CSP_W = np.zeros((fre_band_num,3,3))\n",
    "\n",
    "freband_train_data_cls1 = freband_train_data[:,train_label==0,:,:]\n",
    "freband_train_data_cls2 = freband_train_data[:,train_label==1,:,:]\n",
    "\n",
    "for i in range(fre_band_num):\n",
    "    CSP_W[i,:,:] = mybci.cal_W(freband_train_data_cls1[i,:,:,:],freband_train_data_cls2[i,:,:,:])\n",
    "\n"
   ]
  },
  {
   "cell_type": "markdown",
   "metadata": {},
   "source": [
    "训练集CSP特征提取"
   ]
  },
  {
   "cell_type": "code",
   "execution_count": 138,
   "metadata": {},
   "outputs": [
    {
     "name": "stdout",
     "output_type": "stream",
     "text": [
      "freband_train_csp_var shape : (7, 400, 3)\n",
      "freband_train_csp_feat shape : (7, 400, 2)\n"
     ]
    }
   ],
   "source": [
    "freband_train_csp_var =  np.zeros((fre_band_num,train_data.shape[0],train_data.shape[1]))\n",
    "freband_train_raw_var =  np.zeros((fre_band_num,train_data.shape[0],train_data.shape[1]))\n",
    "\n",
    "for i in range(fre_band_num):\n",
    "    freband_train_csp_var[i,:,:] = abs(mybci.logvar(mybci.apply_mix(CSP_W[i,:,:],freband_train_data[i,:,:,:])))\n",
    "    freband_train_raw_var[i,:,:] = abs(mybci.logvar(freband_train_data[i,:,:,:]))\n",
    "\n",
    "print('freband_train_csp_var shape :',freband_train_csp_var.shape)\n",
    "\n",
    "\n",
    "freband_train_csp_feat = np.zeros((fre_band_num,train_data.shape[0],2))\n",
    "\n",
    "for i in range(fre_band_num):\n",
    "    _ , freband_train_csp_feat[i,:,:] = mybci.cal_csp_feature(freband_train_csp_var[i,:,:],fea_num=[0,-1])\n",
    "\n",
    "print('freband_train_csp_feat shape :',freband_train_csp_feat.shape)"
   ]
  },
  {
   "cell_type": "code",
   "execution_count": 140,
   "metadata": {},
   "outputs": [],
   "source": [
    "freband_train_csp_feat_conb = np.zeros((train_data.shape[0],2))\n",
    "\n",
    "freband_train_csp_feat_conb = freband_train_csp_feat[0,:,:]\n",
    "for i in range(6):\n",
    "    freband_train_csp_feat_conb = np.concatenate((freband_train_csp_feat_conb,freband_train_csp_feat[i+1,:,:]),axis=1)"
   ]
  },
  {
   "cell_type": "markdown",
   "metadata": {},
   "source": [
    "测试集CSP特征提取"
   ]
  },
  {
   "cell_type": "code",
   "execution_count": 139,
   "metadata": {},
   "outputs": [
    {
     "name": "stdout",
     "output_type": "stream",
     "text": [
      "freband_train_csp_var shape : (7, 320, 3)\n",
      "freband_test_csp_feat shape : (7, 320, 2)\n"
     ]
    }
   ],
   "source": [
    "freband_test_csp_var =  np.zeros((fre_band_num,test_data.shape[0],test_data.shape[1]))\n",
    "\n",
    "for i in range(fre_band_num):\n",
    "    freband_test_csp_var[i,:,:] = abs(mybci.logvar(mybci.apply_mix(CSP_W[i,:,:],freband_test_data[i,:,:,:])))\n",
    "\n",
    "print('freband_train_csp_var shape :',freband_test_csp_var.shape)\n",
    "\n",
    "freband_test_csp_feat = np.zeros((fre_band_num,test_data.shape[0],2))\n",
    "\n",
    "for i in range(fre_band_num):\n",
    "    _ , freband_test_csp_feat[i,:,:] = mybci.cal_csp_feature(freband_test_csp_var[i,:,:],fea_num=[0,-1])\n",
    "\n",
    "print('freband_test_csp_feat shape :',freband_test_csp_feat.shape)"
   ]
  },
  {
   "cell_type": "code",
   "execution_count": 141,
   "metadata": {},
   "outputs": [],
   "source": [
    "freband_test_csp_feat_conb = np.zeros((test_data.shape[0],2))\n",
    "\n",
    "freband_test_csp_feat_conb = freband_test_csp_feat[0,:,:]\n",
    "for i in range(6):\n",
    "    freband_test_csp_feat_conb = np.concatenate((freband_test_csp_feat_conb,freband_test_csp_feat[i+1,:,:]),axis=1)"
   ]
  },
  {
   "cell_type": "markdown",
   "metadata": {},
   "source": [
    "数据分析：取两个csp特征"
   ]
  },
  {
   "cell_type": "code",
   "execution_count": 62,
   "metadata": {},
   "outputs": [
    {
     "name": "stdout",
     "output_type": "stream",
     "text": [
      "(3,)\n",
      "(3,)\n",
      "(3,)\n",
      "(3,)\n"
     ]
    },
    {
     "data": {
      "image/png": "[encoded data removed]",
      "text/plain": [
       "<Figure size 864x360 with 1 Axes>"
      ]
     },
     "metadata": {
      "needs_background": "light"
     },
     "output_type": "display_data"
    },
    {
     "data": {
      "image/png": "[encoded data removed]",
      "text/plain": [
       "<Figure size 864x360 with 1 Axes>"
      ]
     },
     "metadata": {
      "needs_background": "light"
     },
     "output_type": "display_data"
    }
   ],
   "source": [
    "freband_train_csp_var[1,0:5,:]\n",
    "\n",
    "mybci.plot_logvar(freband_train_csp_var[6,train_label==0,:],freband_train_csp_var[6,train_label==1,:])\n",
    "mybci.plot_logvar(freband_train_raw_var[6,train_label==0,:]/30,freband_train_raw_var[6,train_label==1,:]/30)"
   ]
  },
  {
   "cell_type": "code",
   "execution_count": 43,
   "metadata": {},
   "outputs": [
    {
     "data": {
      "text/plain": [
       "array([0, 1, 0, 1, 1], dtype=uint8)"
      ]
     },
     "execution_count": 43,
     "metadata": {},
     "output_type": "execute_result"
    }
   ],
   "source": [
    "train_label[0:5]"
   ]
  },
  {
   "cell_type": "code",
   "execution_count": 54,
   "metadata": {},
   "outputs": [
    {
     "data": {
      "text/plain": [
       "<matplotlib.collections.PathCollection at 0x1b84097abe0>"
      ]
     },
     "execution_count": 54,
     "metadata": {},
     "output_type": "execute_result"
    },
    {
     "data": {
      "image/png": "[encoded data removed]",
      "text/plain": [
       "<Figure size 432x288 with 1 Axes>"
      ]
     },
     "metadata": {
      "needs_background": "light"
     },
     "output_type": "display_data"
    }
   ],
   "source": [
    "plt.scatter(freband_train_csp_var[1,train_label==0,0],freband_train_csp_var[1,train_label==0,-1],c='r')\n",
    "plt.scatter(freband_train_csp_var[1,train_label==1,0],freband_train_csp_var[1,train_label==1,-1],c='b')"
   ]
  },
  {
   "cell_type": "markdown",
   "metadata": {},
   "source": [
    "### **<font color = carmine>分类器输出分类结果</font>**"
   ]
  },
  {
   "cell_type": "code",
   "execution_count": 143,
   "metadata": {},
   "outputs": [],
   "source": [
    "from sklearn.metrics import accuracy_score\n",
    "from sklearn.model_selection import cross_val_score\n",
    "from sklearn.svm import SVC\n",
    "from skfeature.function.statistical_based import f_score\n",
    "from sklearn.preprocessing import StandardScaler"
   ]
  },
  {
   "cell_type": "code",
   "execution_count": 109,
   "metadata": {},
   "outputs": [
    {
     "data": {
      "text/plain": [
       "\"\\ncorrect = 0\\nfor train, test in ss:\\n    # obtain the f-score of each feature\\n    scores = cross_val_score(clf, freband_train_csp_feat_conb, train_label, cv=10)\\n    #score = f_score.f_score(freband_train_csp_feat_conb, train_label)\\n\\n    # rank features in descending order according to score\\n    idx = f_score.feature_ranking(scores)\\n\\n    # obtain the dataset on the selected features\\n    selected_features = freband_train_csp_feat_conb[:, idx[0:num_fea]]\\n\\n    # train a classification model with the selected features on the training dataset\\n    clf.fit(selected_features[train], train_label[train])\\n\\n    # predict the class labels of test data\\n    y_predict = clf.predict(selected_features[test])\\n\\n    # obtain the classification accuracy on the test data\\n    acc = accuracy_score(train_label[test], y_predict)\\n    correct = correct + acc\\n\\n# output the average classification accuracy over all 10 folds\\nprint('Accuracy:', float(correct)/10)\\n\""
      ]
     },
     "execution_count": 109,
     "metadata": {},
     "output_type": "execute_result"
    }
   ],
   "source": [
    "'''\n",
    "n_samples = freband_train_csp_feat.shape[1]\n",
    "\n",
    "\n",
    "# perform evaluation on classification task\n",
    "num_fea = 14            # number of selected features\n",
    "clf = svm.LinearSVC()    # linear SVM\n",
    "\n",
    "clf.fit(freband_train_csp_feat_conb,train_label)\n",
    "\n",
    "\n",
    "scores = cross_val_score(clf, freband_train_csp_feat_conb, train_label, cv=10)\n",
    "\n",
    "score = f_score.f_score(freband_train_csp_feat_conb,train_label)\n",
    "\n",
    "\n",
    "correct = 0\n",
    "for train, test in ss:\n",
    "    # obtain the f-score of each feature\n",
    "    scores = cross_val_score(clf, freband_train_csp_feat_conb, train_label, cv=10)\n",
    "    #score = f_score.f_score(freband_train_csp_feat_conb, train_label)\n",
    "\n",
    "    # rank features in descending order according to score\n",
    "    idx = f_score.feature_ranking(scores)\n",
    "\n",
    "    # obtain the dataset on the selected features\n",
    "    selected_features = freband_train_csp_feat_conb[:, idx[0:num_fea]]\n",
    "\n",
    "    # train a classification model with the selected features on the training dataset\n",
    "    clf.fit(selected_features[train], train_label[train])\n",
    "\n",
    "    # predict the class labels of test data\n",
    "    y_predict = clf.predict(selected_features[test])\n",
    "\n",
    "    # obtain the classification accuracy on the test data\n",
    "    acc = accuracy_score(train_label[test], y_predict)\n",
    "    correct = correct + acc\n",
    "\n",
    "# output the average classification accuracy over all 10 folds\n",
    "print('Accuracy:', float(correct)/10)\n",
    "'''"
   ]
  },
  {
   "cell_type": "code",
   "execution_count": 159,
   "metadata": {},
   "outputs": [],
   "source": [
    "scaler = StandardScaler()\n",
    "scaler.fit(freband_train_csp_feat_conb)\n",
    "train_csp = scaler.transform(freband_train_csp_feat_conb)\n",
    "\n",
    "clf = SVC(gamma='auto')  #\n",
    "\n",
    "clf.fit(train_csp,train_label)\n",
    "\n",
    "acc = 1 - (np.sum(abs(clf.predict(train_csp) - train_label)) / freband_train_csp_feat_conb.shape[0])"
   ]
  },
  {
   "cell_type": "code",
   "execution_count": 160,
   "metadata": {},
   "outputs": [
    {
     "name": "stdout",
     "output_type": "stream",
     "text": [
      "训练集上面的分类准确度为 :  0.8049999999999999\n"
     ]
    }
   ],
   "source": [
    "\n",
    "acc = 1 - (np.sum(abs(clf.predict(train_csp) - train_label)) / freband_train_csp_feat_conb.shape[0])\n",
    "print('训练集上面的分类准确度为 : ',acc)"
   ]
  },
  {
   "cell_type": "markdown",
   "metadata": {},
   "source": [
    "## **<font color = yellow>测试集提取CSP，并且预测结果</font>**"
   ]
  },
  {
   "cell_type": "code",
   "execution_count": 161,
   "metadata": {},
   "outputs": [],
   "source": [
    "freband_test_csp_var =  np.zeros((fre_band_num,test_data.shape[0],test_data.shape[1]))\n",
    "\n",
    "for i in range(fre_band_num):\n",
    "    freband_test_csp_var[i,:,:] = abs(mybci.logvar(mybci.apply_mix(CSP_W[i,:,:],freband_test_data[i,:,:,:])))"
   ]
  },
  {
   "cell_type": "code",
   "execution_count": 162,
   "metadata": {},
   "outputs": [
    {
     "name": "stdout",
     "output_type": "stream",
     "text": [
      "测试集的预测准确率为: 0.640625\n"
     ]
    }
   ],
   "source": [
    "test_csp = scaler.transform(freband_test_csp_feat_conb)\n",
    "\n",
    "test_label = np.array(test_label,dtype=np.float32)\n",
    "test_acc = 1 - (np.sum(abs(clf.predict(test_csp) - test_label)) / freband_test_csp_feat_conb.shape[0])\n",
    "print('测试集的预测准确率为:',test_acc)"
   ]
  }
 ],
 "metadata": {
  "interpreter": {
   "hash": "42cea95c4a7cc38194441a937f73f8ad8a61eb030594c674f6ffb36372ba751c"
  },
  "kernelspec": {
   "display_name": "Python 3.8.12 ('ML_py38_CU')",
   "language": "python",
   "name": "python3"
  },
  "language_info": {
   "codemirror_mode": {
    "name": "ipython",
    "version": 3
   },
   "file_extension": ".py",
   "mimetype": "text/x-python",
   "name": "python",
   "nbconvert_exporter": "python",
   "pygments_lexer": "ipython3",
   "version": "3.8.12"
  },
  "orig_nbformat": 4
 },
 "nbformat": 4,
 "nbformat_minor": 2
}
