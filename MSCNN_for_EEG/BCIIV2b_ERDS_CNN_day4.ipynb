{
 "cells": [
  {
   "cell_type": "code",
   "execution_count": 1,
   "metadata": {},
   "outputs": [],
   "source": [
    "import numpy as np\n",
    "import matplotlib.pyplot as plt\n",
    "from matplotlib.colors import TwoSlopeNorm\n",
    "import pandas as pd\n",
    "import mne\n",
    "from mne.datasets import eegbci\n",
    "from mne.io import concatenate_raws, read_raw_edf\n",
    "from mne.time_frequency import tfr_multitaper\n",
    "from mne.stats import permutation_cluster_1samp_test as pcluster_test\n",
    "from scipy.io import loadmat"
   ]
  },
  {
   "cell_type": "code",
   "execution_count": 2,
   "metadata": {},
   "outputs": [],
   "source": [
    "subject = 3"
   ]
  },
  {
   "cell_type": "code",
   "execution_count": 3,
   "metadata": {},
   "outputs": [
    {
     "data": {
      "text/plain": [
       "\"\\nread_raw_filename = 'data/B0101T.gdf'\\nsave_epo_filename = 'data/B0101T_epo.fif'\\n\\nraw = mne.io.read_raw_gdf(read_raw_filename, preload=True)\\n\\nraw.drop_channels(['EOG:ch01','EOG:ch02','EOG:ch03'])\\n\\n# 768 --- start a trial\\ncustom_mapping = {'769':3,'770':4}\\n(events_from_annot,event_dict) = mne.events_from_annotations(raw, event_id=custom_mapping)\\n#  3s开始为时间cue\\nraw_epochs = mne.Epochs(raw, events=events_from_annot, event_id=event_dict,proj=True,baseline=(None, 0), preload=True,tmin=-2,tmax=6)\\n\\nevoked = raw_epochs.average()\\nevoked.plot(time_unit='s')\\n\\nraw_epochs.save(save_epo_filename)\\n\""
      ]
     },
     "execution_count": 3,
     "metadata": {},
     "output_type": "execute_result"
    }
   ],
   "source": [
    "'''\n",
    "read_raw_filename = 'data/B0101T.gdf'\n",
    "save_epo_filename = 'data/B0101T_epo.fif'\n",
    "\n",
    "raw = mne.io.read_raw_gdf(read_raw_filename, preload=True)\n",
    "\n",
    "raw.drop_channels(['EOG:ch01','EOG:ch02','EOG:ch03'])\n",
    "\n",
    "# 768 --- start a trial\n",
    "custom_mapping = {'769':3,'770':4}\n",
    "(events_from_annot,event_dict) = mne.events_from_annotations(raw, event_id=custom_mapping)\n",
    "#  3s开始为时间cue\n",
    "raw_epochs = mne.Epochs(raw, events=events_from_annot, event_id=event_dict,proj=True,baseline=(None, 0), preload=True,tmin=-2,tmax=6)\n",
    "\n",
    "evoked = raw_epochs.average()\n",
    "evoked.plot(time_unit='s')\n",
    "\n",
    "raw_epochs.save(save_epo_filename)\n",
    "'''"
   ]
  },
  {
   "cell_type": "markdown",
   "metadata": {},
   "source": [
    "训练集数据读取，tfr"
   ]
  },
  {
   "cell_type": "code",
   "execution_count": 4,
   "metadata": {},
   "outputs": [],
   "source": [
    "#时频图分析设置\n",
    "#截取的数据段为2s-7s的数据\n",
    "tmin = 2\n",
    "tmax = 7\n",
    "\n",
    "freqs = np.arange(2, 36)  # frequencies from 2-35Hz\n",
    "vmin, vmax = -1, 1.5  # set min and max ERDS values in plot\n",
    "baseline = [2, 3]  # baseline interval (in s)\n",
    "cnorm = TwoSlopeNorm(vmin=vmin, vcenter=0, vmax=vmax)  # min, center & max ERDS\n",
    "\n",
    "kwargs = dict(n_permutations=100, step_down_p=0.05, seed=1,\n",
    "              buffer_size=None, out_type='mask')  # for cluster test"
   ]
  },
  {
   "cell_type": "code",
   "execution_count": 5,
   "metadata": {},
   "outputs": [],
   "source": [
    "i=0"
   ]
  },
  {
   "cell_type": "code",
   "execution_count": 6,
   "metadata": {},
   "outputs": [
    {
     "name": "stdout",
     "output_type": "stream",
     "text": [
      "Reading e:\\19_BCIexperiment\\02_CodeTest\\MNE_TEST\\data\\B0301T_epo.fif ...\n",
      "Isotrak not found\n",
      "    Found the data of interest:\n",
      "        t =    -500.00 ...    7000.00 ms\n",
      "        0 CTF compensation matrices available\n",
      "Not setting metadata\n",
      "Not setting metadata\n",
      "120 matching events found\n",
      "No baseline correction applied\n",
      "0 projection items activated\n"
     ]
    }
   ],
   "source": [
    "filename = 'data/B0' + str(subject) + '0'+ str( i + 1) +'T_epo.fif'\n",
    "epochs = mne.read_epochs(filename)"
   ]
  },
  {
   "cell_type": "code",
   "execution_count": 7,
   "metadata": {},
   "outputs": [],
   "source": [
    "all_epoch_num = 400   #训练集共400个epoch\n",
    "all_test_epoch_num = 320   # 共320个epoch"
   ]
  },
  {
   "cell_type": "code",
   "execution_count": 8,
   "metadata": {},
   "outputs": [
    {
     "name": "stdout",
     "output_type": "stream",
     "text": [
      "Reading e:\\19_BCIexperiment\\02_CodeTest\\MNE_TEST\\data\\B0301T_epo.fif ...\n",
      "Isotrak not found\n",
      "    Found the data of interest:\n",
      "        t =    -500.00 ...    7000.00 ms\n",
      "        0 CTF compensation matrices available\n",
      "Not setting metadata\n",
      "Not setting metadata\n",
      "120 matching events found\n",
      "No baseline correction applied\n",
      "0 projection items activated\n",
      "Not setting metadata\n",
      "Applying baseline correction (mode: percent)\n",
      "Reading e:\\19_BCIexperiment\\02_CodeTest\\MNE_TEST\\data\\B0302T_epo.fif ...\n",
      "Isotrak not found\n",
      "    Found the data of interest:\n",
      "        t =    -500.00 ...    7000.00 ms\n",
      "        0 CTF compensation matrices available\n",
      "Not setting metadata\n",
      "Not setting metadata\n",
      "120 matching events found\n",
      "No baseline correction applied\n",
      "0 projection items activated\n",
      "Not setting metadata\n",
      "Applying baseline correction (mode: percent)\n",
      "Reading e:\\19_BCIexperiment\\02_CodeTest\\MNE_TEST\\data\\B0303T_epo.fif ...\n",
      "Isotrak not found\n",
      "    Found the data of interest:\n",
      "        t =    -500.00 ...    7000.00 ms\n",
      "        0 CTF compensation matrices available\n",
      "Not setting metadata\n",
      "Not setting metadata\n",
      "160 matching events found\n",
      "No baseline correction applied\n",
      "0 projection items activated\n",
      "Not setting metadata\n",
      "Applying baseline correction (mode: percent)\n"
     ]
    }
   ],
   "source": [
    "# trials * [(c3+c4)*freq] * timepoints \n",
    "TF_PIC = np.zeros((all_epoch_num,68,626))  \n",
    "\n",
    "epo_cnt = 0\n",
    "\n",
    "for i in range(3):\n",
    "    filename = 'data/B0' + str(subject) + '0'+ str( i + 1) +'T_epo.fif'\n",
    "    epochs = mne.read_epochs(filename)\n",
    "\n",
    "    #时频分析\n",
    "    tfr = tfr_multitaper(epochs, freqs=freqs, n_cycles=freqs, use_fft=True,\n",
    "                     return_itc=False, average=False, decim=2)\n",
    "    tfr.crop(tmin, tmax).apply_baseline(baseline, mode=\"percent\")\n",
    "\n",
    "    df = tfr.to_data_frame(time_format=None)\n",
    "\n",
    "    for epo in range(len(epochs)):\n",
    "        epoch_0 = df.loc[df['epoch'] == epo]\n",
    "        C3= epoch_0['EEG:C3']\n",
    "        C4= epoch_0['EEG:C4']\n",
    "        data = np.concatenate((C3.values.reshape(34,-1),C4.values.reshape(34,-1)))\n",
    "        \n",
    "        \n",
    "        TF_PIC[epo_cnt,:,:] = data\n",
    "        epo_cnt += 1"
   ]
  },
  {
   "cell_type": "markdown",
   "metadata": {},
   "source": [
    "读取训练集标签"
   ]
  },
  {
   "cell_type": "code",
   "execution_count": 9,
   "metadata": {},
   "outputs": [
    {
     "name": "stdout",
     "output_type": "stream",
     "text": [
      "(120, 1)\n",
      "120\n",
      "(120, 1)\n",
      "240\n",
      "(160, 1)\n",
      "400\n"
     ]
    }
   ],
   "source": [
    "train_label_r = np.zeros((all_epoch_num,1))\n",
    "\n",
    "cnt = 0\n",
    "for i in range(3):\n",
    "    filename = 'data/B0' + str(subject) + '0'+ str( i + 1) +'T.mat'\n",
    "    raw_label_data = loadmat(filename)\n",
    "    print( raw_label_data['classlabel'].shape)\n",
    "    train_label_r[cnt:cnt+len(raw_label_data['classlabel']),:] = raw_label_data['classlabel'] - 1 \n",
    "    cnt += len(raw_label_data['classlabel'])\n",
    "    print(cnt)\n",
    "    "
   ]
  },
  {
   "cell_type": "code",
   "execution_count": 10,
   "metadata": {},
   "outputs": [],
   "source": [
    "train_label_raw = np.zeros((all_epoch_num,2))\n",
    "\n",
    "for i in range(all_epoch_num):\n",
    "    if(train_label_r[i]==0):\n",
    "        train_label_raw[i,0] = 1\n",
    "    else:\n",
    "        train_label_raw[i,1] = 1"
   ]
  },
  {
   "cell_type": "code",
   "execution_count": 11,
   "metadata": {},
   "outputs": [
    {
     "data": {
      "text/plain": [
       "array([[1., 0.],\n",
       "       [0., 1.],\n",
       "       [1., 0.],\n",
       "       [0., 1.],\n",
       "       [0., 1.],\n",
       "       [1., 0.],\n",
       "       [1., 0.],\n",
       "       [0., 1.],\n",
       "       [1., 0.],\n",
       "       [0., 1.]])"
      ]
     },
     "execution_count": 11,
     "metadata": {},
     "output_type": "execute_result"
    }
   ],
   "source": [
    "train_label_raw[0:10,:]"
   ]
  },
  {
   "cell_type": "markdown",
   "metadata": {},
   "source": [
    "读取测试集数据"
   ]
  },
  {
   "cell_type": "code",
   "execution_count": 12,
   "metadata": {},
   "outputs": [
    {
     "name": "stdout",
     "output_type": "stream",
     "text": [
      "Reading e:\\19_BCIexperiment\\02_CodeTest\\MNE_TEST\\data\\B0304E_epo.fif ...\n",
      "Isotrak not found\n",
      "    Found the data of interest:\n",
      "        t =    -500.00 ...    7000.00 ms\n",
      "        0 CTF compensation matrices available\n",
      "Not setting metadata\n",
      "Not setting metadata\n",
      "160 matching events found\n",
      "No baseline correction applied\n",
      "0 projection items activated\n",
      "Not setting metadata\n",
      "Applying baseline correction (mode: percent)\n",
      "Reading e:\\19_BCIexperiment\\02_CodeTest\\MNE_TEST\\data\\B0305E_epo.fif ...\n",
      "Isotrak not found\n",
      "    Found the data of interest:\n",
      "        t =    -500.00 ...    7000.00 ms\n",
      "        0 CTF compensation matrices available\n",
      "Not setting metadata\n",
      "Not setting metadata\n",
      "160 matching events found\n",
      "No baseline correction applied\n",
      "0 projection items activated\n",
      "Not setting metadata\n",
      "Applying baseline correction (mode: percent)\n"
     ]
    }
   ],
   "source": [
    "# trials * [(c3+c4)*freq] * timepoints \n",
    "TF_TEST_PIC = np.zeros((all_test_epoch_num,68,626))  \n",
    "\n",
    "epo_cnt = 0\n",
    "\n",
    "for i in range(2):\n",
    "    filename = 'data/B0' + str(subject) + '0'+ str( i + 4) +'E_epo.fif'\n",
    "    epochs = mne.read_epochs(filename)\n",
    "\n",
    "    #时频分析\n",
    "    tfr = tfr_multitaper(epochs, freqs=freqs, n_cycles=freqs, use_fft=True,\n",
    "                     return_itc=False, average=False, decim=2)\n",
    "    tfr.crop(tmin, tmax).apply_baseline(baseline, mode=\"percent\")\n",
    "\n",
    "    df = tfr.to_data_frame(time_format=None)\n",
    "\n",
    "    for epo in range(len(epochs)):\n",
    "        epoch_0 = df.loc[df['epoch'] == epo]\n",
    "        C3= epoch_0['EEG:C3']\n",
    "        C4= epoch_0['EEG:C4']\n",
    "        data = np.concatenate((C3.values.reshape(34,-1),C4.values.reshape(34,-1)))\n",
    "        \n",
    "        \n",
    "        TF_TEST_PIC[epo_cnt,:,:] = data\n",
    "        epo_cnt += 1"
   ]
  },
  {
   "cell_type": "code",
   "execution_count": 13,
   "metadata": {},
   "outputs": [
    {
     "data": {
      "text/plain": [
       "320"
      ]
     },
     "execution_count": 13,
     "metadata": {},
     "output_type": "execute_result"
    }
   ],
   "source": [
    "epo_cnt"
   ]
  },
  {
   "cell_type": "markdown",
   "metadata": {},
   "source": [
    "读取测试集标签"
   ]
  },
  {
   "cell_type": "code",
   "execution_count": 14,
   "metadata": {},
   "outputs": [
    {
     "name": "stdout",
     "output_type": "stream",
     "text": [
      "(160, 1)\n",
      "160\n",
      "(160, 1)\n",
      "320\n"
     ]
    }
   ],
   "source": [
    "test_label_r = np.zeros((all_test_epoch_num,1))\n",
    "\n",
    "cnt = 0\n",
    "for i in range(2):\n",
    "    filename = 'data/B0' + str(subject) + '0'+ str(i+4) +'E.mat'\n",
    "    raw_label_data = loadmat(filename)\n",
    "    print( raw_label_data['classlabel'].shape)\n",
    "    test_label_r[cnt:cnt+len(raw_label_data['classlabel']),:] = raw_label_data['classlabel'] - 1\n",
    "    cnt += len(raw_label_data['classlabel'])\n",
    "    print(cnt)"
   ]
  },
  {
   "cell_type": "code",
   "execution_count": 15,
   "metadata": {},
   "outputs": [],
   "source": [
    "test_label_raw = np.zeros((all_test_epoch_num,2))\n",
    "\n",
    "for i in range(all_test_epoch_num):\n",
    "    if(test_label_r[i]==0):\n",
    "        test_label_raw[i,0] = 1\n",
    "    else:\n",
    "        test_label_raw[i,1] = 1"
   ]
  },
  {
   "cell_type": "code",
   "execution_count": 16,
   "metadata": {},
   "outputs": [
    {
     "data": {
      "text/plain": [
       "array([[1.],\n",
       "       [1.],\n",
       "       [0.],\n",
       "       [1.],\n",
       "       [1.],\n",
       "       [1.],\n",
       "       [0.],\n",
       "       [1.],\n",
       "       [0.],\n",
       "       [1.]])"
      ]
     },
     "execution_count": 16,
     "metadata": {},
     "output_type": "execute_result"
    }
   ],
   "source": [
    "test_label_r[0:10]"
   ]
  },
  {
   "cell_type": "code",
   "execution_count": 17,
   "metadata": {},
   "outputs": [
    {
     "data": {
      "text/plain": [
       "array([[0., 1.],\n",
       "       [0., 1.],\n",
       "       [1., 0.],\n",
       "       [0., 1.],\n",
       "       [0., 1.],\n",
       "       [0., 1.],\n",
       "       [1., 0.],\n",
       "       [0., 1.],\n",
       "       [1., 0.],\n",
       "       [0., 1.]])"
      ]
     },
     "execution_count": 17,
     "metadata": {},
     "output_type": "execute_result"
    }
   ],
   "source": [
    "test_label_raw[0:10,:]"
   ]
  },
  {
   "cell_type": "code",
   "execution_count": 18,
   "metadata": {},
   "outputs": [
    {
     "data": {
      "text/plain": [
       "'\\ntrain_label_raw = train_label_r\\ntest_label_raw = test_label_r\\n'"
      ]
     },
     "execution_count": 18,
     "metadata": {},
     "output_type": "execute_result"
    }
   ],
   "source": [
    "'''\n",
    "train_label_raw = train_label_r\n",
    "test_label_raw = test_label_r\n",
    "'''"
   ]
  },
  {
   "cell_type": "markdown",
   "metadata": {},
   "source": [
    "## 数据增强"
   ]
  },
  {
   "cell_type": "markdown",
   "metadata": {},
   "source": [
    "训练集数据增强"
   ]
  },
  {
   "cell_type": "code",
   "execution_count": 19,
   "metadata": {},
   "outputs": [],
   "source": [
    "pic_time = 10   # 10倍数据增强\n",
    "point_per_sec = int( 626 / 5 )  \n",
    "pic_base_start = 1 * point_per_sec\n",
    "pic_len = 3 * point_per_sec\n",
    "pic_stride = int(0.1 * point_per_sec)   #0.1s间隔\n",
    "\n",
    "\n",
    "train_pic_data_1 = np.zeros((int(all_epoch_num*pic_time),68,100))   # 68*100的图像\n",
    "for i in range(pic_time):\n",
    "    slice_start = pic_base_start+pic_stride*i\n",
    "    slice_end = slice_start + pic_len - 1\n",
    "    for j in range(all_epoch_num):\n",
    "        trial_num = i * all_epoch_num + j\n",
    "        x = np.linspace(slice_start,slice_end,100,dtype=np.int32)\n",
    "        train_pic_data_1[trial_num,:,:] = TF_PIC[j,:,x].T\n"
   ]
  },
  {
   "cell_type": "code",
   "execution_count": 20,
   "metadata": {},
   "outputs": [],
   "source": [
    "train_label = train_label_raw\n",
    "for i in range(pic_time-1):\n",
    "    train_label = np.concatenate((train_label,train_label_raw))"
   ]
  },
  {
   "cell_type": "code",
   "execution_count": 21,
   "metadata": {},
   "outputs": [
    {
     "data": {
      "text/plain": [
       "(4000, 2)"
      ]
     },
     "execution_count": 21,
     "metadata": {},
     "output_type": "execute_result"
    }
   ],
   "source": [
    "train_label.shape"
   ]
  },
  {
   "cell_type": "markdown",
   "metadata": {},
   "source": [
    "测试集数据增强"
   ]
  },
  {
   "cell_type": "code",
   "execution_count": 22,
   "metadata": {},
   "outputs": [],
   "source": [
    "test_pic_data_1 = np.zeros((int(all_test_epoch_num*pic_time),68,100))   # 68*100的图像\n",
    "for i in range(pic_time):\n",
    "    slice_start = pic_base_start+pic_stride*i\n",
    "    slice_end = slice_start + pic_len - 1\n",
    "    for j in range(all_test_epoch_num):\n",
    "        trial_num = i * all_test_epoch_num + j\n",
    "        x = np.linspace(slice_start,slice_end,100,dtype=np.int32)\n",
    "        test_pic_data_1[trial_num,:,:] = TF_TEST_PIC[j,:,x].T"
   ]
  },
  {
   "cell_type": "code",
   "execution_count": 23,
   "metadata": {},
   "outputs": [],
   "source": [
    "test_label = test_label_raw\n",
    "for i in range(pic_time-1):\n",
    "    test_label = np.concatenate((test_label,test_label_raw))"
   ]
  },
  {
   "cell_type": "code",
   "execution_count": 24,
   "metadata": {},
   "outputs": [
    {
     "data": {
      "text/plain": [
       "(3200, 2)"
      ]
     },
     "execution_count": 24,
     "metadata": {},
     "output_type": "execute_result"
    }
   ],
   "source": [
    "test_label.shape"
   ]
  },
  {
   "cell_type": "code",
   "execution_count": 25,
   "metadata": {},
   "outputs": [],
   "source": [
    "import cv2 as cv"
   ]
  },
  {
   "cell_type": "code",
   "execution_count": 26,
   "metadata": {},
   "outputs": [
    {
     "name": "stdout",
     "output_type": "stream",
     "text": [
      "train_pic_data shape:  (4000, 1, 224, 224)\n"
     ]
    }
   ],
   "source": [
    "train_pic_data = np.zeros((train_pic_data_1.shape[0],1,224,224))\n",
    "print('train_pic_data shape: ',train_pic_data.shape)\n",
    "for i in range(train_pic_data.shape[0]):\n",
    "    train_pic_data[i,:,:,:] = cv.resize(train_pic_data_1[i,:,:],(224, 224)).reshape(1,224,224)"
   ]
  },
  {
   "cell_type": "code",
   "execution_count": 27,
   "metadata": {},
   "outputs": [
    {
     "name": "stdout",
     "output_type": "stream",
     "text": [
      "test_pic_data shape:  (3200, 1, 224, 224)\n"
     ]
    }
   ],
   "source": [
    "test_pic_data = np.zeros((test_pic_data_1.shape[0],1,224,224))\n",
    "print('test_pic_data shape: ',test_pic_data.shape)\n",
    "for i in range(test_pic_data.shape[0]):\n",
    "    test_pic_data[i,:,:,:] = cv.resize(test_pic_data_1[i,:,:],(224, 224)).reshape(1,224,224)"
   ]
  },
  {
   "cell_type": "code",
   "execution_count": 28,
   "metadata": {},
   "outputs": [
    {
     "data": {
      "text/plain": [
       "<matplotlib.image.AxesImage at 0x20281682e20>"
      ]
     },
     "execution_count": 28,
     "metadata": {},
     "output_type": "execute_result"
    },
    {
     "data": {
      "image/png": "[encoded data removed]",
      "text/plain": [
       "<Figure size 432x288 with 1 Axes>"
      ]
     },
     "metadata": {
      "needs_background": "light"
     },
     "output_type": "display_data"
    }
   ],
   "source": [
    "plt.imshow(train_pic_data[4,0,:,:])"
   ]
  },
  {
   "cell_type": "code",
   "execution_count": 29,
   "metadata": {},
   "outputs": [
    {
     "data": {
      "text/plain": [
       "<matplotlib.image.AxesImage at 0x20283d5bb20>"
      ]
     },
     "execution_count": 29,
     "metadata": {},
     "output_type": "execute_result"
    },
    {
     "data": {
      "image/png": "[encoded data removed]",
      "text/plain": [
       "<Figure size 432x288 with 1 Axes>"
      ]
     },
     "metadata": {
      "needs_background": "light"
     },
     "output_type": "display_data"
    }
   ],
   "source": [
    "plt.imshow(train_pic_data_1[4,:,:])"
   ]
  },
  {
   "cell_type": "markdown",
   "metadata": {},
   "source": [
    "## vgg模型"
   ]
  },
  {
   "cell_type": "code",
   "execution_count": 30,
   "metadata": {},
   "outputs": [
    {
     "name": "stderr",
     "output_type": "stream",
     "text": [
      "D:\\ANACONDA\\envs\\ML_py38_CU\\lib\\site-packages\\torchvision\\io\\image.py:11: UserWarning: Failed to load image Python extension: Could not find module 'D:\\ANACONDA\\envs\\ML_py38_CU\\Lib\\site-packages\\torchvision\\image.pyd' (or one of its dependencies). Try using the full path with constructor syntax.\n",
      "  warn(f\"Failed to load image Python extension: {e}\")\n"
     ]
    }
   ],
   "source": [
    "import torch\n",
    "import torch.nn as nn\n",
    "from torch.utils.data import DataLoader,Dataset,TensorDataset\n",
    "from torchvision.models import vgg16\n",
    "import d2lzh_pytorch as d2l"
   ]
  },
  {
   "cell_type": "code",
   "execution_count": 31,
   "metadata": {},
   "outputs": [
    {
     "name": "stdout",
     "output_type": "stream",
     "text": [
      "torch.Size([4000, 1, 224, 224])\n",
      "torch.Size([3200, 1, 224, 224])\n",
      "torch.Size([4000, 1, 224, 224])\n",
      "torch.Size([3200, 1, 224, 224])\n"
     ]
    }
   ],
   "source": [
    "\n",
    "batch_size = 128\n",
    "\n",
    "#创建dataloader\n",
    "\n",
    "data_train_tor = torch.from_numpy(train_pic_data)\n",
    "data_train_tor = data_train_tor.float()\n",
    "print(data_train_tor.size())\n",
    "\n",
    "\n",
    "data_test_tor = torch.from_numpy(test_pic_data)\n",
    "data_test_tor = data_test_tor.float()\n",
    "print(data_test_tor.size())\n",
    "\n",
    "\n",
    "label_train_tor = torch.from_numpy(train_label)\n",
    "label_train_tor = label_train_tor.float()\n",
    "label_test_tor = torch.from_numpy(test_label)\n",
    "label_test_tor = label_test_tor.float()\n",
    "\n",
    "#改成四维张量   样本数 * 通道数 * 高 * 宽 \n",
    "#data_train_tor = data_train_tor.reshape(train_pic_data.shape[0],1,train_pic_data.shape[2],train_pic_data.shape[3])\n",
    "print(data_train_tor.size())\n",
    "\n",
    "\n",
    "#data_test_tor = data_test_tor.reshape(test_pic_data.shape[0],1,test_pic_data.shape[2],test_pic_data.shape[3])\n",
    "print(data_test_tor.size())\n",
    "\n",
    "\n",
    "\n",
    "\n",
    "train_dataset = TensorDataset(data_train_tor,label_train_tor)\n",
    "test_dataset = TensorDataset(data_test_tor,label_test_tor)\n",
    "\n",
    "\n",
    "train_loader = DataLoader(dataset=train_dataset,batch_size=batch_size,shuffle=True)\n",
    "test_loader = DataLoader(dataset=test_dataset,batch_size=batch_size,shuffle=True)"
   ]
  },
  {
   "cell_type": "code",
   "execution_count": 32,
   "metadata": {},
   "outputs": [],
   "source": [
    "def vgg_block(num_convs,in_channels,out_channels):\n",
    "    blk = []\n",
    "    for i in range(num_convs):\n",
    "        if i ==0:\n",
    "            blk.append(nn.Conv2d(in_channels=in_channels,out_channels=out_channels,kernel_size=3,padding=1))\n",
    "        else:\n",
    "            blk.append(nn.Conv2d(in_channels=out_channels,out_channels=out_channels,kernel_size=3,padding=1))\n",
    "        blk.append(nn.ReLU())\n",
    "    blk.append(nn.MaxPool2d(kernel_size=2,stride=2))\n",
    "    return nn.Sequential(*blk)\n",
    "\n",
    "#经过5个VGG_block  ，宽和高减半5次 ，变成224/32 = 7\n",
    "conv_arch = ((1,1,64),(1,64,128),(2,128,256),(2,256,512),(2,512,512))\n",
    "fc_features = 512*7*7 \n",
    "fc_hidden_units = 4096\n",
    "\n",
    "def vgg(conv_arch,fc_features,fc_hidden_units=4096):\n",
    "    net = nn.Sequential()\n",
    "\n",
    "    #卷积部分\n",
    "    for i,(num_convs,in_channels,out_channels) in enumerate(conv_arch):\n",
    "        net.add_module('vgg_block_'+str(i+1),vgg_block(num_convs,in_channels,out_channels))\n",
    "\n",
    "    net.add_module('fc',nn.Sequential(d2l.FlattenLayer(),\n",
    "                                    nn.Linear(fc_features,fc_hidden_units),\n",
    "                                    nn.ReLU(),\n",
    "                                    nn.Dropout(0.5),\n",
    "                                    nn.Linear(fc_hidden_units,fc_hidden_units),\n",
    "                                    nn.ReLU(),\n",
    "                                    nn.Dropout(0.5),\n",
    "                                    nn.Linear(fc_hidden_units,2)\n",
    "                                    ))\n",
    "    return net\n",
    "\n",
    "net = vgg(conv_arch=conv_arch,fc_features=fc_features,fc_hidden_units=fc_hidden_units)"
   ]
  },
  {
   "cell_type": "code",
   "execution_count": 33,
   "metadata": {},
   "outputs": [
    {
     "name": "stdout",
     "output_type": "stream",
     "text": [
      "Sequential(\n",
      "  (vgg_block_1): Sequential(\n",
      "    (0): Conv2d(1, 64, kernel_size=(3, 3), stride=(1, 1), padding=(1, 1))\n",
      "    (1): ReLU()\n",
      "    (2): MaxPool2d(kernel_size=2, stride=2, padding=0, dilation=1, ceil_mode=False)\n",
      "  )\n",
      "  (vgg_block_2): Sequential(\n",
      "    (0): Conv2d(64, 128, kernel_size=(3, 3), stride=(1, 1), padding=(1, 1))\n",
      "    (1): ReLU()\n",
      "    (2): MaxPool2d(kernel_size=2, stride=2, padding=0, dilation=1, ceil_mode=False)\n",
      "  )\n",
      "  (vgg_block_3): Sequential(\n",
      "    (0): Conv2d(128, 256, kernel_size=(3, 3), stride=(1, 1), padding=(1, 1))\n",
      "    (1): ReLU()\n",
      "    (2): Conv2d(256, 256, kernel_size=(3, 3), stride=(1, 1), padding=(1, 1))\n",
      "    (3): ReLU()\n",
      "    (4): MaxPool2d(kernel_size=2, stride=2, padding=0, dilation=1, ceil_mode=False)\n",
      "  )\n",
      "  (vgg_block_4): Sequential(\n",
      "    (0): Conv2d(256, 512, kernel_size=(3, 3), stride=(1, 1), padding=(1, 1))\n",
      "    (1): ReLU()\n",
      "    (2): Conv2d(512, 512, kernel_size=(3, 3), stride=(1, 1), padding=(1, 1))\n",
      "    (3): ReLU()\n",
      "    (4): MaxPool2d(kernel_size=2, stride=2, padding=0, dilation=1, ceil_mode=False)\n",
      "  )\n",
      "  (vgg_block_5): Sequential(\n",
      "    (0): Conv2d(512, 512, kernel_size=(3, 3), stride=(1, 1), padding=(1, 1))\n",
      "    (1): ReLU()\n",
      "    (2): Conv2d(512, 512, kernel_size=(3, 3), stride=(1, 1), padding=(1, 1))\n",
      "    (3): ReLU()\n",
      "    (4): MaxPool2d(kernel_size=2, stride=2, padding=0, dilation=1, ceil_mode=False)\n",
      "  )\n",
      "  (fc): Sequential(\n",
      "    (0): FlattenLayer()\n",
      "    (1): Linear(in_features=25088, out_features=4096, bias=True)\n",
      "    (2): ReLU()\n",
      "    (3): Dropout(p=0.5, inplace=False)\n",
      "    (4): Linear(in_features=4096, out_features=4096, bias=True)\n",
      "    (5): ReLU()\n",
      "    (6): Dropout(p=0.5, inplace=False)\n",
      "    (7): Linear(in_features=4096, out_features=2, bias=True)\n",
      "  )\n",
      ")\n",
      "vgg_block_1   output shape : torch.Size([1, 64, 112, 112])\n",
      "vgg_block_2   output shape : torch.Size([1, 128, 56, 56])\n",
      "vgg_block_3   output shape : torch.Size([1, 256, 28, 28])\n",
      "vgg_block_4   output shape : torch.Size([1, 512, 14, 14])\n",
      "vgg_block_5   output shape : torch.Size([1, 512, 7, 7])\n",
      "fc   output shape : torch.Size([1, 2])\n"
     ]
    }
   ],
   "source": [
    "\n",
    "X = torch.rand(1,1,224,224)\n",
    "print(net)\n",
    "for name,blk in net.named_children():\n",
    "    X = blk(X)\n",
    "    print(name,'  output shape :',X.shape)"
   ]
  },
  {
   "cell_type": "code",
   "execution_count": 34,
   "metadata": {},
   "outputs": [
    {
     "name": "stdout",
     "output_type": "stream",
     "text": [
      "Sequential(\n",
      "  (vgg_block_1): Sequential(\n",
      "    (0): Conv2d(1, 8, kernel_size=(3, 3), stride=(1, 1), padding=(1, 1))\n",
      "    (1): ReLU()\n",
      "    (2): MaxPool2d(kernel_size=2, stride=2, padding=0, dilation=1, ceil_mode=False)\n",
      "  )\n",
      "  (vgg_block_2): Sequential(\n",
      "    (0): Conv2d(8, 16, kernel_size=(3, 3), stride=(1, 1), padding=(1, 1))\n",
      "    (1): ReLU()\n",
      "    (2): MaxPool2d(kernel_size=2, stride=2, padding=0, dilation=1, ceil_mode=False)\n",
      "  )\n",
      "  (vgg_block_3): Sequential(\n",
      "    (0): Conv2d(16, 32, kernel_size=(3, 3), stride=(1, 1), padding=(1, 1))\n",
      "    (1): ReLU()\n",
      "    (2): Conv2d(32, 32, kernel_size=(3, 3), stride=(1, 1), padding=(1, 1))\n",
      "    (3): ReLU()\n",
      "    (4): MaxPool2d(kernel_size=2, stride=2, padding=0, dilation=1, ceil_mode=False)\n",
      "  )\n",
      "  (vgg_block_4): Sequential(\n",
      "    (0): Conv2d(32, 64, kernel_size=(3, 3), stride=(1, 1), padding=(1, 1))\n",
      "    (1): ReLU()\n",
      "    (2): Conv2d(64, 64, kernel_size=(3, 3), stride=(1, 1), padding=(1, 1))\n",
      "    (3): ReLU()\n",
      "    (4): MaxPool2d(kernel_size=2, stride=2, padding=0, dilation=1, ceil_mode=False)\n",
      "  )\n",
      "  (vgg_block_5): Sequential(\n",
      "    (0): Conv2d(64, 64, kernel_size=(3, 3), stride=(1, 1), padding=(1, 1))\n",
      "    (1): ReLU()\n",
      "    (2): Conv2d(64, 64, kernel_size=(3, 3), stride=(1, 1), padding=(1, 1))\n",
      "    (3): ReLU()\n",
      "    (4): MaxPool2d(kernel_size=2, stride=2, padding=0, dilation=1, ceil_mode=False)\n",
      "  )\n",
      "  (fc): Sequential(\n",
      "    (0): FlattenLayer()\n",
      "    (1): Linear(in_features=3136, out_features=512, bias=True)\n",
      "    (2): ReLU()\n",
      "    (3): Dropout(p=0.5, inplace=False)\n",
      "    (4): Linear(in_features=512, out_features=512, bias=True)\n",
      "    (5): ReLU()\n",
      "    (6): Dropout(p=0.5, inplace=False)\n",
      "    (7): Linear(in_features=512, out_features=2, bias=True)\n",
      "  )\n",
      ")\n"
     ]
    }
   ],
   "source": [
    "ratio = 8\n",
    "\n",
    "small_conv_arch = ((1,1,64//ratio),(1,64//ratio,128//ratio),(2,128//ratio,256//ratio),\n",
    "                    (2,256//ratio,512//ratio),(2,512//ratio,512//ratio))\n",
    "\n",
    "net = vgg(small_conv_arch, fc_features//ratio , fc_hidden_units//ratio)\n",
    "print(net)"
   ]
  },
  {
   "cell_type": "code",
   "execution_count": 35,
   "metadata": {},
   "outputs": [
    {
     "name": "stdout",
     "output_type": "stream",
     "text": [
      "cuda\n"
     ]
    }
   ],
   "source": [
    "device = torch.device('cuda' if torch.cuda.is_available() else 'cpu')\n",
    "#device = 'cpu'\n",
    "print(device)"
   ]
  },
  {
   "cell_type": "code",
   "execution_count": 36,
   "metadata": {},
   "outputs": [],
   "source": [
    "def evaluate_accuracy_gpu(net,test_dataloader,\n",
    "                        device = torch.device('cuda' if torch.cuda.is_available() else 'cpu')):\n",
    "    \"\"\"使用GPU计算模型再数据集上面的精度\"\"\"\n",
    "    acc_sum , n = 0.0,0\n",
    "    with torch.no_grad():\n",
    "        for i,data in enumerate(test_dataloader):\n",
    "            X = data[0]\n",
    "            y = data[1]\n",
    "\n",
    "\n",
    "            net.eval() #评估模式\n",
    "            acc_sum += (net(X.to(device)).argmax(dim=1) == \n",
    "            y.to(device)).float().sum().cpu().item()\n",
    "            net.train() #改回训练模式\n",
    "\n",
    "            \n",
    "            '''\n",
    "            if  isinstance(net,torch.nn.Module):\n",
    "                net.eval() #评估模式\n",
    "                acc_sum += (net(X.to(device)).argmax(dim=1) == \n",
    "                            y.to(device)).float().sum().cpu().item()\n",
    "                net.train() #改回训练模式\n",
    "            else: #自定义模型  3.13节之后不会用到,不考虑GPU\n",
    "                if( 'is_training ' in net.__code__.co_varnames ):\n",
    "                    #如果有is_training这个参数\n",
    "                    #将is_training设置维False\n",
    "                    acc_sum += (net(X,is_training=False).argmax(dim=1) == y).float.sum().item()\n",
    "                else:\n",
    "                    acc_sum += (net(X).argmax(dim=1)==y).float().sum().item()\n",
    "            '''\n",
    "            #y.shape[0]为一个batch的样本数\n",
    "            n += y.shape[0]\n",
    "    return acc_sum/n"
   ]
  },
  {
   "cell_type": "code",
   "execution_count": 37,
   "metadata": {},
   "outputs": [],
   "source": [
    "import time\n",
    "def train_CNN(net,train_dataloader,valid_dataloader,batch_size,optimizer,device,num_epochs):\n",
    "    net = net.to(device)\n",
    "    print('training on',device)\n",
    "\n",
    "    loss = torch.nn.CrossEntropyLoss()\n",
    "    batch_count = 0\n",
    "    \n",
    "   \n",
    "    for epoch in range(num_epochs):\n",
    "        train_l_sum,train_acc_sum ,n,start = 0.0,0.0,0,time.time()\n",
    "        all_miss_count = 0\n",
    "        for i,data in enumerate(train_dataloader):\n",
    "            print('data shape :',data.shape)\n",
    "            X = data[0]\n",
    "            y = data[1]\n",
    "            X = X.to(device)\n",
    "            y = y.to(device)\n",
    "            y_hat = net(X)\n",
    "            \n",
    "            l = loss(y_hat,y)\n",
    "            optimizer.zero_grad()\n",
    "            l.backward()\n",
    "            optimizer.step()\n",
    "\n",
    "            train_l_sum += l.cpu()\n",
    "            train_acc_sum += (y_hat.argmax(dim=1) == y.argmax(dim=1)).sum().cpu()\n",
    "            n += y.shape[0]\n",
    "            batch_count += 1\n",
    "            all_miss_count += (y_hat.argmax(dim=1) == y.argmax(dim=1)).sum().cpu()\n",
    "\n",
    "        valid_acc = evaluate_accuracy_gpu(net,valid_dataloader,device)\n",
    "        print('epoch %d , loss %.4f, train acc %.3f, valid acc %.3f, time %.1f sec ' % \n",
    "                (epoch+1 , train_l_sum/batch_count ,  train_acc_sum/n , \n",
    "                valid_acc,time.time()-start))"
   ]
  },
  {
   "cell_type": "code",
   "execution_count": 38,
   "metadata": {},
   "outputs": [
    {
     "name": "stdout",
     "output_type": "stream",
     "text": [
      "torch.Size([128, 1, 224, 224])\n",
      "y size : torch.Size([128, 2])\n",
      "y_hat size :  torch.Size([128, 2])\n",
      "torch.Size([128, 1, 224, 224])\n",
      "torch.Size([128, 1, 224, 224])\n",
      "torch.Size([128, 1, 224, 224])\n",
      "torch.Size([128, 1, 224, 224])\n",
      "torch.Size([128, 1, 224, 224])\n",
      "torch.Size([128, 1, 224, 224])\n",
      "torch.Size([128, 1, 224, 224])\n",
      "torch.Size([128, 1, 224, 224])\n",
      "torch.Size([128, 1, 224, 224])\n",
      "torch.Size([128, 1, 224, 224])\n",
      "torch.Size([128, 1, 224, 224])\n",
      "torch.Size([128, 1, 224, 224])\n",
      "torch.Size([128, 1, 224, 224])\n",
      "torch.Size([128, 1, 224, 224])\n",
      "torch.Size([128, 1, 224, 224])\n",
      "torch.Size([128, 1, 224, 224])\n",
      "torch.Size([128, 1, 224, 224])\n",
      "torch.Size([128, 1, 224, 224])\n",
      "torch.Size([128, 1, 224, 224])\n",
      "torch.Size([128, 1, 224, 224])\n",
      "torch.Size([128, 1, 224, 224])\n",
      "torch.Size([128, 1, 224, 224])\n",
      "torch.Size([128, 1, 224, 224])\n",
      "torch.Size([128, 1, 224, 224])\n",
      "torch.Size([128, 1, 224, 224])\n",
      "torch.Size([128, 1, 224, 224])\n",
      "torch.Size([128, 1, 224, 224])\n",
      "torch.Size([128, 1, 224, 224])\n",
      "torch.Size([128, 1, 224, 224])\n",
      "torch.Size([128, 1, 224, 224])\n",
      "torch.Size([32, 1, 224, 224])\n"
     ]
    }
   ],
   "source": [
    "for i,data in enumerate(train_loader):\n",
    "    X = data[0]\n",
    "    print(X.shape)\n",
    "    y = data[1]\n",
    "    xxx = X.numpy()\n",
    "    if i == 0:\n",
    "        #plt.imshow(xxx[0,:,:])\n",
    "        print('y size :',y.shape)\n",
    "        y_hat = net(X)\n",
    "        print('y_hat size : ',y_hat.shape)"
   ]
  },
  {
   "cell_type": "code",
   "execution_count": null,
   "metadata": {},
   "outputs": [],
   "source": []
  },
  {
   "cell_type": "code",
   "execution_count": 39,
   "metadata": {},
   "outputs": [
    {
     "data": {
      "text/plain": [
       "\"\\nlr , num_epochs = 0.0001 , 500\\n\\n\\noptimizer = torch.optim.Adam(net.parameters(),lr=lr)\\n\\nstart_time = time.time()\\n\\ntrain_CNN(net,train_dataloader=train_loader,valid_dataloader=test_loader,batch_size=batch_size,optimizer=optimizer,\\n            device = device,num_epochs = num_epochs)\\nend_time = time.time()\\nused_time = end_time - start_time\\nprint('训练的总时间为： %.1f sec' %(used_time))\\n\""
      ]
     },
     "execution_count": 39,
     "metadata": {},
     "output_type": "execute_result"
    }
   ],
   "source": [
    "'''\n",
    "lr , num_epochs = 0.0001 , 500\n",
    "\n",
    "\n",
    "optimizer = torch.optim.Adam(net.parameters(),lr=lr)\n",
    "\n",
    "start_time = time.time()\n",
    "\n",
    "train_CNN(net,train_dataloader=train_loader,valid_dataloader=test_loader,batch_size=batch_size,optimizer=optimizer,\n",
    "            device = device,num_epochs = num_epochs)\n",
    "end_time = time.time()\n",
    "used_time = end_time - start_time\n",
    "print('训练的总时间为： %.1f sec' %(used_time))\n",
    "'''"
   ]
  },
  {
   "cell_type": "code",
   "execution_count": 40,
   "metadata": {},
   "outputs": [
    {
     "name": "stdout",
     "output_type": "stream",
     "text": [
      "training on cuda\n",
      "epoch 1 , loss 0.6934, train acc 0.483, test acc 0.505, time 11.7 sec\n",
      "epoch 2 , loss 0.3453, train acc 0.509, test acc 0.540, time 9.0 sec\n",
      "epoch 3 , loss 0.2269, train acc 0.548, test acc 0.540, time 9.1 sec\n",
      "epoch 4 , loss 0.1675, train acc 0.561, test acc 0.526, time 9.0 sec\n",
      "epoch 5 , loss 0.1276, train acc 0.621, test acc 0.510, time 9.1 sec\n",
      "epoch 6 , loss 0.1001, train acc 0.641, test acc 0.512, time 9.1 sec\n",
      "epoch 7 , loss 0.0761, train acc 0.701, test acc 0.512, time 9.2 sec\n",
      "epoch 8 , loss 0.0547, train acc 0.780, test acc 0.494, time 9.1 sec\n",
      "epoch 9 , loss 0.0374, train acc 0.842, test acc 0.515, time 9.2 sec\n",
      "epoch 10 , loss 0.0259, train acc 0.895, test acc 0.516, time 9.3 sec\n",
      "epoch 11 , loss 0.0190, train acc 0.920, test acc 0.517, time 9.5 sec\n",
      "epoch 12 , loss 0.0116, train acc 0.947, test acc 0.511, time 9.8 sec\n"
     ]
    },
    {
     "ename": "KeyboardInterrupt",
     "evalue": "",
     "output_type": "error",
     "traceback": [
      "\u001b[1;31m---------------------------------------------------------------------------\u001b[0m",
      "\u001b[1;31mKeyboardInterrupt\u001b[0m                         Traceback (most recent call last)",
      "\u001b[1;32me:\\19_BCIexperiment\\02_CodeTest\\MNE_TEST\\BCIIV2b_ERDS_CNN_day4.ipynb Cell 49'\u001b[0m in \u001b[0;36m<cell line: 3>\u001b[1;34m()\u001b[0m\n\u001b[0;32m      <a href='vscode-notebook-cell:/e%3A/19_BCIexperiment/02_CodeTest/MNE_TEST/BCIIV2b_ERDS_CNN_day4.ipynb#ch0000045?line=0'>1</a>\u001b[0m lr,num_epochs \u001b[39m=\u001b[39m \u001b[39m0.0001\u001b[39m,\u001b[39m20\u001b[39m\n\u001b[0;32m      <a href='vscode-notebook-cell:/e%3A/19_BCIexperiment/02_CodeTest/MNE_TEST/BCIIV2b_ERDS_CNN_day4.ipynb#ch0000045?line=1'>2</a>\u001b[0m optimizer \u001b[39m=\u001b[39m torch\u001b[39m.\u001b[39moptim\u001b[39m.\u001b[39mAdam(net\u001b[39m.\u001b[39mparameters(),lr\u001b[39m=\u001b[39mlr)\n\u001b[1;32m----> <a href='vscode-notebook-cell:/e%3A/19_BCIexperiment/02_CodeTest/MNE_TEST/BCIIV2b_ERDS_CNN_day4.ipynb#ch0000045?line=2'>3</a>\u001b[0m d2l\u001b[39m.\u001b[39;49mtrain_ch5(net,train_loader,test_loader,batch_size,optimizer,device,num_epochs)\n",
      "File \u001b[1;32me:\\19_BCIexperiment\\02_CodeTest\\MNE_TEST\\d2lzh_pytorch.py:213\u001b[0m, in \u001b[0;36mtrain_ch5\u001b[1;34m(net, train_iter, test_iter, batch_size, optimizer, device, num_epochs)\u001b[0m\n\u001b[0;32m    <a href='file:///e%3A/19_BCIexperiment/02_CodeTest/MNE_TEST/d2lzh_pytorch.py?line=210'>211</a>\u001b[0m \u001b[39mfor\u001b[39;00m epoch \u001b[39min\u001b[39;00m \u001b[39mrange\u001b[39m(num_epochs):\n\u001b[0;32m    <a href='file:///e%3A/19_BCIexperiment/02_CodeTest/MNE_TEST/d2lzh_pytorch.py?line=211'>212</a>\u001b[0m     train_l_sum,train_acc_sum ,n,start \u001b[39m=\u001b[39m \u001b[39m0.0\u001b[39m,\u001b[39m0.0\u001b[39m,\u001b[39m0\u001b[39m,time\u001b[39m.\u001b[39mtime()\n\u001b[1;32m--> <a href='file:///e%3A/19_BCIexperiment/02_CodeTest/MNE_TEST/d2lzh_pytorch.py?line=212'>213</a>\u001b[0m     \u001b[39mfor\u001b[39;00m X,y \u001b[39min\u001b[39;00m train_iter:\n\u001b[0;32m    <a href='file:///e%3A/19_BCIexperiment/02_CodeTest/MNE_TEST/d2lzh_pytorch.py?line=213'>214</a>\u001b[0m         X \u001b[39m=\u001b[39m X\u001b[39m.\u001b[39mto(device)\n\u001b[0;32m    <a href='file:///e%3A/19_BCIexperiment/02_CodeTest/MNE_TEST/d2lzh_pytorch.py?line=214'>215</a>\u001b[0m         y \u001b[39m=\u001b[39m y\u001b[39m.\u001b[39mto(device)\n",
      "File \u001b[1;32mD:\\ANACONDA\\envs\\ML_py38_CU\\lib\\site-packages\\torch\\utils\\data\\dataloader.py:521\u001b[0m, in \u001b[0;36m_BaseDataLoaderIter.__next__\u001b[1;34m(self)\u001b[0m\n\u001b[0;32m    <a href='file:///d%3A/ANACONDA/envs/ML_py38_CU/lib/site-packages/torch/utils/data/dataloader.py?line=518'>519</a>\u001b[0m \u001b[39mif\u001b[39;00m \u001b[39mself\u001b[39m\u001b[39m.\u001b[39m_sampler_iter \u001b[39mis\u001b[39;00m \u001b[39mNone\u001b[39;00m:\n\u001b[0;32m    <a href='file:///d%3A/ANACONDA/envs/ML_py38_CU/lib/site-packages/torch/utils/data/dataloader.py?line=519'>520</a>\u001b[0m     \u001b[39mself\u001b[39m\u001b[39m.\u001b[39m_reset()\n\u001b[1;32m--> <a href='file:///d%3A/ANACONDA/envs/ML_py38_CU/lib/site-packages/torch/utils/data/dataloader.py?line=520'>521</a>\u001b[0m data \u001b[39m=\u001b[39m \u001b[39mself\u001b[39;49m\u001b[39m.\u001b[39;49m_next_data()\n\u001b[0;32m    <a href='file:///d%3A/ANACONDA/envs/ML_py38_CU/lib/site-packages/torch/utils/data/dataloader.py?line=521'>522</a>\u001b[0m \u001b[39mself\u001b[39m\u001b[39m.\u001b[39m_num_yielded \u001b[39m+\u001b[39m\u001b[39m=\u001b[39m \u001b[39m1\u001b[39m\n\u001b[0;32m    <a href='file:///d%3A/ANACONDA/envs/ML_py38_CU/lib/site-packages/torch/utils/data/dataloader.py?line=522'>523</a>\u001b[0m \u001b[39mif\u001b[39;00m \u001b[39mself\u001b[39m\u001b[39m.\u001b[39m_dataset_kind \u001b[39m==\u001b[39m _DatasetKind\u001b[39m.\u001b[39mIterable \u001b[39mand\u001b[39;00m \\\n\u001b[0;32m    <a href='file:///d%3A/ANACONDA/envs/ML_py38_CU/lib/site-packages/torch/utils/data/dataloader.py?line=523'>524</a>\u001b[0m         \u001b[39mself\u001b[39m\u001b[39m.\u001b[39m_IterableDataset_len_called \u001b[39mis\u001b[39;00m \u001b[39mnot\u001b[39;00m \u001b[39mNone\u001b[39;00m \u001b[39mand\u001b[39;00m \\\n\u001b[0;32m    <a href='file:///d%3A/ANACONDA/envs/ML_py38_CU/lib/site-packages/torch/utils/data/dataloader.py?line=524'>525</a>\u001b[0m         \u001b[39mself\u001b[39m\u001b[39m.\u001b[39m_num_yielded \u001b[39m>\u001b[39m \u001b[39mself\u001b[39m\u001b[39m.\u001b[39m_IterableDataset_len_called:\n",
      "File \u001b[1;32mD:\\ANACONDA\\envs\\ML_py38_CU\\lib\\site-packages\\torch\\utils\\data\\dataloader.py:561\u001b[0m, in \u001b[0;36m_SingleProcessDataLoaderIter._next_data\u001b[1;34m(self)\u001b[0m\n\u001b[0;32m    <a href='file:///d%3A/ANACONDA/envs/ML_py38_CU/lib/site-packages/torch/utils/data/dataloader.py?line=558'>559</a>\u001b[0m \u001b[39mdef\u001b[39;00m \u001b[39m_next_data\u001b[39m(\u001b[39mself\u001b[39m):\n\u001b[0;32m    <a href='file:///d%3A/ANACONDA/envs/ML_py38_CU/lib/site-packages/torch/utils/data/dataloader.py?line=559'>560</a>\u001b[0m     index \u001b[39m=\u001b[39m \u001b[39mself\u001b[39m\u001b[39m.\u001b[39m_next_index()  \u001b[39m# may raise StopIteration\u001b[39;00m\n\u001b[1;32m--> <a href='file:///d%3A/ANACONDA/envs/ML_py38_CU/lib/site-packages/torch/utils/data/dataloader.py?line=560'>561</a>\u001b[0m     data \u001b[39m=\u001b[39m \u001b[39mself\u001b[39;49m\u001b[39m.\u001b[39;49m_dataset_fetcher\u001b[39m.\u001b[39;49mfetch(index)  \u001b[39m# may raise StopIteration\u001b[39;00m\n\u001b[0;32m    <a href='file:///d%3A/ANACONDA/envs/ML_py38_CU/lib/site-packages/torch/utils/data/dataloader.py?line=561'>562</a>\u001b[0m     \u001b[39mif\u001b[39;00m \u001b[39mself\u001b[39m\u001b[39m.\u001b[39m_pin_memory:\n\u001b[0;32m    <a href='file:///d%3A/ANACONDA/envs/ML_py38_CU/lib/site-packages/torch/utils/data/dataloader.py?line=562'>563</a>\u001b[0m         data \u001b[39m=\u001b[39m _utils\u001b[39m.\u001b[39mpin_memory\u001b[39m.\u001b[39mpin_memory(data)\n",
      "File \u001b[1;32mD:\\ANACONDA\\envs\\ML_py38_CU\\lib\\site-packages\\torch\\utils\\data\\_utils\\fetch.py:52\u001b[0m, in \u001b[0;36m_MapDatasetFetcher.fetch\u001b[1;34m(self, possibly_batched_index)\u001b[0m\n\u001b[0;32m     <a href='file:///d%3A/ANACONDA/envs/ML_py38_CU/lib/site-packages/torch/utils/data/_utils/fetch.py?line=49'>50</a>\u001b[0m \u001b[39melse\u001b[39;00m:\n\u001b[0;32m     <a href='file:///d%3A/ANACONDA/envs/ML_py38_CU/lib/site-packages/torch/utils/data/_utils/fetch.py?line=50'>51</a>\u001b[0m     data \u001b[39m=\u001b[39m \u001b[39mself\u001b[39m\u001b[39m.\u001b[39mdataset[possibly_batched_index]\n\u001b[1;32m---> <a href='file:///d%3A/ANACONDA/envs/ML_py38_CU/lib/site-packages/torch/utils/data/_utils/fetch.py?line=51'>52</a>\u001b[0m \u001b[39mreturn\u001b[39;00m \u001b[39mself\u001b[39;49m\u001b[39m.\u001b[39;49mcollate_fn(data)\n",
      "File \u001b[1;32mD:\\ANACONDA\\envs\\ML_py38_CU\\lib\\site-packages\\torch\\utils\\data\\_utils\\collate.py:84\u001b[0m, in \u001b[0;36mdefault_collate\u001b[1;34m(batch)\u001b[0m\n\u001b[0;32m     <a href='file:///d%3A/ANACONDA/envs/ML_py38_CU/lib/site-packages/torch/utils/data/_utils/collate.py?line=81'>82</a>\u001b[0m         \u001b[39mraise\u001b[39;00m \u001b[39mRuntimeError\u001b[39;00m(\u001b[39m'\u001b[39m\u001b[39meach element in list of batch should be of equal size\u001b[39m\u001b[39m'\u001b[39m)\n\u001b[0;32m     <a href='file:///d%3A/ANACONDA/envs/ML_py38_CU/lib/site-packages/torch/utils/data/_utils/collate.py?line=82'>83</a>\u001b[0m     transposed \u001b[39m=\u001b[39m \u001b[39mzip\u001b[39m(\u001b[39m*\u001b[39mbatch)\n\u001b[1;32m---> <a href='file:///d%3A/ANACONDA/envs/ML_py38_CU/lib/site-packages/torch/utils/data/_utils/collate.py?line=83'>84</a>\u001b[0m     \u001b[39mreturn\u001b[39;00m [default_collate(samples) \u001b[39mfor\u001b[39;00m samples \u001b[39min\u001b[39;00m transposed]\n\u001b[0;32m     <a href='file:///d%3A/ANACONDA/envs/ML_py38_CU/lib/site-packages/torch/utils/data/_utils/collate.py?line=85'>86</a>\u001b[0m \u001b[39mraise\u001b[39;00m \u001b[39mTypeError\u001b[39;00m(default_collate_err_msg_format\u001b[39m.\u001b[39mformat(elem_type))\n",
      "File \u001b[1;32mD:\\ANACONDA\\envs\\ML_py38_CU\\lib\\site-packages\\torch\\utils\\data\\_utils\\collate.py:84\u001b[0m, in \u001b[0;36m<listcomp>\u001b[1;34m(.0)\u001b[0m\n\u001b[0;32m     <a href='file:///d%3A/ANACONDA/envs/ML_py38_CU/lib/site-packages/torch/utils/data/_utils/collate.py?line=81'>82</a>\u001b[0m         \u001b[39mraise\u001b[39;00m \u001b[39mRuntimeError\u001b[39;00m(\u001b[39m'\u001b[39m\u001b[39meach element in list of batch should be of equal size\u001b[39m\u001b[39m'\u001b[39m)\n\u001b[0;32m     <a href='file:///d%3A/ANACONDA/envs/ML_py38_CU/lib/site-packages/torch/utils/data/_utils/collate.py?line=82'>83</a>\u001b[0m     transposed \u001b[39m=\u001b[39m \u001b[39mzip\u001b[39m(\u001b[39m*\u001b[39mbatch)\n\u001b[1;32m---> <a href='file:///d%3A/ANACONDA/envs/ML_py38_CU/lib/site-packages/torch/utils/data/_utils/collate.py?line=83'>84</a>\u001b[0m     \u001b[39mreturn\u001b[39;00m [default_collate(samples) \u001b[39mfor\u001b[39;00m samples \u001b[39min\u001b[39;00m transposed]\n\u001b[0;32m     <a href='file:///d%3A/ANACONDA/envs/ML_py38_CU/lib/site-packages/torch/utils/data/_utils/collate.py?line=85'>86</a>\u001b[0m \u001b[39mraise\u001b[39;00m \u001b[39mTypeError\u001b[39;00m(default_collate_err_msg_format\u001b[39m.\u001b[39mformat(elem_type))\n",
      "File \u001b[1;32mD:\\ANACONDA\\envs\\ML_py38_CU\\lib\\site-packages\\torch\\utils\\data\\_utils\\collate.py:56\u001b[0m, in \u001b[0;36mdefault_collate\u001b[1;34m(batch)\u001b[0m\n\u001b[0;32m     <a href='file:///d%3A/ANACONDA/envs/ML_py38_CU/lib/site-packages/torch/utils/data/_utils/collate.py?line=53'>54</a>\u001b[0m         storage \u001b[39m=\u001b[39m elem\u001b[39m.\u001b[39mstorage()\u001b[39m.\u001b[39m_new_shared(numel)\n\u001b[0;32m     <a href='file:///d%3A/ANACONDA/envs/ML_py38_CU/lib/site-packages/torch/utils/data/_utils/collate.py?line=54'>55</a>\u001b[0m         out \u001b[39m=\u001b[39m elem\u001b[39m.\u001b[39mnew(storage)\n\u001b[1;32m---> <a href='file:///d%3A/ANACONDA/envs/ML_py38_CU/lib/site-packages/torch/utils/data/_utils/collate.py?line=55'>56</a>\u001b[0m     \u001b[39mreturn\u001b[39;00m torch\u001b[39m.\u001b[39;49mstack(batch, \u001b[39m0\u001b[39;49m, out\u001b[39m=\u001b[39;49mout)\n\u001b[0;32m     <a href='file:///d%3A/ANACONDA/envs/ML_py38_CU/lib/site-packages/torch/utils/data/_utils/collate.py?line=56'>57</a>\u001b[0m \u001b[39melif\u001b[39;00m elem_type\u001b[39m.\u001b[39m\u001b[39m__module__\u001b[39m \u001b[39m==\u001b[39m \u001b[39m'\u001b[39m\u001b[39mnumpy\u001b[39m\u001b[39m'\u001b[39m \u001b[39mand\u001b[39;00m elem_type\u001b[39m.\u001b[39m\u001b[39m__name__\u001b[39m \u001b[39m!=\u001b[39m \u001b[39m'\u001b[39m\u001b[39mstr_\u001b[39m\u001b[39m'\u001b[39m \\\n\u001b[0;32m     <a href='file:///d%3A/ANACONDA/envs/ML_py38_CU/lib/site-packages/torch/utils/data/_utils/collate.py?line=57'>58</a>\u001b[0m         \u001b[39mand\u001b[39;00m elem_type\u001b[39m.\u001b[39m\u001b[39m__name__\u001b[39m \u001b[39m!=\u001b[39m \u001b[39m'\u001b[39m\u001b[39mstring_\u001b[39m\u001b[39m'\u001b[39m:\n\u001b[0;32m     <a href='file:///d%3A/ANACONDA/envs/ML_py38_CU/lib/site-packages/torch/utils/data/_utils/collate.py?line=58'>59</a>\u001b[0m     \u001b[39mif\u001b[39;00m elem_type\u001b[39m.\u001b[39m\u001b[39m__name__\u001b[39m \u001b[39m==\u001b[39m \u001b[39m'\u001b[39m\u001b[39mndarray\u001b[39m\u001b[39m'\u001b[39m \u001b[39mor\u001b[39;00m elem_type\u001b[39m.\u001b[39m\u001b[39m__name__\u001b[39m \u001b[39m==\u001b[39m \u001b[39m'\u001b[39m\u001b[39mmemmap\u001b[39m\u001b[39m'\u001b[39m:\n\u001b[0;32m     <a href='file:///d%3A/ANACONDA/envs/ML_py38_CU/lib/site-packages/torch/utils/data/_utils/collate.py?line=59'>60</a>\u001b[0m         \u001b[39m# array of string classes and object\u001b[39;00m\n",
      "\u001b[1;31mKeyboardInterrupt\u001b[0m: "
     ]
    }
   ],
   "source": [
    "\n",
    "lr,num_epochs = 0.0001,20\n",
    "optimizer = torch.optim.Adam(net.parameters(),lr=lr)\n",
    "d2l.train_ch5(net,train_loader,test_loader,batch_size,optimizer,device,num_epochs)"
   ]
  },
  {
   "cell_type": "code",
   "execution_count": null,
   "metadata": {},
   "outputs": [],
   "source": []
  }
 ],
 "metadata": {
  "interpreter": {
   "hash": "42cea95c4a7cc38194441a937f73f8ad8a61eb030594c674f6ffb36372ba751c"
  },
  "kernelspec": {
   "display_name": "Python 3.8.12 ('ML_py38_CU')",
   "language": "python",
   "name": "python3"
  },
  "language_info": {
   "codemirror_mode": {
    "name": "ipython",
    "version": 3
   },
   "file_extension": ".py",
   "mimetype": "text/x-python",
   "name": "python",
   "nbconvert_exporter": "python",
   "pygments_lexer": "ipython3",
   "version": "3.8.12"
  },
  "orig_nbformat": 4
 },
 "nbformat": 4,
 "nbformat_minor": 2
}
