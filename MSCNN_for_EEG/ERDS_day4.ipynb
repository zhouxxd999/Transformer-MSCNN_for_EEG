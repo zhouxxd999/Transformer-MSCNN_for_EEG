{
 "cells": [
  {
   "cell_type": "code",
   "execution_count": 1,
   "metadata": {},
   "outputs": [],
   "source": [
    "import numpy as np\n",
    "import matplotlib.pyplot as plt\n",
    "from matplotlib.colors import TwoSlopeNorm\n",
    "import pandas as pd\n",
    "import mne\n",
    "from mne.datasets import eegbci\n",
    "from mne.io import concatenate_raws, read_raw_edf\n",
    "from mne.time_frequency import tfr_multitaper\n",
    "from mne.stats import permutation_cluster_1samp_test as pcluster_test"
   ]
  },
  {
   "cell_type": "code",
   "execution_count": 2,
   "metadata": {},
   "outputs": [
    {
     "data": {
      "text/plain": [
       "\"\\nread_raw_filename = 'data/B0101T.gdf'\\nsave_epo_filename = 'data/B0101T_left_right_epo.fif'\\n\\nraw = mne.io.read_raw_gdf(read_raw_filename, preload=True)\\n\\nraw.drop_channels(['EOG:ch01','EOG:ch02','EOG:ch03'])\\n\\n# 768 --- start a trial\\ncustom_mapping = {'769':3,'770':4}\\n(events_from_annot,event_dict) = mne.events_from_annotations(raw, event_id=custom_mapping)\\n#  3s开始为时间cue\\nraw_epochs = mne.Epochs(raw, events=events_from_annot, event_id=event_dict,proj=True,baseline=(None, 0), preload=True,tmin=-2,tmax=6)\\n\\nevoked = raw_epochs.average()\\nevoked.plot(time_unit='s')\\n\\nraw_epochs.save(save_epo_filename)\\n\""
      ]
     },
     "execution_count": 2,
     "metadata": {},
     "output_type": "execute_result"
    }
   ],
   "source": [
    "'''\n",
    "read_raw_filename = 'data/B0101T.gdf'\n",
    "save_epo_filename = 'data/B0101T_left_right_epo.fif'\n",
    "\n",
    "raw = mne.io.read_raw_gdf(read_raw_filename, preload=True)\n",
    "\n",
    "raw.drop_channels(['EOG:ch01','EOG:ch02','EOG:ch03'])\n",
    "\n",
    "# 768 --- start a trial\n",
    "custom_mapping = {'769':3,'770':4}\n",
    "(events_from_annot,event_dict) = mne.events_from_annotations(raw, event_id=custom_mapping)\n",
    "#  3s开始为时间cue\n",
    "raw_epochs = mne.Epochs(raw, events=events_from_annot, event_id=event_dict,proj=True,baseline=(None, 0), preload=True,tmin=-2,tmax=6)\n",
    "\n",
    "evoked = raw_epochs.average()\n",
    "evoked.plot(time_unit='s')\n",
    "\n",
    "raw_epochs.save(save_epo_filename)\n",
    "'''"
   ]
  },
  {
   "cell_type": "code",
   "execution_count": 3,
   "metadata": {},
   "outputs": [
    {
     "name": "stdout",
     "output_type": "stream",
     "text": [
      "Reading e:\\19_BCIexperiment\\02_CodeTest\\MNE_TEST\\data\\B0101T_epo.fif ...\n",
      "Isotrak not found\n",
      "    Found the data of interest:\n",
      "        t =    -500.00 ...    7000.00 ms\n",
      "        0 CTF compensation matrices available\n",
      "Not setting metadata\n",
      "Not setting metadata\n",
      "120 matching events found\n",
      "No baseline correction applied\n",
      "0 projection items activated\n"
     ]
    }
   ],
   "source": [
    "filename = 'data/B0101T_epo.fif'\n",
    "epochs = mne.read_epochs(filename)"
   ]
  },
  {
   "cell_type": "code",
   "execution_count": 4,
   "metadata": {},
   "outputs": [
    {
     "data": {
      "text/html": [
       "\n",
       "<table class=\"table table-hover table-striped table-sm table-responsive small\">\n",
       "    <tr>\n",
       "        <th>Measurement date</th>\n",
       "        <td>October 25, 2005  09:35:11 GMT</td>\n",
       "        \n",
       "    </tr>\n",
       "    <tr>\n",
       "        <th>Experimenter</th>\n",
       "<td>Unknown</td>\n",
       "    </tr>\n",
       "        <th>Participant</th>\n",
       "<td>Unknown</td>\n",
       "    </tr>\n",
       "    <tr>\n",
       "        <th>Digitized points</th>\n",
       "        <td>Not available</td>\n",
       "    </tr>\n",
       "    <tr>\n",
       "        <th>Good channels</th>\n",
       "        <td>3 EEG</td>\n",
       "    </tr>\n",
       "    <tr>\n",
       "        <th>Bad channels</th>\n",
       "        <td>None</td>\n",
       "    </tr>\n",
       "    <tr>\n",
       "        <th>EOG channels</th>\n",
       "        <td>Not available</td>\n",
       "    </tr>\n",
       "    <tr>\n",
       "        <th>ECG channels</th>\n",
       "        <td>Not available</td>\n",
       "    <tr>\n",
       "        <th>Sampling frequency</th>\n",
       "        <td>250.00 Hz</td>\n",
       "    </tr>\n",
       "    <tr>\n",
       "        <th>Highpass</th>\n",
       "        <td>0.00 Hz</td>\n",
       "    </tr>\n",
       "    <tr>\n",
       "        <th>Lowpass</th>\n",
       "        <td>125.00 Hz</td>\n",
       "    </tr>\n",
       "</table>\n"
      ],
      "text/plain": [
       "<Info | 9 non-empty values\n",
       " bads: []\n",
       " ch_names: EEG:C3, EEG:Cz, EEG:C4\n",
       " chs: 3 EEG\n",
       " custom_ref_applied: False\n",
       " file_id: 4 items (dict)\n",
       " highpass: 0.0 Hz\n",
       " lowpass: 125.0 Hz\n",
       " meas_date: 2005-10-25 09:35:11 UTC\n",
       " meas_id: 4 items (dict)\n",
       " nchan: 3\n",
       " projs: []\n",
       " sfreq: 250.0 Hz\n",
       ">"
      ]
     },
     "execution_count": 4,
     "metadata": {},
     "output_type": "execute_result"
    }
   ],
   "source": [
    "epochs.info"
   ]
  },
  {
   "cell_type": "code",
   "execution_count": 5,
   "metadata": {},
   "outputs": [],
   "source": [
    "tmin = 2\n",
    "tmax = 7\n",
    "\n",
    "freqs = np.arange(2, 36)  # frequencies from 2-35Hz\n",
    "vmin, vmax = -1, 1.5  # set min and max ERDS values in plot\n",
    "baseline = [2, 3]  # baseline interval (in s)\n",
    "cnorm = TwoSlopeNorm(vmin=vmin, vcenter=0, vmax=vmax)  # min, center & max ERDS\n",
    "\n",
    "kwargs = dict(n_permutations=100, step_down_p=0.05, seed=1,\n",
    "              buffer_size=None, out_type='mask')  # for cluster test"
   ]
  },
  {
   "cell_type": "code",
   "execution_count": 6,
   "metadata": {},
   "outputs": [
    {
     "name": "stdout",
     "output_type": "stream",
     "text": [
      "Not setting metadata\n",
      "Applying baseline correction (mode: percent)\n"
     ]
    },
    {
     "data": {
      "text/plain": [
       "<EpochsTFR | time : [1.996000, 6.996000], freq : [2.000000, 35.000000], epochs : 120, channels : 3, ~58.5 MB>"
      ]
     },
     "execution_count": 6,
     "metadata": {},
     "output_type": "execute_result"
    }
   ],
   "source": [
    "tfr = tfr_multitaper(epochs, freqs=freqs, n_cycles=freqs, use_fft=True,\n",
    "                     return_itc=False, average=False, decim=2)\n",
    "tfr.crop(tmin, tmax).apply_baseline(baseline, mode=\"percent\")"
   ]
  },
  {
   "cell_type": "code",
   "execution_count": 7,
   "metadata": {},
   "outputs": [
    {
     "data": {
      "text/html": [
       "\n",
       "<table class=\"table table-hover table-striped table-sm table-responsive small\">\n",
       "    <tr>\n",
       "        <th>Measurement date</th>\n",
       "        <td>October 25, 2005  09:35:11 GMT</td>\n",
       "        \n",
       "    </tr>\n",
       "    <tr>\n",
       "        <th>Experimenter</th>\n",
       "<td>Unknown</td>\n",
       "    </tr>\n",
       "        <th>Participant</th>\n",
       "<td>Unknown</td>\n",
       "    </tr>\n",
       "    <tr>\n",
       "        <th>Digitized points</th>\n",
       "        <td>Not available</td>\n",
       "    </tr>\n",
       "    <tr>\n",
       "        <th>Good channels</th>\n",
       "        <td>3 EEG</td>\n",
       "    </tr>\n",
       "    <tr>\n",
       "        <th>Bad channels</th>\n",
       "        <td>None</td>\n",
       "    </tr>\n",
       "    <tr>\n",
       "        <th>EOG channels</th>\n",
       "        <td>Not available</td>\n",
       "    </tr>\n",
       "    <tr>\n",
       "        <th>ECG channels</th>\n",
       "        <td>Not available</td>\n",
       "    <tr>\n",
       "        <th>Sampling frequency</th>\n",
       "        <td>125.00 Hz</td>\n",
       "    </tr>\n",
       "    <tr>\n",
       "        <th>Highpass</th>\n",
       "        <td>0.00 Hz</td>\n",
       "    </tr>\n",
       "    <tr>\n",
       "        <th>Lowpass</th>\n",
       "        <td>125.00 Hz</td>\n",
       "    </tr>\n",
       "</table>\n"
      ],
      "text/plain": [
       "<Info | 9 non-empty values\n",
       " bads: []\n",
       " ch_names: EEG:C3, EEG:Cz, EEG:C4\n",
       " chs: 3 EEG\n",
       " custom_ref_applied: False\n",
       " file_id: 4 items (dict)\n",
       " highpass: 0.0 Hz\n",
       " lowpass: 125.0 Hz\n",
       " meas_date: 2005-10-25 09:35:11 UTC\n",
       " meas_id: 4 items (dict)\n",
       " nchan: 3\n",
       " projs: []\n",
       " sfreq: 125.0 Hz\n",
       ">"
      ]
     },
     "execution_count": 7,
     "metadata": {},
     "output_type": "execute_result"
    }
   ],
   "source": [
    "tfr.info"
   ]
  },
  {
   "cell_type": "code",
   "execution_count": 8,
   "metadata": {},
   "outputs": [],
   "source": [
    "from scipy.io import loadmat\n",
    "filename1 = 'data/B0101T.mat'\n",
    "raw_label_data = loadmat(filename1)\n",
    "B0101T_label = raw_label_data['classlabel']"
   ]
  },
  {
   "cell_type": "code",
   "execution_count": 9,
   "metadata": {},
   "outputs": [],
   "source": [
    "cls1 = B0101T_label==1"
   ]
  },
  {
   "cell_type": "code",
   "execution_count": 10,
   "metadata": {},
   "outputs": [
    {
     "data": {
      "text/plain": [
       "array([[ True],\n",
       "       [False],\n",
       "       [ True],\n",
       "       [False],\n",
       "       [False],\n",
       "       [False],\n",
       "       [False],\n",
       "       [False],\n",
       "       [ True],\n",
       "       [False],\n",
       "       [False],\n",
       "       [ True],\n",
       "       [False],\n",
       "       [False],\n",
       "       [ True],\n",
       "       [ True],\n",
       "       [ True],\n",
       "       [ True],\n",
       "       [ True],\n",
       "       [ True],\n",
       "       [ True],\n",
       "       [ True],\n",
       "       [ True],\n",
       "       [False],\n",
       "       [ True],\n",
       "       [ True],\n",
       "       [ True],\n",
       "       [False],\n",
       "       [False],\n",
       "       [ True],\n",
       "       [ True],\n",
       "       [False],\n",
       "       [False],\n",
       "       [False],\n",
       "       [False],\n",
       "       [ True],\n",
       "       [False],\n",
       "       [False],\n",
       "       [ True],\n",
       "       [False],\n",
       "       [ True],\n",
       "       [ True],\n",
       "       [ True],\n",
       "       [ True],\n",
       "       [False],\n",
       "       [False],\n",
       "       [False],\n",
       "       [False],\n",
       "       [ True],\n",
       "       [ True],\n",
       "       [False],\n",
       "       [False],\n",
       "       [ True],\n",
       "       [False],\n",
       "       [False],\n",
       "       [False],\n",
       "       [ True],\n",
       "       [ True],\n",
       "       [False],\n",
       "       [ True],\n",
       "       [ True],\n",
       "       [ True],\n",
       "       [False],\n",
       "       [False],\n",
       "       [ True],\n",
       "       [False],\n",
       "       [False],\n",
       "       [ True],\n",
       "       [ True],\n",
       "       [ True],\n",
       "       [False],\n",
       "       [False],\n",
       "       [False],\n",
       "       [False],\n",
       "       [False],\n",
       "       [ True],\n",
       "       [ True],\n",
       "       [ True],\n",
       "       [ True],\n",
       "       [False],\n",
       "       [ True],\n",
       "       [ True],\n",
       "       [False],\n",
       "       [ True],\n",
       "       [False],\n",
       "       [False],\n",
       "       [ True],\n",
       "       [ True],\n",
       "       [False],\n",
       "       [False],\n",
       "       [False],\n",
       "       [False],\n",
       "       [False],\n",
       "       [ True],\n",
       "       [ True],\n",
       "       [ True],\n",
       "       [False],\n",
       "       [ True],\n",
       "       [False],\n",
       "       [ True],\n",
       "       [ True],\n",
       "       [False],\n",
       "       [False],\n",
       "       [False],\n",
       "       [ True],\n",
       "       [ True],\n",
       "       [False],\n",
       "       [ True],\n",
       "       [ True],\n",
       "       [ True],\n",
       "       [False],\n",
       "       [ True],\n",
       "       [False],\n",
       "       [ True],\n",
       "       [False],\n",
       "       [ True],\n",
       "       [False],\n",
       "       [ True],\n",
       "       [False],\n",
       "       [False]])"
      ]
     },
     "execution_count": 10,
     "metadata": {},
     "output_type": "execute_result"
    }
   ],
   "source": [
    "B0101T_label==1"
   ]
  },
  {
   "cell_type": "code",
   "execution_count": 11,
   "metadata": {},
   "outputs": [
    {
     "data": {
      "text/plain": [
       "array([[ True],\n",
       "       [False],\n",
       "       [ True],\n",
       "       [False],\n",
       "       [False],\n",
       "       [False],\n",
       "       [False],\n",
       "       [False],\n",
       "       [ True],\n",
       "       [False],\n",
       "       [False],\n",
       "       [ True],\n",
       "       [False],\n",
       "       [False],\n",
       "       [ True],\n",
       "       [ True],\n",
       "       [ True],\n",
       "       [ True],\n",
       "       [ True],\n",
       "       [ True],\n",
       "       [ True],\n",
       "       [ True],\n",
       "       [ True],\n",
       "       [False],\n",
       "       [ True],\n",
       "       [ True],\n",
       "       [ True],\n",
       "       [False],\n",
       "       [False],\n",
       "       [ True],\n",
       "       [ True],\n",
       "       [False],\n",
       "       [False],\n",
       "       [False],\n",
       "       [False],\n",
       "       [ True],\n",
       "       [False],\n",
       "       [False],\n",
       "       [ True],\n",
       "       [False],\n",
       "       [ True],\n",
       "       [ True],\n",
       "       [ True],\n",
       "       [ True],\n",
       "       [False],\n",
       "       [False],\n",
       "       [False],\n",
       "       [False],\n",
       "       [ True],\n",
       "       [ True],\n",
       "       [False],\n",
       "       [False],\n",
       "       [ True],\n",
       "       [False],\n",
       "       [False],\n",
       "       [False],\n",
       "       [ True],\n",
       "       [ True],\n",
       "       [False],\n",
       "       [ True],\n",
       "       [ True],\n",
       "       [ True],\n",
       "       [False],\n",
       "       [False],\n",
       "       [ True],\n",
       "       [False],\n",
       "       [False],\n",
       "       [ True],\n",
       "       [ True],\n",
       "       [ True],\n",
       "       [False],\n",
       "       [False],\n",
       "       [False],\n",
       "       [False],\n",
       "       [False],\n",
       "       [ True],\n",
       "       [ True],\n",
       "       [ True],\n",
       "       [ True],\n",
       "       [False],\n",
       "       [ True],\n",
       "       [ True],\n",
       "       [False],\n",
       "       [ True],\n",
       "       [False],\n",
       "       [False],\n",
       "       [ True],\n",
       "       [ True],\n",
       "       [False],\n",
       "       [False],\n",
       "       [False],\n",
       "       [False],\n",
       "       [False],\n",
       "       [ True],\n",
       "       [ True],\n",
       "       [ True],\n",
       "       [False],\n",
       "       [ True],\n",
       "       [False],\n",
       "       [ True],\n",
       "       [ True],\n",
       "       [False],\n",
       "       [False],\n",
       "       [False],\n",
       "       [ True],\n",
       "       [ True],\n",
       "       [False],\n",
       "       [ True],\n",
       "       [ True],\n",
       "       [ True],\n",
       "       [False],\n",
       "       [ True],\n",
       "       [False],\n",
       "       [ True],\n",
       "       [False],\n",
       "       [ True],\n",
       "       [False],\n",
       "       [ True],\n",
       "       [False],\n",
       "       [False]])"
      ]
     },
     "execution_count": 11,
     "metadata": {},
     "output_type": "execute_result"
    }
   ],
   "source": [
    "B0101T_label==1"
   ]
  },
  {
   "cell_type": "code",
   "execution_count": 12,
   "metadata": {},
   "outputs": [],
   "source": [
    "cnt = 0\n",
    "idx0 = []\n",
    "for i in B0101T_label:\n",
    "    if i == 1:\n",
    "        idx0.append(cnt)\n",
    "    cnt += 1"
   ]
  },
  {
   "cell_type": "code",
   "execution_count": 13,
   "metadata": {},
   "outputs": [],
   "source": [
    "cnt = 0\n",
    "idx1 = []\n",
    "for i in B0101T_label:\n",
    "    if i == 2:\n",
    "        idx1.append(cnt)\n",
    "    cnt += 1"
   ]
  },
  {
   "cell_type": "code",
   "execution_count": 14,
   "metadata": {},
   "outputs": [
    {
     "data": {
      "text/plain": [
       "<EpochsTFR | time : [1.996000, 6.996000], freq : [2.000000, 35.000000], epochs : 60, channels : 3, ~29.2 MB>"
      ]
     },
     "execution_count": 14,
     "metadata": {},
     "output_type": "execute_result"
    }
   ],
   "source": [
    "tfr[idx0]\n"
   ]
  },
  {
   "cell_type": "code",
   "execution_count": 15,
   "metadata": {},
   "outputs": [
    {
     "name": "stdout",
     "output_type": "stream",
     "text": [
      "Using a threshold of 1.671093\n",
      "stat_fun(H1): min=-10.628489 max=4.182284\n",
      "Running initial clustering\n",
      "Found 17 clusters\n",
      "Permuting 99 times...\n"
     ]
    },
    {
     "name": "stderr",
     "output_type": "stream",
     "text": [
      "100%|██████████|  : 99/99 [00:01<00:00,   85.50it/s]\n"
     ]
    },
    {
     "name": "stdout",
     "output_type": "stream",
     "text": [
      "Computing cluster p-values\n",
      "Step-down-in-jumps iteration #1 found 2 clusters to exclude from subsequent iterations\n",
      "Permuting 99 times...\n"
     ]
    },
    {
     "name": "stderr",
     "output_type": "stream",
     "text": [
      "100%|██████████|  : 99/99 [00:01<00:00,   88.08it/s]\n"
     ]
    },
    {
     "name": "stdout",
     "output_type": "stream",
     "text": [
      "Computing cluster p-values\n",
      "Step-down-in-jumps iteration #2 found 0 additional clusters to exclude from subsequent iterations\n",
      "Done.\n",
      "Using a threshold of -1.671093\n",
      "stat_fun(H1): min=-10.628489 max=4.182284\n",
      "Running initial clustering\n",
      "Found 28 clusters\n",
      "Permuting 99 times...\n"
     ]
    },
    {
     "name": "stderr",
     "output_type": "stream",
     "text": [
      "100%|██████████|  : 99/99 [00:01<00:00,   87.54it/s]"
     ]
    },
    {
     "name": "stdout",
     "output_type": "stream",
     "text": [
      "Computing cluster p-values\n",
      "Step-down-in-jumps iteration #1 found 0 clusters to exclude from subsequent iterations\n",
      "Done.\n",
      "No baseline correction applied\n",
      "Using a threshold of 1.671093\n",
      "stat_fun(H1): min=-7.831124 max=4.757428\n",
      "Running initial clustering\n",
      "Found 30 clusters\n",
      "Permuting 99 times...\n"
     ]
    },
    {
     "name": "stderr",
     "output_type": "stream",
     "text": [
      "\n",
      "100%|██████████|  : 99/99 [00:01<00:00,   83.49it/s]\n"
     ]
    },
    {
     "name": "stdout",
     "output_type": "stream",
     "text": [
      "Computing cluster p-values\n",
      "Step-down-in-jumps iteration #1 found 3 clusters to exclude from subsequent iterations\n",
      "Permuting 99 times...\n"
     ]
    },
    {
     "name": "stderr",
     "output_type": "stream",
     "text": [
      "100%|██████████|  : 99/99 [00:01<00:00,   88.55it/s]"
     ]
    },
    {
     "name": "stdout",
     "output_type": "stream",
     "text": [
      "Computing cluster p-values\n",
      "Step-down-in-jumps iteration #2 found 0 additional clusters to exclude from subsequent iterations\n",
      "Done.\n",
      "Using a threshold of -1.671093\n",
      "stat_fun(H1): min=-7.831124 max=4.757428\n",
      "Running initial clustering\n",
      "Found 35 clusters\n",
      "Permuting 99 times...\n"
     ]
    },
    {
     "name": "stderr",
     "output_type": "stream",
     "text": [
      "\n",
      "100%|██████████|  : 99/99 [00:01<00:00,   88.79it/s]\n"
     ]
    },
    {
     "name": "stdout",
     "output_type": "stream",
     "text": [
      "Computing cluster p-values\n",
      "Step-down-in-jumps iteration #1 found 0 clusters to exclude from subsequent iterations\n",
      "Done.\n",
      "No baseline correction applied\n",
      "Using a threshold of 1.671093\n",
      "stat_fun(H1): min=-11.569873 max=4.343485\n",
      "Running initial clustering\n",
      "Found 31 clusters\n",
      "Permuting 99 times...\n"
     ]
    },
    {
     "name": "stderr",
     "output_type": "stream",
     "text": [
      "100%|██████████|  : 99/99 [00:01<00:00,   86.62it/s]\n"
     ]
    },
    {
     "name": "stdout",
     "output_type": "stream",
     "text": [
      "Computing cluster p-values\n",
      "Step-down-in-jumps iteration #1 found 1 cluster to exclude from subsequent iterations\n",
      "Permuting 99 times...\n"
     ]
    },
    {
     "name": "stderr",
     "output_type": "stream",
     "text": [
      "100%|██████████|  : 99/99 [00:01<00:00,   86.39it/s]\n"
     ]
    },
    {
     "name": "stdout",
     "output_type": "stream",
     "text": [
      "Computing cluster p-values\n",
      "Step-down-in-jumps iteration #2 found 0 additional clusters to exclude from subsequent iterations\n",
      "Done.\n",
      "Using a threshold of -1.671093\n",
      "stat_fun(H1): min=-11.569873 max=4.343485\n",
      "Running initial clustering\n",
      "Found 33 clusters\n",
      "Permuting 99 times...\n"
     ]
    },
    {
     "name": "stderr",
     "output_type": "stream",
     "text": [
      "100%|██████████|  : 99/99 [00:01<00:00,   88.00it/s]\n"
     ]
    },
    {
     "name": "stdout",
     "output_type": "stream",
     "text": [
      "Computing cluster p-values\n",
      "Step-down-in-jumps iteration #1 found 1 cluster to exclude from subsequent iterations\n",
      "Permuting 99 times...\n"
     ]
    },
    {
     "name": "stderr",
     "output_type": "stream",
     "text": [
      "100%|██████████|  : 99/99 [00:01<00:00,   85.43it/s]\n"
     ]
    },
    {
     "name": "stdout",
     "output_type": "stream",
     "text": [
      "Computing cluster p-values\n",
      "Step-down-in-jumps iteration #2 found 0 additional clusters to exclude from subsequent iterations\n",
      "Done.\n",
      "No baseline correction applied\n"
     ]
    },
    {
     "data": {
      "image/png": "[encoded data removed]",
      "text/plain": [
       "<Figure size 864x288 with 4 Axes>"
      ]
     },
     "metadata": {
      "needs_background": "light"
     },
     "output_type": "display_data"
    }
   ],
   "source": [
    "tfr_ev = tfr[idx0]\n",
    "fig, axes = plt.subplots(1, 4, figsize=(12, 4),\n",
    "                            gridspec_kw={\"width_ratios\": [10, 10, 10, 1]})\n",
    "for ch, ax in enumerate(axes[:-1]):  # for each channel\n",
    "    # positive clusters\n",
    "    _, c1, p1, _ = pcluster_test(tfr_ev.data[:, ch], tail=1, **kwargs)\n",
    "    # negative clusters\n",
    "    _, c2, p2, _ = pcluster_test(tfr_ev.data[:, ch], tail=-1, **kwargs)\n",
    "\n",
    "    # note that we keep clusters with p <= 0.05 from the combined clusters\n",
    "    # of two independent tests; in this example, we do not correct for\n",
    "    # these two comparisons\n",
    "    c = np.stack(c1 + c2, axis=2)  # combined clusters\n",
    "    p = np.concatenate((p1, p2))  # combined p-values\n",
    "    mask = c[..., p <= 0.05].any(axis=-1)\n",
    "\n",
    "    # plot TFR (ERDS map with masking)\n",
    "    tfr_ev.average().plot([ch], cmap=\"RdBu\", cnorm=cnorm, axes=ax,\n",
    "                            colorbar=False, show=False, mask=mask,\n",
    "                            mask_style=\"mask\")\n",
    "\n",
    "    ax.set_title(epochs.ch_names[ch], fontsize=10)\n",
    "    ax.axvline(0, linewidth=1, color=\"black\", linestyle=\":\")  # event\n",
    "    if ch != 0:\n",
    "        ax.set_ylabel(\"\")\n",
    "        ax.set_yticklabels(\"\")\n",
    "fig.colorbar(axes[0].images[-1], cax=axes[-1]).ax.set_yscale(\"linear\")\n",
    "fig.suptitle(f\"ERDS (769)\")\n",
    "plt.show()"
   ]
  },
  {
   "cell_type": "code",
   "execution_count": 16,
   "metadata": {},
   "outputs": [
    {
     "name": "stdout",
     "output_type": "stream",
     "text": [
      "Using a threshold of 1.671093\n",
      "stat_fun(H1): min=-10.322176 max=4.043747\n",
      "Running initial clustering\n",
      "Found 32 clusters\n",
      "Permuting 99 times...\n"
     ]
    },
    {
     "name": "stderr",
     "output_type": "stream",
     "text": [
      "100%|██████████|  : 99/99 [00:01<00:00,   87.84it/s]\n"
     ]
    },
    {
     "name": "stdout",
     "output_type": "stream",
     "text": [
      "Computing cluster p-values\n",
      "Step-down-in-jumps iteration #1 found 2 clusters to exclude from subsequent iterations\n",
      "Permuting 99 times...\n"
     ]
    },
    {
     "name": "stderr",
     "output_type": "stream",
     "text": [
      "100%|██████████|  : 99/99 [00:01<00:00,   87.30it/s]\n"
     ]
    },
    {
     "name": "stdout",
     "output_type": "stream",
     "text": [
      "Computing cluster p-values\n",
      "Step-down-in-jumps iteration #2 found 0 additional clusters to exclude from subsequent iterations\n",
      "Done.\n",
      "Using a threshold of -1.671093\n",
      "stat_fun(H1): min=-10.322176 max=4.043747\n",
      "Running initial clustering\n",
      "Found 44 clusters\n",
      "Permuting 99 times...\n"
     ]
    },
    {
     "name": "stderr",
     "output_type": "stream",
     "text": [
      "100%|██████████|  : 99/99 [00:01<00:00,   80.11it/s]\n"
     ]
    },
    {
     "name": "stdout",
     "output_type": "stream",
     "text": [
      "Computing cluster p-values\n",
      "Step-down-in-jumps iteration #1 found 1 cluster to exclude from subsequent iterations\n",
      "Permuting 99 times...\n"
     ]
    },
    {
     "name": "stderr",
     "output_type": "stream",
     "text": [
      "100%|██████████|  : 99/99 [00:01<00:00,   84.41it/s]"
     ]
    },
    {
     "name": "stdout",
     "output_type": "stream",
     "text": [
      "Computing cluster p-values\n",
      "Step-down-in-jumps iteration #2 found 0 additional clusters to exclude from subsequent iterations\n",
      "Done.\n",
      "No baseline correction applied\n",
      "Using a threshold of 1.671093\n",
      "stat_fun(H1): min=-10.868372 max=6.000414\n",
      "Running initial clustering\n",
      "Found 23 clusters\n",
      "Permuting 99 times...\n"
     ]
    },
    {
     "name": "stderr",
     "output_type": "stream",
     "text": [
      "\n",
      "100%|██████████|  : 99/99 [00:01<00:00,   85.35it/s]\n"
     ]
    },
    {
     "name": "stdout",
     "output_type": "stream",
     "text": [
      "Computing cluster p-values\n",
      "Step-down-in-jumps iteration #1 found 2 clusters to exclude from subsequent iterations\n",
      "Permuting 99 times...\n"
     ]
    },
    {
     "name": "stderr",
     "output_type": "stream",
     "text": [
      "100%|██████████|  : 99/99 [00:01<00:00,   87.22it/s]\n"
     ]
    },
    {
     "name": "stdout",
     "output_type": "stream",
     "text": [
      "Computing cluster p-values\n",
      "Step-down-in-jumps iteration #2 found 1 additional cluster to exclude from subsequent iterations\n",
      "Permuting 99 times...\n"
     ]
    },
    {
     "name": "stderr",
     "output_type": "stream",
     "text": [
      "100%|██████████|  : 99/99 [00:01<00:00,   87.23it/s]\n"
     ]
    },
    {
     "name": "stdout",
     "output_type": "stream",
     "text": [
      "Computing cluster p-values\n",
      "Step-down-in-jumps iteration #3 found 0 additional clusters to exclude from subsequent iterations\n",
      "Done.\n",
      "Using a threshold of -1.671093\n",
      "stat_fun(H1): min=-10.868372 max=6.000414\n",
      "Running initial clustering\n",
      "Found 46 clusters\n",
      "Permuting 99 times...\n"
     ]
    },
    {
     "name": "stderr",
     "output_type": "stream",
     "text": [
      "100%|██████████|  : 99/99 [00:01<00:00,   86.16it/s]\n"
     ]
    },
    {
     "name": "stdout",
     "output_type": "stream",
     "text": [
      "Computing cluster p-values\n",
      "Step-down-in-jumps iteration #1 found 0 clusters to exclude from subsequent iterations\n",
      "Done.\n",
      "No baseline correction applied\n",
      "Using a threshold of 1.671093\n",
      "stat_fun(H1): min=-7.557052 max=4.993608\n",
      "Running initial clustering\n",
      "Found 36 clusters\n",
      "Permuting 99 times...\n"
     ]
    },
    {
     "name": "stderr",
     "output_type": "stream",
     "text": [
      "100%|██████████|  : 99/99 [00:01<00:00,   85.20it/s]\n"
     ]
    },
    {
     "name": "stdout",
     "output_type": "stream",
     "text": [
      "Computing cluster p-values\n",
      "Step-down-in-jumps iteration #1 found 1 cluster to exclude from subsequent iterations\n",
      "Permuting 99 times...\n"
     ]
    },
    {
     "name": "stderr",
     "output_type": "stream",
     "text": [
      "100%|██████████|  : 99/99 [00:01<00:00,   89.11it/s]\n"
     ]
    },
    {
     "name": "stdout",
     "output_type": "stream",
     "text": [
      "Computing cluster p-values\n",
      "Step-down-in-jumps iteration #2 found 1 additional cluster to exclude from subsequent iterations\n",
      "Permuting 99 times...\n"
     ]
    },
    {
     "name": "stderr",
     "output_type": "stream",
     "text": [
      "100%|██████████|  : 99/99 [00:01<00:00,   89.91it/s]\n"
     ]
    },
    {
     "name": "stdout",
     "output_type": "stream",
     "text": [
      "Computing cluster p-values\n",
      "Step-down-in-jumps iteration #3 found 0 additional clusters to exclude from subsequent iterations\n",
      "Done.\n",
      "Using a threshold of -1.671093\n",
      "stat_fun(H1): min=-7.557052 max=4.993608\n",
      "Running initial clustering\n",
      "Found 34 clusters\n",
      "Permuting 99 times...\n"
     ]
    },
    {
     "name": "stderr",
     "output_type": "stream",
     "text": [
      "100%|██████████|  : 99/99 [00:01<00:00,   79.73it/s]\n"
     ]
    },
    {
     "name": "stdout",
     "output_type": "stream",
     "text": [
      "Computing cluster p-values\n",
      "Step-down-in-jumps iteration #1 found 0 clusters to exclude from subsequent iterations\n",
      "Done.\n",
      "No baseline correction applied\n"
     ]
    },
    {
     "data": {
      "image/png": "[encoded data removed]",
      "text/plain": [
       "<Figure size 864x288 with 4 Axes>"
      ]
     },
     "metadata": {
      "needs_background": "light"
     },
     "output_type": "display_data"
    }
   ],
   "source": [
    "tfr_ev = tfr[idx1]\n",
    "fig, axes = plt.subplots(1, 4, figsize=(12, 4),\n",
    "                            gridspec_kw={\"width_ratios\": [10, 10, 10, 1]})\n",
    "for ch, ax in enumerate(axes[:-1]):  # for each channel\n",
    "    # positive clusters\n",
    "    _, c1, p1, _ = pcluster_test(tfr_ev.data[:, ch], tail=1, **kwargs)\n",
    "    # negative clusters\n",
    "    _, c2, p2, _ = pcluster_test(tfr_ev.data[:, ch], tail=-1, **kwargs)\n",
    "\n",
    "    # note that we keep clusters with p <= 0.05 from the combined clusters\n",
    "    # of two independent tests; in this example, we do not correct for\n",
    "    # these two comparisons\n",
    "    c = np.stack(c1 + c2, axis=2)  # combined clusters\n",
    "    p = np.concatenate((p1, p2))  # combined p-values\n",
    "    mask = c[..., p <= 0.05].any(axis=-1)\n",
    "\n",
    "    # plot TFR (ERDS map with masking)\n",
    "    tfr_ev.average().plot([ch], cmap=\"RdBu\", cnorm=cnorm, axes=ax,\n",
    "                            colorbar=False, show=False, mask=mask,\n",
    "                            mask_style=\"mask\")\n",
    "\n",
    "    ax.set_title(epochs.ch_names[ch], fontsize=10)\n",
    "    ax.axvline(0, linewidth=1, color=\"black\", linestyle=\":\")  # event\n",
    "    if ch != 0:\n",
    "        ax.set_ylabel(\"\")\n",
    "        ax.set_yticklabels(\"\")\n",
    "fig.colorbar(axes[0].images[-1], cax=axes[-1]).ax.set_yscale(\"linear\")\n",
    "fig.suptitle(f\"ERDS (770)\")\n",
    "plt.show()"
   ]
  },
  {
   "cell_type": "code",
   "execution_count": 17,
   "metadata": {},
   "outputs": [
    {
     "name": "stdout",
     "output_type": "stream",
     "text": [
      "No baseline correction applied\n"
     ]
    },
    {
     "data": {
      "image/png": "[encoded data removed]",
      "text/plain": [
       "<Figure size 432x288 with 2 Axes>"
      ]
     },
     "metadata": {
      "needs_background": "light"
     },
     "output_type": "display_data"
    },
    {
     "data": {
      "image/png": "[encoded data removed]",
      "text/plain": [
       "<Figure size 432x288 with 2 Axes>"
      ]
     },
     "metadata": {
      "needs_background": "light"
     },
     "output_type": "display_data"
    },
    {
     "data": {
      "image/png": "[encoded data removed]",
      "text/plain": [
       "<Figure size 432x288 with 2 Axes>"
      ]
     },
     "metadata": {
      "needs_background": "light"
     },
     "output_type": "display_data"
    },
    {
     "data": {
      "text/plain": [
       "[<Figure size 432x288 with 2 Axes>,\n",
       " <Figure size 432x288 with 2 Axes>,\n",
       " <Figure size 432x288 with 2 Axes>]"
      ]
     },
     "execution_count": 17,
     "metadata": {},
     "output_type": "execute_result"
    }
   ],
   "source": [
    "tfr_ev.average().plot()"
   ]
  },
  {
   "cell_type": "code",
   "execution_count": 18,
   "metadata": {},
   "outputs": [
    {
     "ename": "KeyError",
     "evalue": "'Event \"770\" is not in Epochs. Event_ids must be one of \"768\"'",
     "output_type": "error",
     "traceback": [
      "\u001b[1;31m---------------------------------------------------------------------------\u001b[0m",
      "\u001b[1;31mKeyError\u001b[0m                                  Traceback (most recent call last)",
      "\u001b[1;32me:\\19_BCIexperiment\\02_CodeTest\\MNE_TEST\\ERDS_day4.ipynb Cell 18'\u001b[0m in \u001b[0;36m<cell line: 1>\u001b[1;34m()\u001b[0m\n\u001b[1;32m----> <a href='vscode-notebook-cell:/e%3A/19_BCIexperiment/02_CodeTest/MNE_TEST/ERDS_day4.ipynb#ch0000010?line=0'>1</a>\u001b[0m tfr_ev \u001b[39m=\u001b[39m tfr[\u001b[39m'\u001b[39;49m\u001b[39m770\u001b[39;49m\u001b[39m'\u001b[39;49m][\u001b[39m0\u001b[39m]\n\u001b[0;32m      <a href='vscode-notebook-cell:/e%3A/19_BCIexperiment/02_CodeTest/MNE_TEST/ERDS_day4.ipynb#ch0000010?line=1'>2</a>\u001b[0m tfr_ev\u001b[39m.\u001b[39maverage()\u001b[39m.\u001b[39mplot()\n",
      "File \u001b[1;32mD:\\ANACONDA\\envs\\ML_py38_CU\\lib\\site-packages\\mne\\utils\\mixin.py:144\u001b[0m, in \u001b[0;36mGetEpochsMixin.__getitem__\u001b[1;34m(self, item)\u001b[0m\n\u001b[0;32m     <a href='file:///d%3A/ANACONDA/envs/ML_py38_CU/lib/site-packages/mne/utils/mixin.py?line=77'>78</a>\u001b[0m \u001b[39mdef\u001b[39;00m \u001b[39m__getitem__\u001b[39m(\u001b[39mself\u001b[39m, item):\n\u001b[0;32m     <a href='file:///d%3A/ANACONDA/envs/ML_py38_CU/lib/site-packages/mne/utils/mixin.py?line=78'>79</a>\u001b[0m     \u001b[39m\"\"\"Return an Epochs object with a copied subset of epochs.\u001b[39;00m\n\u001b[0;32m     <a href='file:///d%3A/ANACONDA/envs/ML_py38_CU/lib/site-packages/mne/utils/mixin.py?line=79'>80</a>\u001b[0m \n\u001b[0;32m     <a href='file:///d%3A/ANACONDA/envs/ML_py38_CU/lib/site-packages/mne/utils/mixin.py?line=80'>81</a>\u001b[0m \u001b[39m    Parameters\u001b[39;00m\n\u001b[1;32m   (...)\u001b[0m\n\u001b[0;32m    <a href='file:///d%3A/ANACONDA/envs/ML_py38_CU/lib/site-packages/mne/utils/mixin.py?line=141'>142</a>\u001b[0m \u001b[39m       .. versionadded:: 0.16\u001b[39;00m\n\u001b[0;32m    <a href='file:///d%3A/ANACONDA/envs/ML_py38_CU/lib/site-packages/mne/utils/mixin.py?line=142'>143</a>\u001b[0m \u001b[39m    \"\"\"\u001b[39;00m\n\u001b[1;32m--> <a href='file:///d%3A/ANACONDA/envs/ML_py38_CU/lib/site-packages/mne/utils/mixin.py?line=143'>144</a>\u001b[0m     \u001b[39mreturn\u001b[39;00m \u001b[39mself\u001b[39;49m\u001b[39m.\u001b[39;49m_getitem(item)\n",
      "File \u001b[1;32mD:\\ANACONDA\\envs\\ML_py38_CU\\lib\\site-packages\\mne\\utils\\mixin.py:195\u001b[0m, in \u001b[0;36mGetEpochsMixin._getitem\u001b[1;34m(***failed resolving arguments***)\u001b[0m\n\u001b[0;32m    <a href='file:///d%3A/ANACONDA/envs/ML_py38_CU/lib/site-packages/mne/utils/mixin.py?line=191'>192</a>\u001b[0m \u001b[39mself\u001b[39m\u001b[39m.\u001b[39m_data \u001b[39m=\u001b[39m inst\u001b[39m.\u001b[39m_data \u001b[39m=\u001b[39m data\n\u001b[0;32m    <a href='file:///d%3A/ANACONDA/envs/ML_py38_CU/lib/site-packages/mne/utils/mixin.py?line=192'>193</a>\u001b[0m \u001b[39mdel\u001b[39;00m \u001b[39mself\u001b[39m\n\u001b[1;32m--> <a href='file:///d%3A/ANACONDA/envs/ML_py38_CU/lib/site-packages/mne/utils/mixin.py?line=194'>195</a>\u001b[0m select \u001b[39m=\u001b[39m inst\u001b[39m.\u001b[39;49m_item_to_select(item)\n\u001b[0;32m    <a href='file:///d%3A/ANACONDA/envs/ML_py38_CU/lib/site-packages/mne/utils/mixin.py?line=195'>196</a>\u001b[0m has_selection \u001b[39m=\u001b[39m \u001b[39mhasattr\u001b[39m(inst, \u001b[39m'\u001b[39m\u001b[39mselection\u001b[39m\u001b[39m'\u001b[39m)\n\u001b[0;32m    <a href='file:///d%3A/ANACONDA/envs/ML_py38_CU/lib/site-packages/mne/utils/mixin.py?line=196'>197</a>\u001b[0m \u001b[39mif\u001b[39;00m has_selection:\n",
      "File \u001b[1;32mD:\\ANACONDA\\envs\\ML_py38_CU\\lib\\site-packages\\mne\\utils\\mixin.py:153\u001b[0m, in \u001b[0;36mGetEpochsMixin._item_to_select\u001b[1;34m(self, item)\u001b[0m\n\u001b[0;32m    <a href='file:///d%3A/ANACONDA/envs/ML_py38_CU/lib/site-packages/mne/utils/mixin.py?line=149'>150</a>\u001b[0m \u001b[39m# Convert string to indices\u001b[39;00m\n\u001b[0;32m    <a href='file:///d%3A/ANACONDA/envs/ML_py38_CU/lib/site-packages/mne/utils/mixin.py?line=150'>151</a>\u001b[0m \u001b[39mif\u001b[39;00m \u001b[39misinstance\u001b[39m(item, (\u001b[39mlist\u001b[39m, \u001b[39mtuple\u001b[39m)) \u001b[39mand\u001b[39;00m \u001b[39mlen\u001b[39m(item) \u001b[39m>\u001b[39m \u001b[39m0\u001b[39m \u001b[39mand\u001b[39;00m \\\n\u001b[0;32m    <a href='file:///d%3A/ANACONDA/envs/ML_py38_CU/lib/site-packages/mne/utils/mixin.py?line=151'>152</a>\u001b[0m         \u001b[39misinstance\u001b[39m(item[\u001b[39m0\u001b[39m], \u001b[39mstr\u001b[39m):\n\u001b[1;32m--> <a href='file:///d%3A/ANACONDA/envs/ML_py38_CU/lib/site-packages/mne/utils/mixin.py?line=152'>153</a>\u001b[0m     select \u001b[39m=\u001b[39m \u001b[39mself\u001b[39;49m\u001b[39m.\u001b[39;49m_keys_to_idx(item)\n\u001b[0;32m    <a href='file:///d%3A/ANACONDA/envs/ML_py38_CU/lib/site-packages/mne/utils/mixin.py?line=153'>154</a>\u001b[0m \u001b[39melif\u001b[39;00m \u001b[39misinstance\u001b[39m(item, \u001b[39mslice\u001b[39m):\n\u001b[0;32m    <a href='file:///d%3A/ANACONDA/envs/ML_py38_CU/lib/site-packages/mne/utils/mixin.py?line=154'>155</a>\u001b[0m     select \u001b[39m=\u001b[39m item\n",
      "File \u001b[1;32mD:\\ANACONDA\\envs\\ML_py38_CU\\lib\\site-packages\\mne\\utils\\mixin.py:240\u001b[0m, in \u001b[0;36mGetEpochsMixin._keys_to_idx\u001b[1;34m(self, keys)\u001b[0m\n\u001b[0;32m    <a href='file:///d%3A/ANACONDA/envs/ML_py38_CU/lib/site-packages/mne/utils/mixin.py?line=234'>235</a>\u001b[0m keys \u001b[39m=\u001b[39m keys \u001b[39mif\u001b[39;00m \u001b[39misinstance\u001b[39m(keys, (\u001b[39mlist\u001b[39m, \u001b[39mtuple\u001b[39m)) \u001b[39melse\u001b[39;00m [keys]\n\u001b[0;32m    <a href='file:///d%3A/ANACONDA/envs/ML_py38_CU/lib/site-packages/mne/utils/mixin.py?line=235'>236</a>\u001b[0m \u001b[39mtry\u001b[39;00m:\n\u001b[0;32m    <a href='file:///d%3A/ANACONDA/envs/ML_py38_CU/lib/site-packages/mne/utils/mixin.py?line=236'>237</a>\u001b[0m     \u001b[39m# Assume it's a condition name\u001b[39;00m\n\u001b[0;32m    <a href='file:///d%3A/ANACONDA/envs/ML_py38_CU/lib/site-packages/mne/utils/mixin.py?line=237'>238</a>\u001b[0m     \u001b[39mreturn\u001b[39;00m np\u001b[39m.\u001b[39mwhere(np\u001b[39m.\u001b[39many(\n\u001b[0;32m    <a href='file:///d%3A/ANACONDA/envs/ML_py38_CU/lib/site-packages/mne/utils/mixin.py?line=238'>239</a>\u001b[0m         np\u001b[39m.\u001b[39marray([\u001b[39mself\u001b[39m\u001b[39m.\u001b[39mevents[:, \u001b[39m2\u001b[39m] \u001b[39m==\u001b[39m \u001b[39mself\u001b[39m\u001b[39m.\u001b[39mevent_id[k]\n\u001b[1;32m--> <a href='file:///d%3A/ANACONDA/envs/ML_py38_CU/lib/site-packages/mne/utils/mixin.py?line=239'>240</a>\u001b[0m                   \u001b[39mfor\u001b[39;00m k \u001b[39min\u001b[39;00m _hid_match(\u001b[39mself\u001b[39;49m\u001b[39m.\u001b[39;49mevent_id, keys)]),\n\u001b[0;32m    <a href='file:///d%3A/ANACONDA/envs/ML_py38_CU/lib/site-packages/mne/utils/mixin.py?line=240'>241</a>\u001b[0m         axis\u001b[39m=\u001b[39m\u001b[39m0\u001b[39m))[\u001b[39m0\u001b[39m]\n\u001b[0;32m    <a href='file:///d%3A/ANACONDA/envs/ML_py38_CU/lib/site-packages/mne/utils/mixin.py?line=241'>242</a>\u001b[0m \u001b[39mexcept\u001b[39;00m \u001b[39mKeyError\u001b[39;00m \u001b[39mas\u001b[39;00m err:\n\u001b[0;32m    <a href='file:///d%3A/ANACONDA/envs/ML_py38_CU/lib/site-packages/mne/utils/mixin.py?line=242'>243</a>\u001b[0m     \u001b[39m# Could we in principle use metadata with these Epochs and keys?\u001b[39;00m\n\u001b[0;32m    <a href='file:///d%3A/ANACONDA/envs/ML_py38_CU/lib/site-packages/mne/utils/mixin.py?line=243'>244</a>\u001b[0m     \u001b[39mif\u001b[39;00m (\u001b[39mlen\u001b[39m(keys) \u001b[39m!=\u001b[39m \u001b[39m1\u001b[39m \u001b[39mor\u001b[39;00m \u001b[39mself\u001b[39m\u001b[39m.\u001b[39mmetadata \u001b[39mis\u001b[39;00m \u001b[39mNone\u001b[39;00m):\n\u001b[0;32m    <a href='file:///d%3A/ANACONDA/envs/ML_py38_CU/lib/site-packages/mne/utils/mixin.py?line=244'>245</a>\u001b[0m         \u001b[39m# If not, raise original error\u001b[39;00m\n",
      "File \u001b[1;32mD:\\ANACONDA\\envs\\ML_py38_CU\\lib\\site-packages\\mne\\utils\\mixin.py:470\u001b[0m, in \u001b[0;36m_hid_match\u001b[1;34m(event_id, keys)\u001b[0m\n\u001b[0;32m    <a href='file:///d%3A/ANACONDA/envs/ML_py38_CU/lib/site-packages/mne/utils/mixin.py?line=466'>467</a>\u001b[0m     use_keys\u001b[39m.\u001b[39mextend(k \u001b[39mfor\u001b[39;00m k \u001b[39min\u001b[39;00m event_id\u001b[39m.\u001b[39mkeys()\n\u001b[0;32m    <a href='file:///d%3A/ANACONDA/envs/ML_py38_CU/lib/site-packages/mne/utils/mixin.py?line=467'>468</a>\u001b[0m                     \u001b[39mif\u001b[39;00m \u001b[39mset\u001b[39m(key\u001b[39m.\u001b[39msplit(\u001b[39m'\u001b[39m\u001b[39m/\u001b[39m\u001b[39m'\u001b[39m))\u001b[39m.\u001b[39missubset(k\u001b[39m.\u001b[39msplit(\u001b[39m'\u001b[39m\u001b[39m/\u001b[39m\u001b[39m'\u001b[39m)))\n\u001b[0;32m    <a href='file:///d%3A/ANACONDA/envs/ML_py38_CU/lib/site-packages/mne/utils/mixin.py?line=468'>469</a>\u001b[0m \u001b[39mif\u001b[39;00m \u001b[39mlen\u001b[39m(use_keys) \u001b[39m==\u001b[39m \u001b[39m0\u001b[39m:\n\u001b[1;32m--> <a href='file:///d%3A/ANACONDA/envs/ML_py38_CU/lib/site-packages/mne/utils/mixin.py?line=469'>470</a>\u001b[0m     \u001b[39mraise\u001b[39;00m \u001b[39mKeyError\u001b[39;00m(\u001b[39m'\u001b[39m\u001b[39mEvent \u001b[39m\u001b[39m\"\u001b[39m\u001b[39m{}\u001b[39;00m\u001b[39m\"\u001b[39m\u001b[39m is not in Epochs. Event_ids must be one of \u001b[39m\u001b[39m'\u001b[39m\n\u001b[0;32m    <a href='file:///d%3A/ANACONDA/envs/ML_py38_CU/lib/site-packages/mne/utils/mixin.py?line=470'>471</a>\u001b[0m                    \u001b[39m'\u001b[39m\u001b[39m\"\u001b[39m\u001b[39m{}\u001b[39;00m\u001b[39m\"\u001b[39m\u001b[39m'\u001b[39m\u001b[39m.\u001b[39mformat(key, \u001b[39m'\u001b[39m\u001b[39m, \u001b[39m\u001b[39m'\u001b[39m\u001b[39m.\u001b[39mjoin(event_id\u001b[39m.\u001b[39mkeys())))\n\u001b[0;32m    <a href='file:///d%3A/ANACONDA/envs/ML_py38_CU/lib/site-packages/mne/utils/mixin.py?line=471'>472</a>\u001b[0m use_keys \u001b[39m=\u001b[39m \u001b[39mlist\u001b[39m(\u001b[39mset\u001b[39m(use_keys))  \u001b[39m# deduplicate if necessary\u001b[39;00m\n\u001b[0;32m    <a href='file:///d%3A/ANACONDA/envs/ML_py38_CU/lib/site-packages/mne/utils/mixin.py?line=472'>473</a>\u001b[0m \u001b[39mreturn\u001b[39;00m use_keys\n",
      "\u001b[1;31mKeyError\u001b[0m: 'Event \"770\" is not in Epochs. Event_ids must be one of \"768\"'"
     ]
    }
   ],
   "source": [
    "tfr_ev = tfr['770'][0]\n",
    "tfr_ev.average().plot()"
   ]
  },
  {
   "cell_type": "code",
   "execution_count": null,
   "metadata": {},
   "outputs": [],
   "source": [
    "tfr_ev = tfr['769']\n",
    "tfr_ev.average().plot()"
   ]
  },
  {
   "cell_type": "code",
   "execution_count": null,
   "metadata": {},
   "outputs": [],
   "source": [
    "tfr_ev = tfr['769'][0]\n",
    "tfr_ev.average().plot()"
   ]
  },
  {
   "cell_type": "code",
   "execution_count": 19,
   "metadata": {},
   "outputs": [],
   "source": [
    "df = tfr.to_data_frame(time_format=None)\n"
   ]
  },
  {
   "cell_type": "code",
   "execution_count": 20,
   "metadata": {},
   "outputs": [
    {
     "name": "stdout",
     "output_type": "stream",
     "text": [
      "(2554080, 7)\n"
     ]
    }
   ],
   "source": [
    "aa  = df.values\n",
    "print(aa.shape)"
   ]
  },
  {
   "cell_type": "code",
   "execution_count": 50,
   "metadata": {},
   "outputs": [],
   "source": []
  },
  {
   "cell_type": "code",
   "execution_count": 22,
   "metadata": {},
   "outputs": [
    {
     "data": {
      "text/html": [
       "<div>\n",
       "<style scoped>\n",
       "    .dataframe tbody tr th:only-of-type {\n",
       "        vertical-align: middle;\n",
       "    }\n",
       "\n",
       "    .dataframe tbody tr th {\n",
       "        vertical-align: top;\n",
       "    }\n",
       "\n",
       "    .dataframe thead th {\n",
       "        text-align: right;\n",
       "    }\n",
       "</style>\n",
       "<table border=\"1\" class=\"dataframe\">\n",
       "  <thead>\n",
       "    <tr style=\"text-align: right;\">\n",
       "      <th></th>\n",
       "      <th>time</th>\n",
       "      <th>freq</th>\n",
       "      <th>epoch</th>\n",
       "      <th>condition</th>\n",
       "      <th>EEG:C3</th>\n",
       "      <th>EEG:Cz</th>\n",
       "      <th>EEG:C4</th>\n",
       "    </tr>\n",
       "  </thead>\n",
       "  <tbody>\n",
       "    <tr>\n",
       "      <th>21284</th>\n",
       "      <td>1.996</td>\n",
       "      <td>2.0</td>\n",
       "      <td>1</td>\n",
       "      <td>768</td>\n",
       "      <td>0.115601</td>\n",
       "      <td>-0.457312</td>\n",
       "      <td>0.216274</td>\n",
       "    </tr>\n",
       "    <tr>\n",
       "      <th>21285</th>\n",
       "      <td>2.004</td>\n",
       "      <td>2.0</td>\n",
       "      <td>1</td>\n",
       "      <td>768</td>\n",
       "      <td>0.059644</td>\n",
       "      <td>-0.456216</td>\n",
       "      <td>0.217999</td>\n",
       "    </tr>\n",
       "    <tr>\n",
       "      <th>21286</th>\n",
       "      <td>2.012</td>\n",
       "      <td>2.0</td>\n",
       "      <td>1</td>\n",
       "      <td>768</td>\n",
       "      <td>-0.000814</td>\n",
       "      <td>-0.456245</td>\n",
       "      <td>0.217286</td>\n",
       "    </tr>\n",
       "    <tr>\n",
       "      <th>21287</th>\n",
       "      <td>2.020</td>\n",
       "      <td>2.0</td>\n",
       "      <td>1</td>\n",
       "      <td>768</td>\n",
       "      <td>-0.069548</td>\n",
       "      <td>-0.457248</td>\n",
       "      <td>0.214321</td>\n",
       "    </tr>\n",
       "    <tr>\n",
       "      <th>21288</th>\n",
       "      <td>2.028</td>\n",
       "      <td>2.0</td>\n",
       "      <td>1</td>\n",
       "      <td>768</td>\n",
       "      <td>-0.113068</td>\n",
       "      <td>-0.457320</td>\n",
       "      <td>0.218008</td>\n",
       "    </tr>\n",
       "    <tr>\n",
       "      <th>...</th>\n",
       "      <td>...</td>\n",
       "      <td>...</td>\n",
       "      <td>...</td>\n",
       "      <td>...</td>\n",
       "      <td>...</td>\n",
       "      <td>...</td>\n",
       "      <td>...</td>\n",
       "    </tr>\n",
       "    <tr>\n",
       "      <th>42563</th>\n",
       "      <td>6.964</td>\n",
       "      <td>35.0</td>\n",
       "      <td>1</td>\n",
       "      <td>768</td>\n",
       "      <td>-0.119541</td>\n",
       "      <td>-0.539983</td>\n",
       "      <td>-0.187130</td>\n",
       "    </tr>\n",
       "    <tr>\n",
       "      <th>42564</th>\n",
       "      <td>6.972</td>\n",
       "      <td>35.0</td>\n",
       "      <td>1</td>\n",
       "      <td>768</td>\n",
       "      <td>0.087720</td>\n",
       "      <td>-0.513390</td>\n",
       "      <td>0.209600</td>\n",
       "    </tr>\n",
       "    <tr>\n",
       "      <th>42565</th>\n",
       "      <td>6.980</td>\n",
       "      <td>35.0</td>\n",
       "      <td>1</td>\n",
       "      <td>768</td>\n",
       "      <td>0.034578</td>\n",
       "      <td>-0.507449</td>\n",
       "      <td>-0.114230</td>\n",
       "    </tr>\n",
       "    <tr>\n",
       "      <th>42566</th>\n",
       "      <td>6.988</td>\n",
       "      <td>35.0</td>\n",
       "      <td>1</td>\n",
       "      <td>768</td>\n",
       "      <td>-0.043934</td>\n",
       "      <td>-0.497736</td>\n",
       "      <td>-0.411330</td>\n",
       "    </tr>\n",
       "    <tr>\n",
       "      <th>42567</th>\n",
       "      <td>6.996</td>\n",
       "      <td>35.0</td>\n",
       "      <td>1</td>\n",
       "      <td>768</td>\n",
       "      <td>-0.062973</td>\n",
       "      <td>-0.460666</td>\n",
       "      <td>-0.053737</td>\n",
       "    </tr>\n",
       "  </tbody>\n",
       "</table>\n",
       "<p>21284 rows × 7 columns</p>\n",
       "</div>"
      ],
      "text/plain": [
       "        time  freq  epoch condition    EEG:C3    EEG:Cz    EEG:C4\n",
       "21284  1.996   2.0      1       768  0.115601 -0.457312  0.216274\n",
       "21285  2.004   2.0      1       768  0.059644 -0.456216  0.217999\n",
       "21286  2.012   2.0      1       768 -0.000814 -0.456245  0.217286\n",
       "21287  2.020   2.0      1       768 -0.069548 -0.457248  0.214321\n",
       "21288  2.028   2.0      1       768 -0.113068 -0.457320  0.218008\n",
       "...      ...   ...    ...       ...       ...       ...       ...\n",
       "42563  6.964  35.0      1       768 -0.119541 -0.539983 -0.187130\n",
       "42564  6.972  35.0      1       768  0.087720 -0.513390  0.209600\n",
       "42565  6.980  35.0      1       768  0.034578 -0.507449 -0.114230\n",
       "42566  6.988  35.0      1       768 -0.043934 -0.497736 -0.411330\n",
       "42567  6.996  35.0      1       768 -0.062973 -0.460666 -0.053737\n",
       "\n",
       "[21284 rows x 7 columns]"
      ]
     },
     "execution_count": 22,
     "metadata": {},
     "output_type": "execute_result"
    }
   ],
   "source": [
    "epoch_0"
   ]
  },
  {
   "cell_type": "code",
   "execution_count": 51,
   "metadata": {},
   "outputs": [],
   "source": []
  },
  {
   "cell_type": "code",
   "execution_count": 52,
   "metadata": {},
   "outputs": [],
   "source": []
  },
  {
   "cell_type": "code",
   "execution_count": 53,
   "metadata": {},
   "outputs": [
    {
     "name": "stdout",
     "output_type": "stream",
     "text": [
      "(68, 626)\n"
     ]
    }
   ],
   "source": []
  },
  {
   "cell_type": "code",
   "execution_count": 60,
   "metadata": {},
   "outputs": [
    {
     "data": {
      "text/plain": [
       "[0,\n",
       " 2,\n",
       " 8,\n",
       " 11,\n",
       " 14,\n",
       " 15,\n",
       " 16,\n",
       " 17,\n",
       " 18,\n",
       " 19,\n",
       " 20,\n",
       " 21,\n",
       " 22,\n",
       " 24,\n",
       " 25,\n",
       " 26,\n",
       " 29,\n",
       " 30,\n",
       " 35,\n",
       " 38,\n",
       " 40,\n",
       " 41,\n",
       " 42,\n",
       " 43,\n",
       " 48,\n",
       " 49,\n",
       " 52,\n",
       " 56,\n",
       " 57,\n",
       " 59,\n",
       " 60,\n",
       " 61,\n",
       " 64,\n",
       " 67,\n",
       " 68,\n",
       " 69,\n",
       " 75,\n",
       " 76,\n",
       " 77,\n",
       " 78,\n",
       " 80,\n",
       " 81,\n",
       " 83,\n",
       " 86,\n",
       " 87,\n",
       " 93,\n",
       " 94,\n",
       " 95,\n",
       " 97,\n",
       " 99,\n",
       " 100,\n",
       " 104,\n",
       " 105,\n",
       " 107,\n",
       " 108,\n",
       " 109,\n",
       " 111,\n",
       " 113,\n",
       " 115,\n",
       " 117]"
      ]
     },
     "execution_count": 60,
     "metadata": {},
     "output_type": "execute_result"
    }
   ],
   "source": [
    "idx0\n",
    "\n"
   ]
  },
  {
   "cell_type": "code",
   "execution_count": 67,
   "metadata": {},
   "outputs": [
    {
     "data": {
      "text/plain": [
       "[1,\n",
       " 3,\n",
       " 4,\n",
       " 5,\n",
       " 6,\n",
       " 7,\n",
       " 9,\n",
       " 10,\n",
       " 12,\n",
       " 13,\n",
       " 23,\n",
       " 27,\n",
       " 28,\n",
       " 31,\n",
       " 32,\n",
       " 33,\n",
       " 34,\n",
       " 36,\n",
       " 37,\n",
       " 39,\n",
       " 44,\n",
       " 45,\n",
       " 46,\n",
       " 47,\n",
       " 50,\n",
       " 51,\n",
       " 53,\n",
       " 54,\n",
       " 55,\n",
       " 58,\n",
       " 62,\n",
       " 63,\n",
       " 65,\n",
       " 66,\n",
       " 70,\n",
       " 71,\n",
       " 72,\n",
       " 73,\n",
       " 74,\n",
       " 79,\n",
       " 82,\n",
       " 84,\n",
       " 85,\n",
       " 88,\n",
       " 89,\n",
       " 90,\n",
       " 91,\n",
       " 92,\n",
       " 96,\n",
       " 98,\n",
       " 101,\n",
       " 102,\n",
       " 103,\n",
       " 106,\n",
       " 110,\n",
       " 112,\n",
       " 114,\n",
       " 116,\n",
       " 118,\n",
       " 119]"
      ]
     },
     "execution_count": 67,
     "metadata": {},
     "output_type": "execute_result"
    }
   ],
   "source": [
    "idx1"
   ]
  },
  {
   "cell_type": "code",
   "execution_count": 83,
   "metadata": {},
   "outputs": [
    {
     "name": "stdout",
     "output_type": "stream",
     "text": [
      "(68, 626)\n"
     ]
    },
    {
     "data": {
      "text/plain": [
       "Text(0.5, 1.0, '8 [False]')"
      ]
     },
     "execution_count": 83,
     "metadata": {},
     "output_type": "execute_result"
    },
    {
     "data": {
      "image/png": "[encoded data removed]",
      "text/plain": [
       "<Figure size 864x360 with 1 Axes>"
      ]
     },
     "metadata": {
      "needs_background": "light"
     },
     "output_type": "display_data"
    }
   ],
   "source": [
    "epo = 8\n",
    "epoch_0 = df.loc[df['epoch'] == epo]\n",
    "C3= epoch_0['EEG:C3']\n",
    "C4= epoch_0['EEG:C4']\n",
    "data = np.concatenate((C3.values.reshape(34,-1),C4.values.reshape(34,-1)))\n",
    "print(data.shape)\n",
    "x = np.linspace(1,625,100,dtype=np.int32)\n",
    "fig = plt.figure(figsize=(12,5))\n",
    "plt.imshow(data[:,x])\n",
    "plt.title(str(epo)+' '+str(B0101T_label[epo]==2))\n"
   ]
  },
  {
   "cell_type": "code",
   "execution_count": 26,
   "metadata": {},
   "outputs": [],
   "source": [
    "epoch_0_fre5 = epoch_0.loc[epoch_0['freq'] == 5.0]"
   ]
  },
  {
   "cell_type": "code",
   "execution_count": 27,
   "metadata": {},
   "outputs": [
    {
     "data": {
      "text/plain": [
       "(626, 7)"
      ]
     },
     "execution_count": 27,
     "metadata": {},
     "output_type": "execute_result"
    }
   ],
   "source": [
    "epoch_0_fre5.shape"
   ]
  },
  {
   "cell_type": "code",
   "execution_count": null,
   "metadata": {},
   "outputs": [],
   "source": [
    "epoch_0_fre5_downsampling = epoch_0_fre5[:]"
   ]
  },
  {
   "cell_type": "code",
   "execution_count": null,
   "metadata": {},
   "outputs": [],
   "source": [
    "data = np.array(df)"
   ]
  },
  {
   "cell_type": "code",
   "execution_count": null,
   "metadata": {},
   "outputs": [],
   "source": [
    "data.shape"
   ]
  }
 ],
 "metadata": {
  "interpreter": {
   "hash": "42cea95c4a7cc38194441a937f73f8ad8a61eb030594c674f6ffb36372ba751c"
  },
  "kernelspec": {
   "display_name": "Python 3.8.12 ('ML_py38_CU')",
   "language": "python",
   "name": "python3"
  },
  "language_info": {
   "codemirror_mode": {
    "name": "ipython",
    "version": 3
   },
   "file_extension": ".py",
   "mimetype": "text/x-python",
   "name": "python",
   "nbconvert_exporter": "python",
   "pygments_lexer": "ipython3",
   "version": "3.8.12"
  },
  "orig_nbformat": 4
 },
 "nbformat": 4,
 "nbformat_minor": 2
}
