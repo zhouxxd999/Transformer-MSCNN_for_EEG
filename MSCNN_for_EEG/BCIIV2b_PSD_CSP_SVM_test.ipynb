{
 "cells": [
  {
   "cell_type": "code",
   "execution_count": 1,
   "metadata": {},
   "outputs": [],
   "source": [
    "import mne\n",
    "import matplotlib.pyplot as plt\n",
    "import numpy as np\n",
    "import MY_bcilib as mybci"
   ]
  },
  {
   "cell_type": "code",
   "execution_count": 2,
   "metadata": {},
   "outputs": [
    {
     "data": {
      "text/plain": [
       "\"\\nread_raw_filename = 'data/B0101T.gdf'\\nsave_epo_filename = 'data/B0101T_epo.fif'\\n\\nraw = mne.io.read_raw_gdf(read_raw_filename, preload=True)\\n\\nraw.drop_channels(['EOG:ch01','EOG:ch02','EOG:ch03'])\\n\\n# 768 --- start a trial\\ncustom_mapping = {'769':3,'770':4}\\n(events_from_annot,event_dict) = mne.events_from_annotations(raw, event_id=custom_mapping)\\n#  3s开始为时间cue\\nraw_epochs = mne.Epochs(raw, events=events_from_annot, event_id=event_dict,proj=True,baseline=(None, 0), preload=True,tmin=-2,tmax=6)\\n\\nevoked = raw_epochs.average()\\nevoked.plot(time_unit='s')\\n\\nraw_epochs.save(save_epo_filename)\\n\""
      ]
     },
     "execution_count": 2,
     "metadata": {},
     "output_type": "execute_result"
    }
   ],
   "source": [
    "'''\n",
    "read_raw_filename = 'data/B0101T.gdf'\n",
    "save_epo_filename = 'data/B0101T_epo.fif'\n",
    "\n",
    "raw = mne.io.read_raw_gdf(read_raw_filename, preload=True)\n",
    "\n",
    "raw.drop_channels(['EOG:ch01','EOG:ch02','EOG:ch03'])\n",
    "\n",
    "# 768 --- start a trial\n",
    "custom_mapping = {'769':3,'770':4}\n",
    "(events_from_annot,event_dict) = mne.events_from_annotations(raw, event_id=custom_mapping)\n",
    "#  3s开始为时间cue\n",
    "raw_epochs = mne.Epochs(raw, events=events_from_annot, event_id=event_dict,proj=True,baseline=(None, 0), preload=True,tmin=-2,tmax=6)\n",
    "\n",
    "evoked = raw_epochs.average()\n",
    "evoked.plot(time_unit='s')\n",
    "\n",
    "raw_epochs.save(save_epo_filename)\n",
    "'''"
   ]
  },
  {
   "cell_type": "code",
   "execution_count": 38,
   "metadata": {},
   "outputs": [
    {
     "name": "stdout",
     "output_type": "stream",
     "text": [
      "(160,)\n"
     ]
    }
   ],
   "source": [
    "from scipy.io import loadmat\n",
    "\n",
    "filename1 = 'data/B0' + str(2) +'05E.mat'\n",
    "\n",
    "raw_label_data = loadmat(filename1)\n",
    "train_label = raw_label_data['classlabel'] - 1\n",
    "\n",
    "train_label = train_label.reshape(train_label.shape[0],)\n",
    "print(train_label.shape)"
   ]
  },
  {
   "cell_type": "markdown",
   "metadata": {},
   "source": [
    "设置被试号"
   ]
  },
  {
   "cell_type": "code",
   "execution_count": 4,
   "metadata": {},
   "outputs": [],
   "source": [
    "subject = 5"
   ]
  },
  {
   "cell_type": "code",
   "execution_count": 5,
   "metadata": {},
   "outputs": [],
   "source": [
    "'''\n",
    "Train epoch \n",
    "——————————————————————————————————\n",
    "1 : 400 \n",
    "2 : 400\n",
    "3 : 400\n",
    "4 : 420 \n",
    "5 : 420\n",
    "6 : 400 \n",
    "7 : 400\n",
    "8 : 440\n",
    "9 : 400\n",
    "\n",
    "Test epoch \n",
    "——————————————————————————————————\n",
    "1 : 320\n",
    "2 : 280\n",
    "3 : 320\n",
    "4 : 320 \n",
    "5 : 320\n",
    "6 : 320 \n",
    "7 : 320\n",
    "8 : 320\n",
    "9 : 320\n",
    "\n",
    "'''\n",
    "all_epoch_num = 420  #训练集共400个epoch\n",
    "all_test_epoch_num = 320   # 共320个epoch"
   ]
  },
  {
   "cell_type": "markdown",
   "metadata": {},
   "source": [
    "训练集数据与标签读取"
   ]
  },
  {
   "cell_type": "code",
   "execution_count": 6,
   "metadata": {},
   "outputs": [
    {
     "name": "stdout",
     "output_type": "stream",
     "text": [
      "Reading e:\\19_BCIexperiment\\02_CodeTest\\MNE_TEST\\data\\B0501T_epo.fif ...\n",
      "Isotrak not found\n",
      "    Found the data of interest:\n",
      "        t =    -500.00 ...    7000.00 ms\n",
      "        0 CTF compensation matrices available\n",
      "Not setting metadata\n",
      "Not setting metadata\n",
      "120 matching events found\n",
      "No baseline correction applied\n",
      "0 projection items activated\n",
      "Reading e:\\19_BCIexperiment\\02_CodeTest\\MNE_TEST\\data\\B0502T_epo.fif ...\n",
      "Isotrak not found\n",
      "    Found the data of interest:\n",
      "        t =    -500.00 ...    7000.00 ms\n",
      "        0 CTF compensation matrices available\n",
      "Not setting metadata\n",
      "Not setting metadata\n",
      "140 matching events found\n",
      "No baseline correction applied\n",
      "0 projection items activated\n",
      "Reading e:\\19_BCIexperiment\\02_CodeTest\\MNE_TEST\\data\\B0503T_epo.fif ...\n",
      "Isotrak not found\n",
      "    Found the data of interest:\n",
      "        t =    -500.00 ...    7000.00 ms\n",
      "        0 CTF compensation matrices available\n",
      "Not setting metadata\n",
      "Not setting metadata\n",
      "160 matching events found\n",
      "No baseline correction applied\n",
      "0 projection items activated\n"
     ]
    }
   ],
   "source": [
    "time_start = 2.5\n",
    "time_end = 6\n",
    "time_points = 876\n",
    "train_data_r = np.zeros((all_epoch_num,3,time_points))  \n",
    "\n",
    "epo_cnt = 0\n",
    "\n",
    "for i in range(3):\n",
    "    filename = 'data/B0' + str(subject) + '0'+ str( i + 1) +'T_epo.fif'\n",
    "    epochs = mne.read_epochs(filename)\n",
    "\n",
    "    epochs_crop = epochs.crop(time_start,time_end)\n",
    "\n",
    "    data = epochs_crop.get_data()\n",
    "\n",
    "    for i in range(data.shape[0]):\n",
    "        train_data_r[epo_cnt,:,:] = data[i,:,:]\n",
    "        epo_cnt += 1\n",
    "\n"
   ]
  },
  {
   "cell_type": "code",
   "execution_count": 7,
   "metadata": {},
   "outputs": [
    {
     "data": {
      "text/plain": [
       "(420, 3, 876)"
      ]
     },
     "execution_count": 7,
     "metadata": {},
     "output_type": "execute_result"
    }
   ],
   "source": [
    "train_data_r.shape"
   ]
  },
  {
   "cell_type": "code",
   "execution_count": 8,
   "metadata": {},
   "outputs": [
    {
     "name": "stdout",
     "output_type": "stream",
     "text": [
      "(120, 1)\n",
      "120\n",
      "(140, 1)\n",
      "260\n",
      "(160, 1)\n",
      "420\n"
     ]
    }
   ],
   "source": [
    "train_label_r = np.zeros((all_epoch_num,1))\n",
    "\n",
    "cnt = 0\n",
    "for i in range(3):\n",
    "    filename = 'data/B0' + str(subject) + '0'+ str( i + 1) +'T.mat'\n",
    "    raw_label_data = loadmat(filename)\n",
    "    print( raw_label_data['classlabel'].shape)\n",
    "    train_label_r[cnt:cnt+len(raw_label_data['classlabel']),:] = raw_label_data['classlabel'] - 1 \n",
    "    cnt += len(raw_label_data['classlabel'])\n",
    "    print(cnt)"
   ]
  },
  {
   "cell_type": "code",
   "execution_count": 9,
   "metadata": {},
   "outputs": [],
   "source": [
    "train_label_r = train_label_r.reshape(train_label_r.shape[0],)"
   ]
  },
  {
   "cell_type": "code",
   "execution_count": 10,
   "metadata": {},
   "outputs": [],
   "source": [
    "train_label =  train_label_r"
   ]
  },
  {
   "cell_type": "code",
   "execution_count": 11,
   "metadata": {},
   "outputs": [
    {
     "name": "stdout",
     "output_type": "stream",
     "text": [
      "train_label_r shape :  (420,)\n",
      "train_data_r shape :  (420, 3, 876)\n"
     ]
    }
   ],
   "source": [
    "print('train_label_r shape : ',train_label_r.shape)\n",
    "print('train_data_r shape : ',train_data_r.shape)"
   ]
  },
  {
   "cell_type": "markdown",
   "metadata": {},
   "source": [
    "测试集数据与标签读取"
   ]
  },
  {
   "cell_type": "code",
   "execution_count": 12,
   "metadata": {},
   "outputs": [
    {
     "name": "stdout",
     "output_type": "stream",
     "text": [
      "Reading e:\\19_BCIexperiment\\02_CodeTest\\MNE_TEST\\data\\B0504E_epo.fif ...\n",
      "Isotrak not found\n",
      "    Found the data of interest:\n",
      "        t =    -500.00 ...    7000.00 ms\n",
      "        0 CTF compensation matrices available\n",
      "Not setting metadata\n",
      "Not setting metadata\n",
      "160 matching events found\n",
      "No baseline correction applied\n",
      "0 projection items activated\n",
      "Reading e:\\19_BCIexperiment\\02_CodeTest\\MNE_TEST\\data\\B0505E_epo.fif ...\n",
      "Isotrak not found\n",
      "    Found the data of interest:\n",
      "        t =    -500.00 ...    7000.00 ms\n",
      "        0 CTF compensation matrices available\n",
      "Not setting metadata\n",
      "Not setting metadata\n",
      "160 matching events found\n",
      "No baseline correction applied\n",
      "0 projection items activated\n"
     ]
    }
   ],
   "source": [
    "test_data_r = np.zeros((all_test_epoch_num,3,time_points))  \n",
    "\n",
    "epo_cnt = 0\n",
    "\n",
    "for i in range(2):\n",
    "    filename = 'data/B0' + str(subject) + '0'+ str( i + 4) +'E_epo.fif'\n",
    "    epochs = mne.read_epochs(filename)\n",
    "\n",
    "    epochs_crop = epochs.crop(time_start,time_end)\n",
    "\n",
    "    data = epochs_crop.get_data()\n",
    "\n",
    "    for i in range(data.shape[0]):\n",
    "        test_data_r[epo_cnt,:,:] = data[i,:,:]\n",
    "        epo_cnt += 1"
   ]
  },
  {
   "cell_type": "code",
   "execution_count": 13,
   "metadata": {},
   "outputs": [
    {
     "name": "stdout",
     "output_type": "stream",
     "text": [
      "(160, 1)\n",
      "160\n",
      "(160, 1)\n",
      "320\n"
     ]
    }
   ],
   "source": [
    "test_label_r = np.zeros((all_test_epoch_num,1))\n",
    "\n",
    "cnt = 0\n",
    "for i in range(2):\n",
    "    filename = 'data/B0' + str(subject) + '0'+ str( i + 4) +'E.mat'\n",
    "    raw_label_data = loadmat(filename)\n",
    "    print( raw_label_data['classlabel'].shape)\n",
    "    test_label_r[cnt:cnt+len(raw_label_data['classlabel']),:] = raw_label_data['classlabel'] - 1 \n",
    "    cnt += len(raw_label_data['classlabel'])\n",
    "    print(cnt)"
   ]
  },
  {
   "cell_type": "code",
   "execution_count": 14,
   "metadata": {},
   "outputs": [],
   "source": [
    "test_label_r = test_label_r.reshape(test_label_r.shape[0],)\n",
    "\n",
    "test_label =  test_label_r"
   ]
  },
  {
   "cell_type": "code",
   "execution_count": 15,
   "metadata": {},
   "outputs": [
    {
     "name": "stdout",
     "output_type": "stream",
     "text": [
      "test_label_r shape :  (320,)\n",
      "test_data_r shape :  (320, 3, 876)\n"
     ]
    }
   ],
   "source": [
    "print('test_label_r shape : ',test_label_r.shape)\n",
    "print('test_data_r shape : ',test_data_r.shape)"
   ]
  },
  {
   "cell_type": "markdown",
   "metadata": {},
   "source": [
    "数据预处理，带通滤波  8-35hz"
   ]
  },
  {
   "cell_type": "code",
   "execution_count": 16,
   "metadata": {},
   "outputs": [
    {
     "name": "stdout",
     "output_type": "stream",
     "text": [
      "trials_filter shape  (420, 3, 876)\n",
      "trials_filter shape  (320, 3, 876)\n"
     ]
    }
   ],
   "source": [
    "train_data = mybci.band_pass(train_data_r,8,32,sample_rate=250)\n",
    "test_data = mybci.band_pass(test_data_r,8,32,sample_rate=250)"
   ]
  },
  {
   "cell_type": "code",
   "execution_count": 17,
   "metadata": {},
   "outputs": [],
   "source": [
    "train_psd,freq = mybci.psd(train_data,500,250)\n"
   ]
  },
  {
   "cell_type": "code",
   "execution_count": 18,
   "metadata": {},
   "outputs": [],
   "source": [
    "test_psd,freq = mybci.psd(test_data,500,250)"
   ]
  },
  {
   "cell_type": "code",
   "execution_count": 19,
   "metadata": {},
   "outputs": [
    {
     "data": {
      "text/plain": [
       "(420, 3, 251)"
      ]
     },
     "execution_count": 19,
     "metadata": {},
     "output_type": "execute_result"
    }
   ],
   "source": [
    "train_psd.shape"
   ]
  },
  {
   "cell_type": "code",
   "execution_count": 20,
   "metadata": {},
   "outputs": [],
   "source": [
    "left_psd = train_psd[train_label==0,:,:]\n",
    "right_psd = train_psd[train_label==1,:,:]"
   ]
  },
  {
   "cell_type": "code",
   "execution_count": 21,
   "metadata": {},
   "outputs": [
    {
     "data": {
      "image/png": "[encoded data removed]",
      "text/plain": [
       "<Figure size 864x360 with 3 Axes>"
      ]
     },
     "metadata": {
      "needs_background": "light"
     },
     "output_type": "display_data"
    }
   ],
   "source": [
    "mybci.plot_psd(train_psd[train_label==0,:,:],train_psd[train_label==1,:,:],freq,['c3','cz','c4'],[0,1,2])\n"
   ]
  },
  {
   "cell_type": "code",
   "execution_count": 22,
   "metadata": {},
   "outputs": [
    {
     "data": {
      "image/png": "[encoded data removed]",
      "text/plain": [
       "<Figure size 864x360 with 3 Axes>"
      ]
     },
     "metadata": {
      "needs_background": "light"
     },
     "output_type": "display_data"
    }
   ],
   "source": [
    "mybci.plot_psd(test_psd[test_label==0,:,:],test_psd[test_label==1,:,:],freq,['c3','cz','c4'],[0,1,2])"
   ]
  },
  {
   "cell_type": "code",
   "execution_count": 23,
   "metadata": {},
   "outputs": [],
   "source": [
    "left_psd_var = mybci.logvar(left_psd)\n",
    "right_psd_var = mybci.logvar(right_psd)"
   ]
  },
  {
   "cell_type": "code",
   "execution_count": 24,
   "metadata": {},
   "outputs": [
    {
     "name": "stdout",
     "output_type": "stream",
     "text": [
      "(3,)\n",
      "(3,)\n"
     ]
    },
    {
     "data": {
      "image/png": "[encoded data removed]",
      "text/plain": [
       "<Figure size 864x360 with 1 Axes>"
      ]
     },
     "metadata": {
      "needs_background": "light"
     },
     "output_type": "display_data"
    }
   ],
   "source": [
    "mybci.plot_logvar(left_psd_var,right_psd_var)"
   ]
  },
  {
   "cell_type": "markdown",
   "metadata": {},
   "source": [
    "计算CSP投影矩阵W"
   ]
  },
  {
   "cell_type": "code",
   "execution_count": 25,
   "metadata": {},
   "outputs": [
    {
     "name": "stdout",
     "output_type": "stream",
     "text": [
      "两类的特征值lambda:\n",
      " [0.59813539 0.49761511 0.32135409]\n",
      "Sb value is  [[ 0.47588167  0.10077217  0.01919892]\n",
      " [ 0.10077217  0.61784236 -0.05439471]\n",
      " [ 0.01919892 -0.05439471  0.48917138]]\n",
      "reverse Sb value is  [[ 0.47588167  0.10077217  0.01919892]\n",
      " [ 0.10077217  0.61784236 -0.05439471]\n",
      " [ 0.01919892 -0.05439471  0.48917138]]\n",
      "------------------------\n"
     ]
    }
   ],
   "source": [
    "psd_W = mybci.cal_W(left_psd,right_psd)"
   ]
  },
  {
   "cell_type": "code",
   "execution_count": 26,
   "metadata": {},
   "outputs": [],
   "source": [
    "left_psd_csp = mybci.apply_mix(psd_W,left_psd)\n",
    "right_psd_csp = mybci.apply_mix(psd_W,right_psd)"
   ]
  },
  {
   "cell_type": "code",
   "execution_count": 27,
   "metadata": {},
   "outputs": [],
   "source": [
    "left_psd_csp_var = np.var(left_psd_csp,axis=2)\n",
    "right_psd_csp_var = np.var(right_psd_csp,axis=2)"
   ]
  },
  {
   "cell_type": "code",
   "execution_count": 28,
   "metadata": {},
   "outputs": [
    {
     "name": "stdout",
     "output_type": "stream",
     "text": [
      "(3,)\n",
      "(3,)\n"
     ]
    },
    {
     "data": {
      "image/png": "[encoded data removed]",
      "text/plain": [
       "<Figure size 864x360 with 1 Axes>"
      ]
     },
     "metadata": {
      "needs_background": "light"
     },
     "output_type": "display_data"
    }
   ],
   "source": [
    "mybci.plot_logvar(left_psd_csp_var,right_psd_csp_var)"
   ]
  },
  {
   "cell_type": "code",
   "execution_count": 29,
   "metadata": {},
   "outputs": [],
   "source": [
    "_ , left_psd_csp_feat = mybci.cal_csp_feature(left_psd_csp_var,[0,1,-1])\n",
    "_ , right_psd_csp_feat = mybci.cal_csp_feature(right_psd_csp_var,[0,1,-1])"
   ]
  },
  {
   "cell_type": "code",
   "execution_count": 30,
   "metadata": {},
   "outputs": [
    {
     "data": {
      "text/plain": [
       "<matplotlib.collections.PathCollection at 0x23dd9399760>"
      ]
     },
     "execution_count": 30,
     "metadata": {},
     "output_type": "execute_result"
    },
    {
     "data": {
      "image/png": "[encoded data removed]",
      "text/plain": [
       "<Figure size 432x288 with 1 Axes>"
      ]
     },
     "metadata": {
      "needs_background": "light"
     },
     "output_type": "display_data"
    }
   ],
   "source": [
    "\n",
    "plt.scatter(left_psd_csp_var[:,0],left_psd_csp_var[:,2],c='r',marker='x',s=1)\n",
    "plt.scatter(right_psd_csp_var[:,0],right_psd_csp_var[:,2],c='b',marker='o',s=1)\n"
   ]
  },
  {
   "cell_type": "code",
   "execution_count": 31,
   "metadata": {},
   "outputs": [],
   "source": [
    "from sklearn.metrics import accuracy_score\n",
    "from sklearn.model_selection import cross_val_score\n",
    "from sklearn.svm import SVC\n",
    "from skfeature.function.statistical_based import f_score\n",
    "from sklearn.preprocessing import StandardScaler"
   ]
  },
  {
   "cell_type": "code",
   "execution_count": 32,
   "metadata": {},
   "outputs": [],
   "source": [
    "def TDF_feature(data,csp_W):\n",
    "    TDF_mean = np.mean(data,axis=2)\n",
    "    TDF_mean = TDF_mean[:,[0,-1]]\n",
    "\n",
    "    TDF_std = np.std(data,axis=2)\n",
    "    TDF_std = TDF_mean[:,[0,-1]]\n",
    "\n",
    "    TDF_max = np.max(data,axis=2)\n",
    "    TDF_max = TDF_max[:,[0,2]]\n",
    "\n",
    "    TDF_min = np.min(data,axis=2)\n",
    "    TDF_min = TDF_min[:,[0,-1]]\n",
    "\n",
    "    train_csp_var = np.var(mybci.apply_mix(csp_W,data),axis=2)\n",
    "    _,train_csp_feat = mybci.cal_csp_feature(train_csp_var,[0,-1])\n",
    "\n",
    "    train_csp_feat_conb = np.concatenate((TDF_mean,TDF_std),axis=1)\n",
    "    train_csp_feat_conb = np.concatenate((train_csp_feat_conb,TDF_max),axis=1)\n",
    "    train_csp_feat_conb = np.concatenate((train_csp_feat_conb,TDF_min),axis=1)\n",
    "    train_csp_feat_conb = np.concatenate((train_csp_feat_conb,train_csp_feat),axis=1)\n",
    "\n",
    "    return train_csp_feat_conb\n"
   ]
  },
  {
   "cell_type": "code",
   "execution_count": 33,
   "metadata": {},
   "outputs": [],
   "source": [
    "train_csp_feat_conb = TDF_feature(train_psd,psd_W)"
   ]
  },
  {
   "cell_type": "code",
   "execution_count": null,
   "metadata": {},
   "outputs": [],
   "source": []
  },
  {
   "cell_type": "code",
   "execution_count": 34,
   "metadata": {},
   "outputs": [
    {
     "name": "stdout",
     "output_type": "stream",
     "text": [
      "acc is :  0.7166666666666667\n"
     ]
    }
   ],
   "source": [
    "scaler = StandardScaler()\n",
    "scaler.fit(train_csp_feat_conb,train_label)\n",
    "train_csp = scaler.transform(train_csp_feat_conb)\n",
    "\n",
    "clf = SVC(gamma='auto')  #\n",
    "\n",
    "clf.fit(train_csp,train_label)\n",
    "\n",
    "\n",
    "\n",
    "acc = 1 - (np.sum(abs(clf.predict(train_csp) - train_label)) / train_csp.shape[0])\n",
    "print('acc is : ',acc)"
   ]
  },
  {
   "cell_type": "markdown",
   "metadata": {},
   "source": [
    "测试集预测"
   ]
  },
  {
   "cell_type": "code",
   "execution_count": 35,
   "metadata": {},
   "outputs": [],
   "source": [
    "test_csp_feat_conb = TDF_feature(test_psd,psd_W)"
   ]
  },
  {
   "cell_type": "code",
   "execution_count": 36,
   "metadata": {},
   "outputs": [
    {
     "name": "stdout",
     "output_type": "stream",
     "text": [
      "acc is :  0.659375\n"
     ]
    }
   ],
   "source": [
    "scaler = StandardScaler()\n",
    "scaler.fit(test_csp_feat_conb,test_label)\n",
    "test_csp = scaler.transform(test_csp_feat_conb)\n",
    "\n",
    "\n",
    "acc = 1 - (np.sum(abs(clf.predict(test_csp) - test_label)) / test_csp.shape[0])\n",
    "print('acc is : ',acc)"
   ]
  }
 ],
 "metadata": {
  "interpreter": {
   "hash": "42cea95c4a7cc38194441a937f73f8ad8a61eb030594c674f6ffb36372ba751c"
  },
  "kernelspec": {
   "display_name": "Python 3.8.12 ('ML_py38_CU')",
   "language": "python",
   "name": "python3"
  },
  "language_info": {
   "codemirror_mode": {
    "name": "ipython",
    "version": 3
   },
   "file_extension": ".py",
   "mimetype": "text/x-python",
   "name": "python",
   "nbconvert_exporter": "python",
   "pygments_lexer": "ipython3",
   "version": "3.8.12"
  },
  "orig_nbformat": 4
 },
 "nbformat": 4,
 "nbformat_minor": 2
}
