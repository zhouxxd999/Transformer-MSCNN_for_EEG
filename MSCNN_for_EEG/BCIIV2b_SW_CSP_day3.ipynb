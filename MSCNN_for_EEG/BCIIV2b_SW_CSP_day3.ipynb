{
 "cells": [
  {
   "cell_type": "code",
   "execution_count": 1,
   "metadata": {},
   "outputs": [],
   "source": [
    "import mne\n",
    "import matplotlib.pyplot as plt\n",
    "import numpy as np\n",
    "import MY_bcilib as mybci"
   ]
  },
  {
   "cell_type": "code",
   "execution_count": 2,
   "metadata": {},
   "outputs": [],
   "source": [
    "subject = 1"
   ]
  },
  {
   "cell_type": "markdown",
   "metadata": {},
   "source": [
    "## **<font color = yellow>文件读取载入预处理</font>**"
   ]
  },
  {
   "cell_type": "markdown",
   "metadata": {},
   "source": [
    "### **<font color = carmine>创建EPOCH文件</font>**"
   ]
  },
  {
   "cell_type": "code",
   "execution_count": 3,
   "metadata": {},
   "outputs": [
    {
     "data": {
      "text/plain": [
       "\"\\nread_raw_filename = 'data/B0305E.gdf'\\nsave_epo_filename = 'data/B0305E_epo.fif'\\n\\nraw = mne.io.read_raw_gdf(read_raw_filename, preload=True)\\n\\nraw.drop_channels(['EOG:ch01','EOG:ch02','EOG:ch03'])\\n\\n# 768 --- start a trial\\ncustom_mapping = {'768':2}\\n(events_from_annot,event_dict) = mne.events_from_annotations(raw, event_id=custom_mapping)\\n#  3s开始为时间cue\\nraw_epochs = mne.Epochs(raw, events=events_from_annot, event_id=event_dict,proj=True,baseline=(None, 0), preload=True,tmin=-0.5,tmax=7)\\n\\nevoked = raw_epochs.average()\\nevoked.plot(time_unit='s')\\n\\nraw_epochs.save(save_epo_filename)\\n\""
      ]
     },
     "execution_count": 3,
     "metadata": {},
     "output_type": "execute_result"
    }
   ],
   "source": [
    "'''\n",
    "read_raw_filename = 'data/B0305E.gdf'\n",
    "save_epo_filename = 'data/B0305E_epo.fif'\n",
    "\n",
    "raw = mne.io.read_raw_gdf(read_raw_filename, preload=True)\n",
    "\n",
    "raw.drop_channels(['EOG:ch01','EOG:ch02','EOG:ch03'])\n",
    "\n",
    "# 768 --- start a trial\n",
    "custom_mapping = {'768':2}\n",
    "(events_from_annot,event_dict) = mne.events_from_annotations(raw, event_id=custom_mapping)\n",
    "#  3s开始为时间cue\n",
    "raw_epochs = mne.Epochs(raw, events=events_from_annot, event_id=event_dict,proj=True,baseline=(None, 0), preload=True,tmin=-0.5,tmax=7)\n",
    "\n",
    "evoked = raw_epochs.average()\n",
    "evoked.plot(time_unit='s')\n",
    "\n",
    "raw_epochs.save(save_epo_filename)\n",
    "'''"
   ]
  },
  {
   "cell_type": "markdown",
   "metadata": {},
   "source": [
    "### **<font color = carmine>测试集数据标签读取</font>**"
   ]
  },
  {
   "cell_type": "code",
   "execution_count": 4,
   "metadata": {},
   "outputs": [],
   "source": [
    "from scipy.io import loadmat\n",
    "\n",
    "filename1 = 'data/B0' + str(subject) +'04E.mat'\n",
    "filename2 = 'data/B0' + str(subject) +'05E.mat'\n",
    "\n",
    "raw_label_data = loadmat(filename1)\n",
    "B0104E_label = raw_label_data['classlabel']\n",
    "\n",
    "raw_label_data = loadmat(filename2)\n",
    "B0105E_label = raw_label_data['classlabel']"
   ]
  },
  {
   "cell_type": "code",
   "execution_count": 5,
   "metadata": {},
   "outputs": [
    {
     "name": "stdout",
     "output_type": "stream",
     "text": [
      "(320,)\n"
     ]
    }
   ],
   "source": [
    "test_label_1 = np.concatenate((B0104E_label,B0105E_label))\n",
    "\n",
    "test_label_1 = np.array(test_label_1,dtype=np.float32) - 1\n",
    "test_label_1 = test_label_1.reshape(-1,)\n",
    "\n",
    "print(test_label_1.shape)"
   ]
  },
  {
   "cell_type": "markdown",
   "metadata": {},
   "source": [
    "### **<font color = carmine>读取测试数据epochs</font>**\n",
    "采样率250hz   测试数据从-0.5-7s数据，cue开始时间为3s ,考虑的数据长度为 -3.5-7s"
   ]
  },
  {
   "cell_type": "code",
   "execution_count": 6,
   "metadata": {},
   "outputs": [],
   "source": [
    "sample_rate = 250.0\n",
    "base_time = -0.5\n",
    "cue_time = 3\n",
    "\n",
    "cue_start = int((cue_time - base_time) * sample_rate)"
   ]
  },
  {
   "cell_type": "code",
   "execution_count": 7,
   "metadata": {},
   "outputs": [
    {
     "name": "stdout",
     "output_type": "stream",
     "text": [
      "Reading e:\\19_BCIexperiment\\02_CodeTest\\MNE_TEST\\data\\B0104E_epo.fif ...\n",
      "Isotrak not found\n",
      "    Found the data of interest:\n",
      "        t =    -500.00 ...    7000.00 ms\n",
      "        0 CTF compensation matrices available\n",
      "Not setting metadata\n",
      "Not setting metadata\n",
      "160 matching events found\n",
      "No baseline correction applied\n",
      "0 projection items activated\n"
     ]
    }
   ],
   "source": [
    "filename = 'data/B0' + str(subject) + '04E_epo.fif'\n",
    "B104E_epochs = mne.read_epochs(filename)\n",
    "B104E_data = B104E_epochs.get_data()\n",
    "B104E_data = B104E_data[:,:,cue_start:]"
   ]
  },
  {
   "cell_type": "code",
   "execution_count": 8,
   "metadata": {},
   "outputs": [
    {
     "name": "stdout",
     "output_type": "stream",
     "text": [
      "Reading e:\\19_BCIexperiment\\02_CodeTest\\MNE_TEST\\data\\B0105E_epo.fif ...\n",
      "Isotrak not found\n",
      "    Found the data of interest:\n",
      "        t =    -500.00 ...    7000.00 ms\n",
      "        0 CTF compensation matrices available\n",
      "Not setting metadata\n",
      "Not setting metadata\n",
      "160 matching events found\n",
      "No baseline correction applied\n",
      "0 projection items activated\n"
     ]
    }
   ],
   "source": [
    "filename = 'data/B0' + str(subject) + '05E_epo.fif'\n",
    "B105E_epochs = mne.read_epochs(filename)\n",
    "B105E_data = B105E_epochs.get_data()\n",
    "B105E_data = B105E_data[:,:,cue_start:]"
   ]
  },
  {
   "cell_type": "code",
   "execution_count": 9,
   "metadata": {},
   "outputs": [
    {
     "name": "stdout",
     "output_type": "stream",
     "text": [
      "(320, 3, 1001)\n"
     ]
    }
   ],
   "source": [
    "test_data = np.concatenate((B104E_data,B105E_data))\n",
    "print(test_data.shape)"
   ]
  },
  {
   "cell_type": "markdown",
   "metadata": {},
   "source": [
    "### **<font color = carmine>读取训练集数据以及标签</font>**"
   ]
  },
  {
   "cell_type": "markdown",
   "metadata": {},
   "source": [
    "读取训练集标签"
   ]
  },
  {
   "cell_type": "code",
   "execution_count": 10,
   "metadata": {},
   "outputs": [],
   "source": [
    "filename1 = 'data/B0' +  str(subject) + '01T.mat'\n",
    "filename2 = 'data/B0' +  str(subject) + '02T.mat'\n",
    "filename3 = 'data/B0' +  str(subject) + '03T.mat'\n",
    "\n",
    "\n",
    "raw_label_data = loadmat(filename1)\n",
    "B0101T_label = raw_label_data['classlabel']\n",
    "\n",
    "raw_label_data = loadmat(filename2)\n",
    "B0102T_label = raw_label_data['classlabel']\n",
    "\n",
    "raw_label_data = loadmat(filename3)\n",
    "B0103T_label = raw_label_data['classlabel']"
   ]
  },
  {
   "cell_type": "code",
   "execution_count": 11,
   "metadata": {},
   "outputs": [
    {
     "name": "stdout",
     "output_type": "stream",
     "text": [
      "(400,)\n"
     ]
    }
   ],
   "source": [
    "train_label_1 = np.concatenate((B0101T_label,B0102T_label))\n",
    "train_label_1 = np.concatenate((train_label_1,B0103T_label))\n",
    "\n",
    "train_label_1 = np.array(train_label_1,dtype=np.float32) - 1\n",
    "train_label_1 = train_label_1.reshape(-1,)\n",
    "\n",
    "print(train_label_1.shape)\n"
   ]
  },
  {
   "cell_type": "markdown",
   "metadata": {},
   "source": [
    "读取训练集数据"
   ]
  },
  {
   "cell_type": "code",
   "execution_count": 12,
   "metadata": {},
   "outputs": [
    {
     "name": "stdout",
     "output_type": "stream",
     "text": [
      "Reading e:\\19_BCIexperiment\\02_CodeTest\\MNE_TEST\\data\\B0101T_epo.fif ...\n",
      "Isotrak not found\n",
      "    Found the data of interest:\n",
      "        t =    -500.00 ...    7000.00 ms\n",
      "        0 CTF compensation matrices available\n",
      "Not setting metadata\n",
      "Not setting metadata\n",
      "120 matching events found\n",
      "No baseline correction applied\n",
      "0 projection items activated\n",
      "(120, 3, 1001)\n"
     ]
    }
   ],
   "source": [
    "filename = 'data/B0' + str(subject) + '01T_epo.fif'\n",
    "\n",
    "B101T_epochs = mne.read_epochs(filename)\n",
    "B101T_data = B101T_epochs.get_data()\n",
    "B101T_data = B101T_data[:,:,cue_start:]\n",
    "print(B101T_data.shape)"
   ]
  },
  {
   "cell_type": "code",
   "execution_count": 13,
   "metadata": {},
   "outputs": [
    {
     "name": "stdout",
     "output_type": "stream",
     "text": [
      "Reading e:\\19_BCIexperiment\\02_CodeTest\\MNE_TEST\\data\\B0102T_epo.fif ...\n",
      "Isotrak not found\n",
      "    Found the data of interest:\n",
      "        t =    -500.00 ...    7000.00 ms\n",
      "        0 CTF compensation matrices available\n",
      "Not setting metadata\n",
      "Not setting metadata\n",
      "120 matching events found\n",
      "No baseline correction applied\n",
      "0 projection items activated\n",
      "(120, 3, 1001)\n"
     ]
    }
   ],
   "source": [
    "filename = 'data/B0' + str(subject) + '02T_epo.fif'\n",
    "\n",
    "B102T_epochs = mne.read_epochs(filename)\n",
    "B102T_data = B102T_epochs.get_data()\n",
    "B102T_data = B102T_data[:,:,cue_start:]\n",
    "print(B102T_data.shape)"
   ]
  },
  {
   "cell_type": "code",
   "execution_count": 14,
   "metadata": {},
   "outputs": [
    {
     "name": "stdout",
     "output_type": "stream",
     "text": [
      "Reading e:\\19_BCIexperiment\\02_CodeTest\\MNE_TEST\\data\\B0103T_epo.fif ...\n",
      "Isotrak not found\n",
      "    Found the data of interest:\n",
      "        t =    -500.00 ...    7000.00 ms\n",
      "        0 CTF compensation matrices available\n",
      "Not setting metadata\n",
      "Not setting metadata\n",
      "160 matching events found\n",
      "No baseline correction applied\n",
      "0 projection items activated\n"
     ]
    }
   ],
   "source": [
    "filename = 'data/B0' + str(subject) + '03T_epo.fif'\n",
    "\n",
    "B103T_epochs = mne.read_epochs(filename)\n",
    "B103T_data = B103T_epochs.get_data()\n",
    "B103T_data = B103T_data[:,:,cue_start:]"
   ]
  },
  {
   "cell_type": "code",
   "execution_count": 15,
   "metadata": {},
   "outputs": [
    {
     "name": "stdout",
     "output_type": "stream",
     "text": [
      "(400, 3, 1001)\n"
     ]
    }
   ],
   "source": [
    "train_data = np.concatenate((B101T_data,B102T_data))\n",
    "train_data = np.concatenate((train_data,B103T_data))\n",
    "print(train_data.shape)"
   ]
  },
  {
   "cell_type": "code",
   "execution_count": 16,
   "metadata": {},
   "outputs": [
    {
     "data": {
      "text/plain": [
       "\"\\ntrain_cls1_data = train_data[train_label_1==0,:,:]\\ntrain_cls2_data = train_data[train_label_1==1,:,:]\\nprint('class 1 train data shape : ',train_cls1_data.shape)\\nprint('class 2 train data shape : ',train_cls2_data.shape)\\n\""
      ]
     },
     "execution_count": 16,
     "metadata": {},
     "output_type": "execute_result"
    }
   ],
   "source": [
    "'''\n",
    "train_cls1_data = train_data[train_label_1==0,:,:]\n",
    "train_cls2_data = train_data[train_label_1==1,:,:]\n",
    "print('class 1 train data shape : ',train_cls1_data.shape)\n",
    "print('class 2 train data shape : ',train_cls2_data.shape)\n",
    "'''"
   ]
  },
  {
   "cell_type": "markdown",
   "metadata": {},
   "source": [
    "## **<font color = yellow>信号预处理</font>**"
   ]
  },
  {
   "cell_type": "markdown",
   "metadata": {},
   "source": [
    "### **<font color = carmine>band-pass带通滤波</font>**"
   ]
  },
  {
   "cell_type": "markdown",
   "metadata": {},
   "source": [
    "划分为7个频带   频带间隔4hz，起始频率为4hz ， 4-32hz 共7个频带"
   ]
  },
  {
   "cell_type": "code",
   "execution_count": 17,
   "metadata": {},
   "outputs": [
    {
     "name": "stdout",
     "output_type": "stream",
     "text": [
      "trials_filter shape  (400, 3, 1001)\n",
      "trials_filter shape  (320, 3, 1001)\n",
      "trials_filter shape  (400, 3, 1001)\n",
      "trials_filter shape  (320, 3, 1001)\n",
      "trials_filter shape  (400, 3, 1001)\n",
      "trials_filter shape  (320, 3, 1001)\n",
      "trials_filter shape  (400, 3, 1001)\n",
      "trials_filter shape  (320, 3, 1001)\n",
      "trials_filter shape  (400, 3, 1001)\n",
      "trials_filter shape  (320, 3, 1001)\n"
     ]
    }
   ],
   "source": [
    "fre_band_num = 5\n",
    "freband_train_data_1 = np.zeros((fre_band_num,train_data.shape[0],train_data.shape[1],train_data.shape[2]))\n",
    "freband_test_data_1 = np.zeros((fre_band_num,test_data.shape[0],test_data.shape[1],test_data.shape[2]))\n",
    "\n",
    "start_fre = 8\n",
    "fre_stride = 8\n",
    "for i in range(fre_band_num):\n",
    "    s = start_fre + i * fre_stride\n",
    "    e = s + fre_stride\n",
    "    freband_train_data_1[i,:,:,:] = mybci.band_pass(trials = train_data,lo = s,hi = e,sample_rate = 250)\n",
    "    freband_test_data_1[i,:,:,:] = mybci.band_pass(trials = test_data,lo = s,hi = e,sample_rate = 250)\n",
    "\n"
   ]
  },
  {
   "cell_type": "code",
   "execution_count": 80,
   "metadata": {},
   "outputs": [
    {
     "data": {
      "text/plain": [
       "(5, 400, 3, 1001)"
      ]
     },
     "execution_count": 80,
     "metadata": {},
     "output_type": "execute_result"
    }
   ],
   "source": [
    "freband_train_data_1.shape"
   ]
  },
  {
   "cell_type": "markdown",
   "metadata": {},
   "source": [
    "## **<font color = yellow>数据增强</font>**"
   ]
  },
  {
   "cell_type": "markdown",
   "metadata": {},
   "source": [
    "窗口大小设置为2s,步长为0.1s，总数据长度为4s，故一个trial数据可以切分成21个窗口数据"
   ]
  },
  {
   "cell_type": "code",
   "execution_count": 18,
   "metadata": {},
   "outputs": [],
   "source": [
    "winow_size = int( 2 * sample_rate )\n",
    "stride_size = int( 0.1 * sample_rate )\n",
    "window_num = 21\n",
    "\n",
    "# fre_band * SW trials * channels * samples\n",
    "freband_train_data = np.zeros((fre_band_num,train_data.shape[0] * window_num ,train_data.shape[1],winow_size))\n",
    "freband_test_data = np.zeros((fre_band_num,test_data.shape[0] * window_num ,test_data.shape[1],winow_size))"
   ]
  },
  {
   "cell_type": "markdown",
   "metadata": {},
   "source": [
    "训练集标签和数据增强"
   ]
  },
  {
   "cell_type": "code",
   "execution_count": 19,
   "metadata": {},
   "outputs": [
    {
     "name": "stdout",
     "output_type": "stream",
     "text": [
      "slide window data idx:   0 --- 500\n",
      "slide window data idx:   25 --- 525\n",
      "slide window data idx:   50 --- 550\n",
      "slide window data idx:   75 --- 575\n",
      "slide window data idx:   100 --- 600\n",
      "slide window data idx:   125 --- 625\n",
      "slide window data idx:   150 --- 650\n",
      "slide window data idx:   175 --- 675\n",
      "slide window data idx:   200 --- 700\n",
      "slide window data idx:   225 --- 725\n",
      "slide window data idx:   250 --- 750\n",
      "slide window data idx:   275 --- 775\n",
      "slide window data idx:   300 --- 800\n",
      "slide window data idx:   325 --- 825\n",
      "slide window data idx:   350 --- 850\n",
      "slide window data idx:   375 --- 875\n",
      "slide window data idx:   400 --- 900\n",
      "slide window data idx:   425 --- 925\n",
      "slide window data idx:   450 --- 950\n",
      "slide window data idx:   475 --- 975\n",
      "slide window data idx:   500 --- 1000\n"
     ]
    }
   ],
   "source": [
    "for i in range(window_num):   #窗口编号\n",
    "    for j in range(train_data.shape[0]):  #数据编号\n",
    "        idx = i*train_data.shape[0] + j\n",
    "        sw_start = stride_size * i\n",
    "        sw_end = sw_start + winow_size\n",
    "        freband_train_data[:,idx,:,:] = freband_train_data_1[:,j,:,sw_start:sw_end]\n",
    "    print('slide window data idx:  ',sw_start,'---',sw_end)\n",
    "        "
   ]
  },
  {
   "cell_type": "code",
   "execution_count": 20,
   "metadata": {},
   "outputs": [
    {
     "data": {
      "image/png": "[encoded data removed]",
      "text/plain": [
       "<Figure size 432x288 with 1 Axes>"
      ]
     },
     "metadata": {
      "needs_background": "light"
     },
     "output_type": "display_data"
    }
   ],
   "source": [
    "x = np.linspace(1,500,500)\n",
    "\n",
    "plt.plot(x,freband_train_data[1,0,0,:],'r')\n",
    "plt.plot(x,freband_train_data[1,train_data.shape[0],0,:],'b')\n",
    "plt.plot(x,freband_train_data[1,train_data.shape[0]*2,0,:],'g')\n",
    "plt.show()"
   ]
  },
  {
   "cell_type": "code",
   "execution_count": 21,
   "metadata": {},
   "outputs": [
    {
     "name": "stdout",
     "output_type": "stream",
     "text": [
      "(8400,)\n"
     ]
    }
   ],
   "source": [
    "train_label = train_label_1\n",
    "for i in range(window_num-1):\n",
    "    train_label = np.concatenate((train_label,train_label_1))\n",
    "print(train_label.shape)"
   ]
  },
  {
   "cell_type": "markdown",
   "metadata": {},
   "source": [
    "测试集标签和数据增强"
   ]
  },
  {
   "cell_type": "code",
   "execution_count": 22,
   "metadata": {},
   "outputs": [
    {
     "name": "stdout",
     "output_type": "stream",
     "text": [
      "slide window data idx:   0 --- 500\n",
      "slide window data idx:   25 --- 525\n",
      "slide window data idx:   50 --- 550\n",
      "slide window data idx:   75 --- 575\n",
      "slide window data idx:   100 --- 600\n",
      "slide window data idx:   125 --- 625\n",
      "slide window data idx:   150 --- 650\n",
      "slide window data idx:   175 --- 675\n",
      "slide window data idx:   200 --- 700\n",
      "slide window data idx:   225 --- 725\n",
      "slide window data idx:   250 --- 750\n",
      "slide window data idx:   275 --- 775\n",
      "slide window data idx:   300 --- 800\n",
      "slide window data idx:   325 --- 825\n",
      "slide window data idx:   350 --- 850\n",
      "slide window data idx:   375 --- 875\n",
      "slide window data idx:   400 --- 900\n",
      "slide window data idx:   425 --- 925\n",
      "slide window data idx:   450 --- 950\n",
      "slide window data idx:   475 --- 975\n",
      "slide window data idx:   500 --- 1000\n",
      "test sw data shape :  (5, 6720, 3, 500)\n"
     ]
    }
   ],
   "source": [
    "for i in range(window_num):   #窗口编号\n",
    "    for j in range(test_data.shape[0]):  #数据编号\n",
    "        idx = i*test_data.shape[0] + j\n",
    "        sw_start = stride_size * i\n",
    "        sw_end = sw_start + winow_size\n",
    "        freband_test_data[:,idx,:,:] = freband_test_data_1[:,j,:,sw_start:sw_end]\n",
    "    print('slide window data idx:  ',sw_start,'---',sw_end)\n",
    "print('test sw data shape : ',freband_test_data.shape)"
   ]
  },
  {
   "cell_type": "code",
   "execution_count": 23,
   "metadata": {},
   "outputs": [
    {
     "name": "stdout",
     "output_type": "stream",
     "text": [
      "(6720,)\n"
     ]
    }
   ],
   "source": [
    "test_label = test_label_1\n",
    "for i in range(window_num-1):\n",
    "    test_label = np.concatenate((test_label,test_label_1))\n",
    "print(test_label.shape)"
   ]
  },
  {
   "cell_type": "markdown",
   "metadata": {},
   "source": [
    "## **<font color = yellow>特征提取</font>**"
   ]
  },
  {
   "cell_type": "code",
   "execution_count": 24,
   "metadata": {},
   "outputs": [
    {
     "name": "stdout",
     "output_type": "stream",
     "text": [
      "两类的特征值lambda:\n",
      " [0.57882132 0.49704976 0.38177333]\n",
      "Sb value is  [[0.52775393 0.05360429 0.0314782 ]\n",
      " [0.05360429 0.58326841 0.0050706 ]\n",
      " [0.0314782  0.0050706  0.43133324]]\n",
      "reverse Sb value is  [[0.52775393 0.05360429 0.0314782 ]\n",
      " [0.05360429 0.58326841 0.0050706 ]\n",
      " [0.0314782  0.0050706  0.43133324]]\n",
      "------------------------\n",
      "两类的特征值lambda:\n",
      " [0.53630365 0.51776662 0.42246972]\n",
      "Sb value is  [[ 0.54047299  0.04704292 -0.00671986]\n",
      " [ 0.04704292  0.5173793   0.00161786]\n",
      " [-0.00671986  0.00161786  0.46560773]]\n",
      "reverse Sb value is  [[ 0.54047299  0.04704292 -0.00671986]\n",
      " [ 0.04704292  0.5173793   0.00161786]\n",
      " [-0.00671986  0.00161786  0.46560773]]\n",
      "------------------------\n",
      "两类的特征值lambda:\n",
      " [0.52938694 0.49875453 0.4927246 ]\n",
      "Sb value is  [[ 0.48415224 -0.0061041   0.01484395]\n",
      " [-0.0061041   0.50011641  0.00791639]\n",
      " [ 0.01484395  0.00791639  0.49486528]]\n",
      "reverse Sb value is  [[ 0.48415224 -0.0061041   0.01484395]\n",
      " [-0.0061041   0.50011641  0.00791639]\n",
      " [ 0.01484395  0.00791639  0.49486528]]\n",
      "------------------------\n",
      "两类的特征值lambda:\n",
      " [0.51980965 0.49510732 0.48480317]\n",
      "Sb value is  [[ 0.49297619 -0.01218295  0.00277319]\n",
      " [-0.01218295  0.49247921  0.00216952]\n",
      " [ 0.00277319  0.00216952  0.51482446]]\n",
      "reverse Sb value is  [[ 0.49297619 -0.01218295  0.00277319]\n",
      " [-0.01218295  0.49247921  0.00216952]\n",
      " [ 0.00277319  0.00216952  0.51482446]]\n",
      "------------------------\n",
      "两类的特征值lambda:\n",
      " [0.54124383 0.50968056 0.49919457]\n",
      "Sb value is  [[ 0.48334762  0.00698872 -0.01112041]\n",
      " [ 0.00698872  0.49230456  0.01499551]\n",
      " [-0.01112041  0.01499551  0.47422886]]\n",
      "reverse Sb value is  [[ 0.48334762  0.00698872 -0.01112041]\n",
      " [ 0.00698872  0.49230456  0.01499551]\n",
      " [-0.01112041  0.01499551  0.47422886]]\n",
      "------------------------\n"
     ]
    }
   ],
   "source": [
    "CSP_W = np.zeros((fre_band_num,3,3))\n",
    "\n",
    "freband_train_data_cls1 = freband_train_data[:,train_label==0,:,:]\n",
    "freband_train_data_cls2 = freband_train_data[:,train_label==1,:,:]\n",
    "\n",
    "for i in range(fre_band_num):\n",
    "    CSP_W[i,:,:] = mybci.cal_W(freband_train_data_cls1[i,:,:,:],freband_train_data_cls2[i,:,:,:])\n",
    "\n"
   ]
  },
  {
   "cell_type": "markdown",
   "metadata": {},
   "source": [
    "提取训练集PSD特征"
   ]
  },
  {
   "cell_type": "code",
   "execution_count": 25,
   "metadata": {},
   "outputs": [
    {
     "name": "stdout",
     "output_type": "stream",
     "text": [
      "(5, 8400, 3, 251)\n",
      "freband_train_psd shape :  (5, 8400, 3, 251)\n"
     ]
    }
   ],
   "source": [
    "freband_train_psd =  np.zeros((fre_band_num,freband_train_data.shape[1],freband_train_data.shape[2],251))\n",
    "print(freband_train_psd.shape)\n",
    "\n",
    "for i in range(fre_band_num):\n",
    "    freband_train_psd[i,:,:],freqs = mybci.psd(mybci.apply_mix(CSP_W[i,:,:],freband_train_data[i,:,:,:]),NFFT=500,Fs=sample_rate)\n",
    "\n",
    "print('freband_train_psd shape : ',freband_train_psd.shape)"
   ]
  },
  {
   "cell_type": "code",
   "execution_count": 26,
   "metadata": {},
   "outputs": [
    {
     "name": "stdout",
     "output_type": "stream",
     "text": [
      "freband_train_psd_feat shape :  (5, 8400, 3)\n"
     ]
    }
   ],
   "source": [
    "#取通道的能量和作为特征\n",
    "freband_train_psd_feat = np.zeros((fre_band_num,freband_train_data.shape[1],freband_train_data.shape[2]))\n",
    "\n",
    "for i in range(fre_band_num):   # 频带数\n",
    "    for j in range(freband_train_data.shape[1]):   #trial数\n",
    "        for k in range(freband_train_data.shape[2]):   #通道数\n",
    "            freband_train_psd_feat[i,j,k] = np.mean(freband_train_psd[i,j,k,:])\n",
    "\n",
    "print('freband_train_psd_feat shape : ',freband_train_psd_feat.shape)"
   ]
  },
  {
   "cell_type": "code",
   "execution_count": 27,
   "metadata": {},
   "outputs": [
    {
     "name": "stdout",
     "output_type": "stream",
     "text": [
      "freband_train_psd_feat_conb shape :  (8400, 3)\n",
      "freband_train_psd_feat_conb shape : (8400, 15)\n"
     ]
    }
   ],
   "source": [
    "freband_train_psd_feat_conb = np.zeros((freband_train_psd_feat.shape[1],3))\n",
    "\n",
    "print('freband_train_psd_feat_conb shape : ',freband_train_psd_feat_conb.shape)\n",
    "\n",
    "freband_train_psd_feat_conb = freband_train_psd_feat[0,:,:]\n",
    "for i in range(fre_band_num-1):\n",
    "    freband_train_psd_feat_conb = np.concatenate((freband_train_psd_feat_conb,freband_train_psd_feat[i+1,:,:]),axis=1)\n",
    "\n",
    "print('freband_train_psd_feat_conb shape :',freband_train_psd_feat_conb.shape)"
   ]
  },
  {
   "cell_type": "markdown",
   "metadata": {},
   "source": [
    "分析PSD特征"
   ]
  },
  {
   "cell_type": "code",
   "execution_count": 78,
   "metadata": {},
   "outputs": [
    {
     "data": {
      "image/png": "[encoded data removed]",
      "text/plain": [
       "<Figure size 432x288 with 1 Axes>"
      ]
     },
     "metadata": {
      "needs_background": "light"
     },
     "output_type": "display_data"
    },
    {
     "data": {
      "image/png": "[encoded data removed]",
      "text/plain": [
       "<Figure size 432x288 with 1 Axes>"
      ]
     },
     "metadata": {
      "needs_background": "light"
     },
     "output_type": "display_data"
    }
   ],
   "source": [
    "fre1_psd_mean = np.mean(freband_train_psd[0,train_label==0,:,0:80],axis=0)\n",
    "plt.imshow(fre1_psd_mean)\n",
    "plt.show()\n",
    "fre1_psd_mean = np.mean(freband_train_psd[0,train_label==1,:,0:80],axis=0)\n",
    "plt.imshow(fre1_psd_mean)\n",
    "plt.show()"
   ]
  },
  {
   "cell_type": "code",
   "execution_count": 29,
   "metadata": {},
   "outputs": [
    {
     "name": "stdout",
     "output_type": "stream",
     "text": [
      "allband_train_psd shape is : (8400, 15, 251)\n",
      "allband_psd_mean shape : (15, 100)\n"
     ]
    },
    {
     "data": {
      "image/png": "[encoded data removed]",
      "text/plain": [
       "<Figure size 432x288 with 1 Axes>"
      ]
     },
     "metadata": {
      "needs_background": "light"
     },
     "output_type": "display_data"
    },
    {
     "name": "stdout",
     "output_type": "stream",
     "text": [
      "allband_psd_mean shape : (15, 100)\n"
     ]
    },
    {
     "data": {
      "image/png": "[encoded data removed]",
      "text/plain": [
       "<Figure size 432x288 with 1 Axes>"
      ]
     },
     "metadata": {
      "needs_background": "light"
     },
     "output_type": "display_data"
    }
   ],
   "source": [
    "allband_channels = fre_band_num * 3\n",
    "\n",
    "allband_train_psd = freband_train_psd.reshape(freband_train_psd.shape[1],allband_channels,251)\n",
    "\n",
    "\n",
    "for i in range(fre_band_num-1):\n",
    "    s = i*3\n",
    "    e = s + 3\n",
    "    allband_train_psd[:,s:e,:] = freband_train_psd[i,:,:,:]\n",
    "print('allband_train_psd shape is :',allband_train_psd.shape)\n",
    "\n",
    "\n",
    "allband_psd_mean = np.mean(allband_train_psd[train_label==0,:,0:100],axis=0)\n",
    "print('allband_psd_mean shape :',allband_psd_mean.shape)\n",
    "plt.imshow(allband_psd_mean)\n",
    "plt.title('   class  0')\n",
    "plt.show()\n",
    "num = 4\n",
    "allband_psd_mean = np.mean(allband_train_psd[train_label==1,:,0:100],axis=0)\n",
    "print('allband_psd_mean shape :',allband_psd_mean.shape)\n",
    "plt.imshow(allband_psd_mean)\n",
    "plt.title('   class  1')\n",
    "plt.show()"
   ]
  },
  {
   "cell_type": "markdown",
   "metadata": {},
   "source": [
    "提取训练集PSD特征"
   ]
  },
  {
   "cell_type": "code",
   "execution_count": 30,
   "metadata": {},
   "outputs": [
    {
     "name": "stdout",
     "output_type": "stream",
     "text": [
      "(5, 6720, 3, 251)\n",
      "freband_test_psd shape :  (5, 6720, 3, 251)\n"
     ]
    }
   ],
   "source": [
    "freband_test_psd =  np.zeros((fre_band_num,freband_test_data.shape[1],freband_test_data.shape[2],251))\n",
    "print(freband_test_psd.shape)\n",
    "\n",
    "for i in range(fre_band_num):\n",
    "    freband_test_psd[i,:,:],freqs = mybci.psd(mybci.apply_mix(CSP_W[i,:,:],freband_test_data[i,:,:,:]),NFFT=500,Fs=sample_rate)\n",
    "\n",
    "print('freband_test_psd shape : ',freband_test_psd.shape)"
   ]
  },
  {
   "cell_type": "code",
   "execution_count": 31,
   "metadata": {},
   "outputs": [
    {
     "name": "stdout",
     "output_type": "stream",
     "text": [
      "freband_test_psd_feat shape :  (5, 6720, 3)\n"
     ]
    }
   ],
   "source": [
    "#取通道的能量和作为特征\n",
    "freband_test_psd_feat = np.zeros((fre_band_num,freband_test_data.shape[1],freband_test_data.shape[2]))\n",
    "\n",
    "for i in range(fre_band_num):   # 频带数\n",
    "    for j in range(freband_test_data.shape[1]):   #trial数\n",
    "        for k in range(freband_test_data.shape[2]):   #通道数\n",
    "            freband_test_psd_feat[i,j,k] = np.mean(freband_test_psd[i,j,k,:])\n",
    "\n",
    "print('freband_test_psd_feat shape : ',freband_test_psd_feat.shape)"
   ]
  },
  {
   "cell_type": "code",
   "execution_count": 32,
   "metadata": {},
   "outputs": [
    {
     "name": "stdout",
     "output_type": "stream",
     "text": [
      "freband_test_psd_feat_conb shape :  (6720, 3)\n",
      "freband_test_psd_feat_conb shape : (6720, 15)\n"
     ]
    }
   ],
   "source": [
    "freband_test_psd_feat_conb = np.zeros((freband_test_psd_feat.shape[1],3))\n",
    "\n",
    "print('freband_test_psd_feat_conb shape : ',freband_test_psd_feat_conb.shape)\n",
    "\n",
    "freband_test_psd_feat_conb = freband_test_psd_feat[0,:,:]\n",
    "for i in range(fre_band_num-1):\n",
    "    freband_test_psd_feat_conb = np.concatenate((freband_test_psd_feat_conb,freband_test_psd_feat[i+1,:,:]),axis=1)\n",
    "\n",
    "print('freband_test_psd_feat_conb shape :',freband_test_psd_feat_conb.shape)"
   ]
  },
  {
   "cell_type": "code",
   "execution_count": 82,
   "metadata": {},
   "outputs": [
    {
     "data": {
      "text/plain": [
       "(5, 400, 3, 1001)"
      ]
     },
     "execution_count": 82,
     "metadata": {},
     "output_type": "execute_result"
    }
   ],
   "source": [
    "freband_train_data_1.shape"
   ]
  },
  {
   "cell_type": "code",
   "execution_count": 96,
   "metadata": {},
   "outputs": [
    {
     "name": "stdout",
     "output_type": "stream",
     "text": [
      "两类的特征值lambda:\n",
      " [0.56909678 0.49772906 0.40048693]\n",
      "Sb value is  [[ 0.52255579  0.04898234  0.02424964]\n",
      " [ 0.04898234  0.5681281  -0.00984703]\n",
      " [ 0.02424964 -0.00984703  0.44200333]]\n",
      "reverse Sb value is  [[ 0.52255579  0.04898234  0.02424964]\n",
      " [ 0.04898234  0.5681281  -0.00984703]\n",
      " [ 0.02424964 -0.00984703  0.44200333]]\n",
      "------------------------\n",
      "fre1_csp_data shape  (400, 3, 1001)\n",
      "fc        0.8125\n",
      "cparam    812.5\n",
      "[500 499 498 497 496 495 494 493 492 491 490 489 488 487 486 485 484 483\n",
      " 482 481 480 479 478 477 476 475 474 473 472 471 470 469 468 467 466 465\n",
      " 464 463 462 461 460 459 458 457 456 455 454 453 452 451 450 449 448 447\n",
      " 446 445 444 443 442 441 440 439 438 437 436 435 434 433 432 431 430 429\n",
      " 428 427 426 425 424 423 422 421 420 419 418 417 416 415 414 413 412 411\n",
      " 410 409 408 407 406 405 404 403 402 401 400 399 398 397 396 395 394 393\n",
      " 392 391 390 389 388 387 386 385 384 383 382 381 380 379 378 377 376 375\n",
      " 374 373 372 371 370 369 368 367 366 365 364 363 362 361 360 359 358 357\n",
      " 356 355 354 353 352 351 350 349 348 347 346 345 344 343 342 341 340 339\n",
      " 338 337 336 335 334 333 332 331 330 329 328 327 326 325 324 323 322 321\n",
      " 320 319 318 317 316 315 314 313 312 311 310 309 308 307 306 305 304 303\n",
      " 302 301 300 299 298 297 296 295 294 293 292 291 290 289 288 287 286 285\n",
      " 284 283 282 281 280 279 278 277 276 275 274 273 272 271 270 269 268 267\n",
      " 266 265 264 263 262 261 260 259 258 257 256 255 254 253 252 251 250 249\n",
      " 248 247 246 245 244 243 242 241 240 239 238 237 236 235 234 233 232 231\n",
      " 230 229 228 227 226 225 224 223 222 221 220 219 218 217 216 215 214 213\n",
      " 212 211 210 209 208 207 206 205 204 203 202 201 200 199 198 197 196 195\n",
      " 194 193 192 191 190 189 188 187 186 185 184 183 182 181 180 179 178 177\n",
      " 176 175 174 173 172 171 170 169 168 167 166 165 164 163 162 161 160 159\n",
      " 158 157 156 155 154 153 152 151 150 149 148 147 146 145 144 143 142 141\n",
      " 140 139 138 137 136 135 134 133 132 131 130 129 128 127 126 125 124 123\n",
      " 122 121 120 119 118 117 116 115 114 113 112 111 110 109 108 107 106 105\n",
      " 104 103 102 101 100  99  98  97  96  95  94  93  92  91  90  89  88  87\n",
      "  86  85  84  83  82  81  80  79  78  77  76  75  74  73  72  71  70  69\n",
      "  68  67  66  65  64  63  62  61  60  59  58  57  56  55  54  53  52  51\n",
      "  50  49  48  47  46  45  44  43  42  41  40  39  38  37  36  35  34  33\n",
      "  32  31  30  29  28  27  26  25  24  23  22  21  20  19  18  17  16  15\n",
      "  14  13  12  11  10   9   8   7   6   5   4   3   2]\n",
      "scales    [  1.625        1.62825651   1.6315261    1.63480885   1.63810484\n",
      "   1.64141414   1.64473684   1.64807302   1.65142276   1.65478615\n",
      "   1.65816327   1.66155419   1.66495902   1.66837782   1.6718107\n",
      "   1.67525773   1.67871901   1.68219462   1.68568465   1.68918919\n",
      "   1.69270833   1.69624217   1.69979079   1.7033543    1.70693277\n",
      "   1.71052632   1.71413502   1.71775899   1.72139831   1.72505308\n",
      "   1.7287234    1.73240938   1.73611111   1.73982869   1.74356223\n",
      "   1.74731183   1.75107759   1.75485961   1.75865801   1.76247289\n",
      "   1.76630435   1.77015251   1.77401747   1.77789934   1.78179825\n",
      "   1.78571429   1.78964758   1.79359823   1.79756637   1.80155211\n",
      "   1.80555556   1.80957684   1.81361607   1.81767338   1.82174888\n",
      "   1.8258427    1.82995495   1.83408578   1.83823529   1.84240363\n",
      "   1.84659091   1.85079727   1.85502283   1.85926773   1.86353211\n",
      "   1.86781609   1.87211982   1.87644342   1.88078704   1.88515081\n",
      "   1.88953488   1.89393939   1.89836449   1.9028103    1.907277\n",
      "   1.91176471   1.91627358   1.92080378   1.92535545   1.92992874\n",
      "   1.93452381   1.93914081   1.9437799    1.94844125   1.953125\n",
      "   1.95783133   1.96256039   1.96731235   1.97208738   1.97688564\n",
      "   1.98170732   1.98655257   1.99142157   1.9963145    2.00123153\n",
      "   2.00617284   2.01113861   2.01612903   2.02114428   2.02618454\n",
      "   2.03125      2.03634085   2.04145729   2.0465995    2.05176768\n",
      "   2.05696203   2.06218274   2.06743003   2.07270408   2.07800512\n",
      "   2.08333333   2.08868895   2.09407216   2.0994832    2.10492228\n",
      "   2.11038961   2.11588542   2.12140992   2.12696335   2.13254593\n",
      "   2.13815789   2.14379947   2.1494709    2.15517241   2.16090426\n",
      "   2.16666667   2.17245989   2.17828418   2.18413978   2.19002695\n",
      "   2.19594595   2.20189702   2.20788043   2.21389646   2.21994536\n",
      "   2.2260274    2.23214286   2.23829201   2.24447514   2.25069252\n",
      "   2.25694444   2.2632312    2.26955307   2.27591036   2.28230337\n",
      "   2.28873239   2.29519774   2.30169972   2.30823864   2.31481481\n",
      "   2.32142857   2.32808023   2.33477011   2.34149856   2.3482659\n",
      "   2.35507246   2.3619186    2.36880466   2.37573099   2.38269795\n",
      "   2.38970588   2.39675516   2.40384615   2.41097923   2.41815476\n",
      "   2.42537313   2.43263473   2.43993994   2.44728916   2.45468278\n",
      "   2.46212121   2.46960486   2.47713415   2.48470948   2.49233129\n",
      "   2.5          2.50771605   2.51547988   2.52329193   2.53115265\n",
      "   2.5390625    2.54702194   2.55503145   2.56309148   2.57120253\n",
      "   2.57936508   2.58757962   2.59584665   2.60416667   2.61254019\n",
      "   2.62096774   2.62944984   2.63798701   2.6465798    2.65522876\n",
      "   2.66393443   2.67269737   2.68151815   2.69039735   2.69933555\n",
      "   2.70833333   2.7173913    2.72651007   2.73569024   2.74493243\n",
      "   2.75423729   2.76360544   2.77303754   2.78253425   2.79209622\n",
      "   2.80172414   2.81141869   2.82118056   2.83101045   2.84090909\n",
      "   2.85087719   2.86091549   2.87102473   2.88120567   2.89145907\n",
      "   2.90178571   2.91218638   2.92266187   2.933213     2.94384058\n",
      "   2.95454545   2.96532847   2.97619048   2.98713235   2.99815498\n",
      "   3.00925926   3.0204461    3.03171642   3.04307116   3.05451128\n",
      "   3.06603774   3.07765152   3.08935361   3.10114504   3.11302682\n",
      "   3.125        3.13706564   3.14922481   3.1614786    3.17382812\n",
      "   3.18627451   3.1988189    3.21146245   3.22420635   3.23705179\n",
      "   3.25         3.26305221   3.27620968   3.28947368   3.30284553\n",
      "   3.31632653   3.32991803   3.3436214    3.35743802   3.37136929\n",
      "   3.38541667   3.39958159   3.41386555   3.42827004   3.44279661\n",
      "   3.45744681   3.47222222   3.48712446   3.50215517   3.51731602\n",
      "   3.5326087    3.54803493   3.56359649   3.57929515   3.59513274\n",
      "   3.61111111   3.62723214   3.64349776   3.65990991   3.67647059\n",
      "   3.69318182   3.71004566   3.72706422   3.74423963   3.76157407\n",
      "   3.77906977   3.79672897   3.81455399   3.83254717   3.8507109\n",
      "   3.86904762   3.88755981   3.90625      3.92512077   3.94417476\n",
      "   3.96341463   3.98284314   4.00246305   4.02227723   4.04228856\n",
      "   4.0625       4.08291457   4.10353535   4.12436548   4.14540816\n",
      "   4.16666667   4.18814433   4.20984456   4.23177083   4.2539267\n",
      "   4.27631579   4.2989418    4.32180851   4.34491979   4.36827957\n",
      "   4.39189189   4.41576087   4.43989071   4.46428571   4.48895028\n",
      "   4.51388889   4.53910615   4.56460674   4.59039548   4.61647727\n",
      "   4.64285714   4.66954023   4.69653179   4.72383721   4.75146199\n",
      "   4.77941176   4.80769231   4.83630952   4.86526946   4.89457831\n",
      "   4.92424242   4.95426829   4.98466258   5.0154321    5.04658385\n",
      "   5.078125     5.11006289   5.14240506   5.17515924   5.20833333\n",
      "   5.24193548   5.27597403   5.31045752   5.34539474   5.3807947\n",
      "   5.41666667   5.45302013   5.48986486   5.52721088   5.56506849\n",
      "   5.60344828   5.64236111   5.68181818   5.72183099   5.76241135\n",
      "   5.80357143   5.84532374   5.88768116   5.93065693   5.97426471\n",
      "   6.01851852   6.06343284   6.10902256   6.15530303   6.20229008\n",
      "   6.25         6.29844961   6.34765625   6.3976378    6.4484127\n",
      "   6.5          6.55241935   6.60569106   6.65983607   6.71487603\n",
      "   6.77083333   6.82773109   6.88559322   6.94444444   7.00431034\n",
      "   7.06521739   7.12719298   7.19026549   7.25446429   7.31981982\n",
      "   7.38636364   7.45412844   7.52314815   7.59345794   7.66509434\n",
      "   7.73809524   7.8125       7.88834951   7.96568627   8.04455446\n",
      "   8.125        8.20707071   8.29081633   8.37628866   8.46354167\n",
      "   8.55263158   8.64361702   8.73655914   8.83152174   8.92857143\n",
      "   9.02777778   9.12921348   9.23295455   9.33908046   9.44767442\n",
      "   9.55882353   9.67261905   9.78915663   9.90853659  10.0308642\n",
      "  10.15625     10.28481013  10.41666667  10.55194805  10.69078947\n",
      "  10.83333333  10.97972973  11.13013699  11.28472222  11.44366197\n",
      "  11.60714286  11.77536232  11.94852941  12.12686567  12.31060606\n",
      "  12.5         12.6953125   12.8968254   13.10483871  13.31967213\n",
      "  13.54166667  13.77118644  14.00862069  14.25438596  14.50892857\n",
      "  14.77272727  15.0462963   15.33018868  15.625       15.93137255\n",
      "  16.25        16.58163265  16.92708333  17.28723404  17.66304348\n",
      "  18.05555556  18.46590909  18.89534884  19.3452381   19.81707317\n",
      "  20.3125      20.83333333  21.38157895  21.95945946  22.56944444\n",
      "  23.21428571  23.89705882  24.62121212  25.390625    26.20967742\n",
      "  27.08333333  28.01724138  29.01785714  30.09259259  31.25\n",
      "  32.5         33.85416667  35.32608696  36.93181818  38.69047619\n",
      "  40.625       42.76315789  45.13888889  47.79411765  50.78125\n",
      "  54.16666667  58.03571429  62.5         67.70833333  73.86363636\n",
      "  81.25        90.27777778 101.5625     116.07142857 135.41666667\n",
      " 162.5        203.125      270.83333333 406.25      ]\n",
      "right_c4_fre1_csp_data shape :  (200, 1001)\n"
     ]
    },
    {
     "data": {
      "image/png": "[encoded data removed]",
      "text/plain": [
       "<Figure size 576x576 with 4 Axes>"
      ]
     },
     "metadata": {
      "needs_background": "light"
     },
     "output_type": "display_data"
    },
    {
     "name": "stdout",
     "output_type": "stream",
     "text": [
      "(499,)\n"
     ]
    }
   ],
   "source": [
    "import matplotlib.pyplot as plt\n",
    "import numpy as np\n",
    "import pywt\n",
    "from matplotlib.font_manager import FontProperties\n",
    "\n",
    "\n",
    "fre_s_n = 0\n",
    "csp_xx = mybci.cal_W(freband_train_data_1[fre_s_n,train_label_1==0,:,:],freband_train_data_1[fre_s_n,train_label_1==1,:,:])\n",
    "\n",
    "\n",
    "\n",
    "#fre1_csp_data = mybci.apply_mix(CSP_W[0,:,:],freband_train_data[0,:,:,:])\n",
    "fre1_csp_data = mybci.apply_mix(csp_xx,freband_train_data_1[fre_s_n,:,:,:])\n",
    "\n",
    "print('fre1_csp_data shape ',fre1_csp_data.shape)\n",
    "\n",
    "t = np.arange(1001)/250\n",
    "\n",
    "wavename = 'morl'\n",
    "totalscal = 500  # 窗口长度\n",
    "fc = pywt.central_frequency(wavename)\n",
    "print('fc       ',fc)\n",
    "cparam = 2 * fc * totalscal\n",
    "print('cparam   ',cparam)\n",
    "\n",
    "scales = cparam / np.arange(totalscal, 1, -1)\n",
    "print(np.arange(totalscal, 1, -1))\n",
    "print('scales   ',scales)\n",
    "\n",
    "left_c3_fre1_csp_data = fre1_csp_data[train_label_1==0,0,:]\n",
    "left_c4_fre1_csp_data = fre1_csp_data[train_label_1==0,1,:]\n",
    "right_c3_fre1_csp_data = fre1_csp_data[train_label_1==1,0,:]\n",
    "right_c4_fre1_csp_data = fre1_csp_data[train_label_1==1,1,:]\n",
    "\n",
    "print('right_c4_fre1_csp_data shape : ',right_c4_fre1_csp_data.shape)\n",
    "\n",
    "\n",
    "[cwtmatr_right_C3, frequencies] = pywt.cwt(np.mean(left_c3_fre1_csp_data,axis=0), scales, wavename, 1.0 / sample_rate)\n",
    "[cwtmatr_right_C4, frequencies] = pywt.cwt(np.mean(left_c4_fre1_csp_data,axis=0), scales, wavename, 1.0 / sample_rate)\n",
    "[cwtmatr_left_C3, frequencies] = pywt.cwt(np.mean(right_c3_fre1_csp_data,axis=0), scales, wavename, 1.0 / sample_rate)\n",
    "[cwtmatr_left_C4, frequencies] = pywt.cwt(np.mean(right_c4_fre1_csp_data,axis=0), scales, wavename, 1.0 / sample_rate)\n",
    "plt.figure(figsize=(8, 8))\n",
    "plt.subplot(221)\n",
    "plt.contourf(t, frequencies, abs(cwtmatr_right_C3))\n",
    "plt.title('cwtmatr_right_C3')\n",
    "'''\n",
    "plt.subplot(323)\n",
    "plt.contourf(t, frequencies, abs(cwtmatr_right_Cz))\n",
    "plt.title('cwtmatr_right_Cz')\n",
    "'''\n",
    "plt.subplot(223)\n",
    "plt.contourf(t, frequencies, abs(cwtmatr_right_C4))\n",
    "plt.title('cwtmatr_right_C4')\n",
    "\n",
    "plt.subplot(222)\n",
    "plt.contourf(t, frequencies, abs(cwtmatr_left_C3))\n",
    "plt.title('cwtmatr_left_C3')\n",
    "'''\n",
    "plt.subplot(324)\n",
    "plt.contourf(t, frequencies, abs(cwtmatr_left_Cz))\n",
    "plt.title('cwtmatr_left_Cz')\n",
    "'''\n",
    "plt.subplot(224)\n",
    "plt.contourf(t, frequencies, abs(cwtmatr_left_C4))\n",
    "plt.title('cwtmatr_left_C4')\n",
    "plt.subplots_adjust(hspace=0.4)\n",
    "plt.show()\n",
    "print(frequencies.shape)"
   ]
  },
  {
   "cell_type": "code",
   "execution_count": 64,
   "metadata": {},
   "outputs": [
    {
     "data": {
      "image/png": "[encoded data removed]",
      "text/plain": [
       "<Figure size 1152x288 with 1 Axes>"
      ]
     },
     "metadata": {
      "needs_background": "light"
     },
     "output_type": "display_data"
    }
   ],
   "source": [
    "import pywt\n",
    "import numpy as np\n",
    "import matplotlib.pyplot as plt\n",
    "x = np.arange(512)\n",
    "y = np.sin(2*np.pi*x/32)\n",
    "\n",
    "coef, freqs=pywt.cwt(y,np.arange(1,129),'gaus1')\n",
    "\n",
    "plt.matshow(coef) # doctest: +SKIP\n",
    "\n",
    "plt.show() # doctest: +SKIP"
   ]
  },
  {
   "cell_type": "code",
   "execution_count": 73,
   "metadata": {},
   "outputs": [
    {
     "data": {
      "image/png": "[encoded data removed]",
      "text/plain": [
       "<Figure size 432x288 with 1 Axes>"
      ]
     },
     "metadata": {
      "needs_background": "light"
     },
     "output_type": "display_data"
    }
   ],
   "source": [
    "import pywt\n",
    "import numpy as np\n",
    "import matplotlib.pyplot as plt\n",
    "t = np.linspace(-0.5, 1.5, 500, endpoint=False)\n",
    "sig  = np.cos(2 * np.pi * 7 * t) \n",
    "widths = np.arange(1, 31)\n",
    "cwtmatr, freqs = pywt.cwt(np.mean(left_c3_fre1_csp_data,axis=0), widths, 'morl')\n",
    "plt.imshow(cwtmatr,cmap='PRGn', aspect='auto',vmax=abs(cwtmatr).max(), vmin=-abs(cwtmatr).max())  # doctest: +SKIP\n",
    "plt.show() # doctest: +SKIP"
   ]
  },
  {
   "cell_type": "markdown",
   "metadata": {},
   "source": [
    "训练集CSP特征提取"
   ]
  },
  {
   "cell_type": "code",
   "execution_count": 33,
   "metadata": {},
   "outputs": [
    {
     "name": "stdout",
     "output_type": "stream",
     "text": [
      "freband_train_csp_var shape : (5, 8400, 3)\n",
      "freband_train_csp_feat shape : (5, 8400, 2)\n"
     ]
    }
   ],
   "source": [
    "freband_train_csp_var =  np.zeros((fre_band_num,freband_train_data.shape[1],freband_train_data.shape[2]))\n",
    "freband_train_raw_var =  np.zeros((fre_band_num,freband_train_data.shape[1],freband_train_data.shape[2]))\n",
    "\n",
    "for i in range(fre_band_num):\n",
    "    freband_train_csp_var[i,:,:] = abs(mybci.logvar(mybci.apply_mix(CSP_W[i,:,:],freband_train_data[i,:,:,:])))\n",
    "    freband_train_raw_var[i,:,:] = abs(mybci.logvar(freband_train_data[i,:,:,:]))\n",
    "\n",
    "print('freband_train_csp_var shape :',freband_train_csp_var.shape)\n",
    "\n",
    "\n",
    "freband_train_csp_feat = np.zeros((fre_band_num,freband_train_data.shape[1],2))\n",
    "\n",
    "for i in range(fre_band_num):\n",
    "\n",
    "    _,b  =mybci.cal_csp_feature(freband_train_csp_var[i,:,:],fea_num=[0,-1])\n",
    "    _ , freband_train_csp_feat[i,:,:]= mybci.cal_csp_feature(freband_train_csp_var[i,:,:],fea_num=[0,-1])\n",
    "\n",
    "print('freband_train_csp_feat shape :',freband_train_csp_feat.shape)"
   ]
  },
  {
   "cell_type": "code",
   "execution_count": 34,
   "metadata": {},
   "outputs": [
    {
     "name": "stdout",
     "output_type": "stream",
     "text": [
      "freband_train_csp_feat_conb shape : (8400, 10)\n"
     ]
    }
   ],
   "source": [
    "freband_train_csp_feat_conb = np.zeros((freband_train_data.shape[0],2))\n",
    "\n",
    "freband_train_csp_feat_conb = freband_train_csp_feat[0,:,:]\n",
    "for i in range(fre_band_num-1):\n",
    "    freband_train_csp_feat_conb = np.concatenate((freband_train_csp_feat_conb,freband_train_csp_feat[i+1,:,:]),axis=1)\n",
    "\n",
    "print('freband_train_csp_feat_conb shape :',freband_train_csp_feat_conb.shape)"
   ]
  },
  {
   "cell_type": "markdown",
   "metadata": {},
   "source": [
    "测试集CSP特征提取"
   ]
  },
  {
   "cell_type": "code",
   "execution_count": 35,
   "metadata": {},
   "outputs": [
    {
     "name": "stdout",
     "output_type": "stream",
     "text": [
      "freband_train_csp_var shape : (5, 6720, 3)\n",
      "freband_test_csp_feat shape : (5, 6720, 2)\n"
     ]
    }
   ],
   "source": [
    "freband_test_csp_var =  np.zeros((fre_band_num,freband_test_data.shape[1],freband_test_data.shape[2]))\n",
    "\n",
    "for i in range(fre_band_num):\n",
    "    freband_test_csp_var[i,:,:] = abs(mybci.logvar(mybci.apply_mix(CSP_W[i,:,:],freband_test_data[i,:,:,:])))\n",
    "\n",
    "print('freband_train_csp_var shape :',freband_test_csp_var.shape)\n",
    "\n",
    "freband_test_csp_feat = np.zeros((fre_band_num,freband_test_data.shape[1],2))\n",
    "\n",
    "for i in range(fre_band_num):\n",
    "    _ , freband_test_csp_feat[i,:,:]= mybci.cal_csp_feature(freband_test_csp_var[i,:,:],fea_num=[0,-1])\n",
    "\n",
    "print('freband_test_csp_feat shape :',freband_test_csp_feat.shape)"
   ]
  },
  {
   "cell_type": "code",
   "execution_count": 36,
   "metadata": {},
   "outputs": [
    {
     "name": "stdout",
     "output_type": "stream",
     "text": [
      "freband_test_csp_feat_conb shape : (6720, 10)\n"
     ]
    }
   ],
   "source": [
    "freband_test_csp_feat_conb = np.zeros((freband_test_data.shape[0],2))\n",
    "\n",
    "freband_test_csp_feat_conb = freband_test_csp_feat[0,:,:]\n",
    "for i in range(fre_band_num-1):\n",
    "    freband_test_csp_feat_conb = np.concatenate((freband_test_csp_feat_conb,freband_test_csp_feat[i+1,:,:]),axis=1)\n",
    "\n",
    "print('freband_test_csp_feat_conb shape :',freband_test_csp_feat_conb.shape)"
   ]
  },
  {
   "cell_type": "markdown",
   "metadata": {},
   "source": [
    "将训练集的CSP特征与PSD特征融合"
   ]
  },
  {
   "cell_type": "code",
   "execution_count": 37,
   "metadata": {},
   "outputs": [
    {
     "name": "stdout",
     "output_type": "stream",
     "text": [
      "(8400, 25)\n"
     ]
    }
   ],
   "source": [
    "freband_train_feat = np.concatenate((freband_train_csp_feat_conb,freband_train_psd_feat_conb),axis=1)\n",
    "print(freband_train_feat.shape)"
   ]
  },
  {
   "cell_type": "markdown",
   "metadata": {},
   "source": [
    "将测试集的CSP特征与PSD特征融合"
   ]
  },
  {
   "cell_type": "code",
   "execution_count": 38,
   "metadata": {},
   "outputs": [
    {
     "name": "stdout",
     "output_type": "stream",
     "text": [
      "(6720, 25)\n"
     ]
    }
   ],
   "source": [
    "freband_test_feat = np.concatenate((freband_test_csp_feat_conb,freband_test_psd_feat_conb),axis=1)\n",
    "print(freband_test_feat.shape)"
   ]
  },
  {
   "cell_type": "markdown",
   "metadata": {},
   "source": [
    "数据分析：取两个csp特征"
   ]
  },
  {
   "cell_type": "code",
   "execution_count": 39,
   "metadata": {},
   "outputs": [
    {
     "name": "stdout",
     "output_type": "stream",
     "text": [
      "(3,)\n",
      "(3,)\n",
      "(3,)\n",
      "(3,)\n"
     ]
    },
    {
     "data": {
      "image/png": "[encoded data removed]",
      "text/plain": [
       "<Figure size 864x360 with 1 Axes>"
      ]
     },
     "metadata": {
      "needs_background": "light"
     },
     "output_type": "display_data"
    },
    {
     "data": {
      "image/png": "[encoded data removed]",
      "text/plain": [
       "<Figure size 864x360 with 1 Axes>"
      ]
     },
     "metadata": {
      "needs_background": "light"
     },
     "output_type": "display_data"
    }
   ],
   "source": [
    "freband_train_csp_var[1,0:5,:]\n",
    "\n",
    "mybci.plot_logvar(freband_train_csp_var[3,train_label==0,:],freband_train_csp_var[3,train_label==1,:])\n",
    "mybci.plot_logvar(freband_train_raw_var[0,train_label==0,:]/30,freband_train_raw_var[0,train_label==1,:]/30)"
   ]
  },
  {
   "cell_type": "code",
   "execution_count": 40,
   "metadata": {},
   "outputs": [
    {
     "data": {
      "text/plain": [
       "array([0., 1., 0., 1., 1.], dtype=float32)"
      ]
     },
     "execution_count": 40,
     "metadata": {},
     "output_type": "execute_result"
    }
   ],
   "source": [
    "train_label[0:5]"
   ]
  },
  {
   "cell_type": "code",
   "execution_count": 41,
   "metadata": {},
   "outputs": [
    {
     "data": {
      "text/plain": [
       "<matplotlib.collections.PathCollection at 0x1a4bb3413a0>"
      ]
     },
     "execution_count": 41,
     "metadata": {},
     "output_type": "execute_result"
    },
    {
     "data": {
      "image/png": "[encoded data removed]",
      "text/plain": [
       "<Figure size 432x288 with 1 Axes>"
      ]
     },
     "metadata": {
      "needs_background": "light"
     },
     "output_type": "display_data"
    }
   ],
   "source": [
    "plt.scatter(freband_train_csp_var[1,train_label==0,0],freband_train_csp_var[1,train_label==0,-1],c='r')\n",
    "plt.scatter(freband_train_csp_var[1,train_label==1,0],freband_train_csp_var[1,train_label==1,-1],c='b')\n"
   ]
  },
  {
   "cell_type": "markdown",
   "metadata": {},
   "source": [
    "### **<font color = carmine>分类器输出分类结果</font>**"
   ]
  },
  {
   "cell_type": "code",
   "execution_count": 42,
   "metadata": {},
   "outputs": [],
   "source": [
    "from sklearn.metrics import accuracy_score\n",
    "from sklearn.model_selection import cross_val_score\n",
    "from sklearn.svm import SVC\n",
    "from skfeature.function.statistical_based import f_score\n",
    "from sklearn.preprocessing import StandardScaler"
   ]
  },
  {
   "cell_type": "code",
   "execution_count": 43,
   "metadata": {},
   "outputs": [
    {
     "data": {
      "text/plain": [
       "\"\\nn_samples = freband_train_csp_feat.shape[1]\\n\\n\\n# perform evaluation on classification task\\nnum_fea = 14            # number of selected features\\nclf = svm.LinearSVC()    # linear SVM\\n\\nclf.fit(freband_train_csp_feat_conb,train_label)\\n\\n\\nscores = cross_val_score(clf, freband_train_csp_feat_conb, train_label, cv=10)\\n\\nscore = f_score.f_score(freband_train_csp_feat_conb,train_label)\\n\\n\\ncorrect = 0\\nfor train, test in ss:\\n    # obtain the f-score of each feature\\n    scores = cross_val_score(clf, freband_train_csp_feat_conb, train_label, cv=10)\\n    #score = f_score.f_score(freband_train_csp_feat_conb, train_label)\\n\\n    # rank features in descending order according to score\\n    idx = f_score.feature_ranking(scores)\\n\\n    # obtain the dataset on the selected features\\n    selected_features = freband_train_csp_feat_conb[:, idx[0:num_fea]]\\n\\n    # train a classification model with the selected features on the training dataset\\n    clf.fit(selected_features[train], train_label[train])\\n\\n    # predict the class labels of test data\\n    y_predict = clf.predict(selected_features[test])\\n\\n    # obtain the classification accuracy on the test data\\n    acc = accuracy_score(train_label[test], y_predict)\\n    correct = correct + acc\\n\\n# output the average classification accuracy over all 10 folds\\nprint('Accuracy:', float(correct)/10)\\n\""
      ]
     },
     "execution_count": 43,
     "metadata": {},
     "output_type": "execute_result"
    }
   ],
   "source": [
    "'''\n",
    "n_samples = freband_train_csp_feat.shape[1]\n",
    "\n",
    "\n",
    "# perform evaluation on classification task\n",
    "num_fea = 14            # number of selected features\n",
    "clf = svm.LinearSVC()    # linear SVM\n",
    "\n",
    "clf.fit(freband_train_csp_feat_conb,train_label)\n",
    "\n",
    "\n",
    "scores = cross_val_score(clf, freband_train_csp_feat_conb, train_label, cv=10)\n",
    "\n",
    "score = f_score.f_score(freband_train_csp_feat_conb,train_label)\n",
    "\n",
    "\n",
    "correct = 0\n",
    "for train, test in ss:\n",
    "    # obtain the f-score of each feature\n",
    "    scores = cross_val_score(clf, freband_train_csp_feat_conb, train_label, cv=10)\n",
    "    #score = f_score.f_score(freband_train_csp_feat_conb, train_label)\n",
    "\n",
    "    # rank features in descending order according to score\n",
    "    idx = f_score.feature_ranking(scores)\n",
    "\n",
    "    # obtain the dataset on the selected features\n",
    "    selected_features = freband_train_csp_feat_conb[:, idx[0:num_fea]]\n",
    "\n",
    "    # train a classification model with the selected features on the training dataset\n",
    "    clf.fit(selected_features[train], train_label[train])\n",
    "\n",
    "    # predict the class labels of test data\n",
    "    y_predict = clf.predict(selected_features[test])\n",
    "\n",
    "    # obtain the classification accuracy on the test data\n",
    "    acc = accuracy_score(train_label[test], y_predict)\n",
    "    correct = correct + acc\n",
    "\n",
    "# output the average classification accuracy over all 10 folds\n",
    "print('Accuracy:', float(correct)/10)\n",
    "'''"
   ]
  },
  {
   "cell_type": "code",
   "execution_count": 44,
   "metadata": {},
   "outputs": [],
   "source": [
    "#归一化\n",
    "scaler = StandardScaler()\n",
    "scaler.fit(freband_train_feat)\n",
    "train_feat = scaler.transform(freband_train_feat)\n",
    "\n",
    "clf = SVC(gamma='auto')  #\n",
    "\n",
    "clf.fit(train_feat,train_label)\n",
    "\n",
    "acc = 1 - (np.sum(abs(clf.predict(train_feat) - train_label)) / freband_train_csp_feat_conb.shape[0])"
   ]
  },
  {
   "cell_type": "code",
   "execution_count": 45,
   "metadata": {},
   "outputs": [
    {
     "name": "stdout",
     "output_type": "stream",
     "text": [
      "训练集上面的分类准确度为 :  0.8972619047619048\n"
     ]
    }
   ],
   "source": [
    "\n",
    "acc = 1 - (np.sum(abs(clf.predict(train_feat) - train_label)) / freband_train_csp_feat_conb.shape[0])\n",
    "print('训练集上面的分类准确度为 : ',acc)"
   ]
  },
  {
   "cell_type": "markdown",
   "metadata": {},
   "source": [
    "## **<font color = yellow>测试集提取CSP，并且预测结果</font>**"
   ]
  },
  {
   "cell_type": "code",
   "execution_count": 46,
   "metadata": {},
   "outputs": [
    {
     "data": {
      "text/plain": [
       "'\\nfreband_test_csp_var =  np.zeros((fre_band_num,freband_test_data.shape[1],freband_test_data.shape[2]))\\nprint(freband_test_csp_var.shape)\\n\\n\\nfor i in range(fre_band_num):\\n    freband_test_csp_var[i,:,:] = abs(mybci.logvar(mybci.apply_mix(CSP_W[i,:,:],freband_test_data[i,:,:,:])))\\n'"
      ]
     },
     "execution_count": 46,
     "metadata": {},
     "output_type": "execute_result"
    }
   ],
   "source": [
    "'''\n",
    "freband_test_csp_var =  np.zeros((fre_band_num,freband_test_data.shape[1],freband_test_data.shape[2]))\n",
    "print(freband_test_csp_var.shape)\n",
    "\n",
    "\n",
    "for i in range(fre_band_num):\n",
    "    freband_test_csp_var[i,:,:] = abs(mybci.logvar(mybci.apply_mix(CSP_W[i,:,:],freband_test_data[i,:,:,:])))\n",
    "'''"
   ]
  },
  {
   "cell_type": "code",
   "execution_count": 47,
   "metadata": {},
   "outputs": [
    {
     "name": "stdout",
     "output_type": "stream",
     "text": [
      "测试集的预测准确率为: 0.6449404761904762\n"
     ]
    }
   ],
   "source": [
    "test_csp = scaler.transform(freband_test_feat)\n",
    "\n",
    "test_acc = 1 - (np.sum(abs(clf.predict(test_csp) - test_label)) / freband_test_csp_feat_conb.shape[0])\n",
    "print('测试集的预测准确率为:',test_acc)"
   ]
  },
  {
   "cell_type": "markdown",
   "metadata": {},
   "source": [
    "## **<font color = yellow>kappa值评价标准</font>**"
   ]
  },
  {
   "cell_type": "code",
   "execution_count": 48,
   "metadata": {},
   "outputs": [
    {
     "name": "stdout",
     "output_type": "stream",
     "text": [
      "kappa score value is : 0.28988095238095235\n"
     ]
    }
   ],
   "source": [
    "from sklearn.metrics import cohen_kappa_score\n",
    "\n",
    "kappa_score = cohen_kappa_score(clf.predict(test_csp),test_label)\n",
    "\n",
    "print('kappa score value is :',kappa_score)"
   ]
  },
  {
   "cell_type": "code",
   "execution_count": 49,
   "metadata": {},
   "outputs": [
    {
     "data": {
      "text/plain": [
       "array([1., 0., 1., ..., 1., 1., 0.], dtype=float32)"
      ]
     },
     "execution_count": 49,
     "metadata": {},
     "output_type": "execute_result"
    }
   ],
   "source": [
    "test_label"
   ]
  }
 ],
 "metadata": {
  "kernelspec": {
   "display_name": "Python 3.8.12 ('ML_py38_CU')",
   "language": "python",
   "name": "python3"
  },
  "language_info": {
   "codemirror_mode": {
    "name": "ipython",
    "version": 3
   },
   "file_extension": ".py",
   "mimetype": "text/x-python",
   "name": "python",
   "nbconvert_exporter": "python",
   "pygments_lexer": "ipython3",
   "version": "3.8.12"
  },
  "orig_nbformat": 4,
  "vscode": {
   "interpreter": {
    "hash": "f63accb9ba8985df9f536a095f88d19619b4a4a8d3cbc4c205ed91dd20c1db81"
   }
  }
 },
 "nbformat": 4,
 "nbformat_minor": 2
}
