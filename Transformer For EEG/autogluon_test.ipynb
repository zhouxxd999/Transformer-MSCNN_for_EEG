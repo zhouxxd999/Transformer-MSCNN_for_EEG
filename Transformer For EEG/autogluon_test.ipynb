{
 "cells": [
  {
   "cell_type": "code",
   "execution_count": null,
   "metadata": {},
   "outputs": [],
   "source": [
    "import numpy as np\n",
    "import pandas as pd\n",
    "from importlib import import_module\n",
    "import torch\n",
    "from utils import concatenateAllData,getAllSubClassData,MyDataset,MSCNN_Dataset\n",
    "from torch.utils.data import DataLoader\n",
    "from train import train\n",
    "\n",
    "model_name = 'MSCNN'\n",
    "\n",
    "data_dir = 'data/train'\n",
    "\n",
    "x = import_module('models.' + model_name)\n",
    "config = x.Config()\n",
    "print('all class number : ',config.num_classes)"
   ]
  },
  {
   "cell_type": "code",
   "execution_count": null,
   "metadata": {},
   "outputs": [],
   "source": [
    "base_dir = 'data/train'\n",
    "from sklearn.model_selection import train_test_split\n",
    "left_data,right_data,_,_ =concatenateAllData(data_dir,num_sub=109)\n",
    "leftdata,rightdata,_,_= getAllSubClassData(left_data,right_data,_,_)\n",
    "all_data = np.concatenate((leftdata,rightdata),axis=0)\n",
    "label = np.concatenate((np.zeros(leftdata.shape[0],),np.ones(rightdata.shape[0],)))\n",
    "\n",
    "print(all_data.shape)\n",
    "print(label.shape)"
   ]
  },
  {
   "cell_type": "code",
   "execution_count": null,
   "metadata": {},
   "outputs": [],
   "source": [
    "#切分数据集\n",
    "train_data,val_data,train_label,val_label = train_test_split(all_data,label,test_size=0.2,random_state=42,shuffle=True)\n",
    "\n",
    "\n",
    "train_dataset = MSCNN_Dataset(train_data,train_label,config)\n",
    "train_loader = DataLoader(train_dataset,config.batch_size,shuffle=True)\n",
    "\n",
    "\n",
    "val_dataset = MSCNN_Dataset(val_data,val_label,config)\n",
    "val_loader = DataLoader(val_dataset,config.batch_size,shuffle=True)\n",
    "\n",
    "model = x.Model(config).to(config.device)\n",
    "\n",
    "train(config,model,train_loader,val_loader,val_loader)"
   ]
  },
  {
   "cell_type": "code",
   "execution_count": null,
   "metadata": {},
   "outputs": [],
   "source": []
  }
 ],
 "metadata": {
  "kernelspec": {
   "display_name": "Python 3.8.13 ('ML_py38_CU_vs')",
   "language": "python",
   "name": "python3"
  },
  "language_info": {
   "name": "python",
   "version": "3.8.13"
  },
  "orig_nbformat": 4,
  "vscode": {
   "interpreter": {
    "hash": "daee3ef7e13f2ba8563ff1f376eed2a156efc7e69720623b8e14dd8374738d01"
   }
  }
 },
 "nbformat": 4,
 "nbformat_minor": 2
}
